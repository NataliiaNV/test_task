{
 "cells": [
  {
   "cell_type": "markdown",
   "metadata": {},
   "source": [
    "# 1.Import libraries"
   ]
  },
  {
   "cell_type": "code",
   "execution_count": 1,
   "metadata": {},
   "outputs": [],
   "source": [
    "import google.auth\n",
    "from google.cloud import bigquery\n",
    "from google.cloud import bigquery_storage\n"
   ]
  },
  {
   "cell_type": "code",
   "execution_count": 61,
   "metadata": {},
   "outputs": [],
   "source": [
    "import numpy as np \n",
    "import pandas as pd\n",
    "import plotly.express as px\n",
    "import matplotlib.pyplot as plt\n",
    "import seaborn as sns\n",
    "%matplotlib inline\n",
    "\n",
    "import warnings\n",
    "warnings.filterwarnings('ignore')"
   ]
  },
  {
   "cell_type": "markdown",
   "metadata": {},
   "source": [
    "# 2.Load data\n",
    " "
   ]
  },
  {
   "cell_type": "code",
   "execution_count": 3,
   "metadata": {},
   "outputs": [],
   "source": [
    "# make clients\n",
    "credentials, your_project_id = google.auth.default()\n",
    "\n",
    "bqclient = bigquery.Client(credentials=credentials, project=your_project_id,)\n",
    "bqstorageclient = bigquery_storage.BigQueryReadClient(credentials=credentials)\n",
    "\n",
    "\n",
    "# define  query\n",
    "query_sales = \"SELECT * FROM `bigquery-public-data.iowa_liquor_sales.sales` \"\n"
   ]
  },
  {
   "cell_type": "code",
   "execution_count": 4,
   "metadata": {},
   "outputs": [
    {
     "data": {
      "application/vnd.jupyter.widget-view+json": {
       "model_id": "fd90a9252a4941e182002bb7449050d0",
       "version_major": 2,
       "version_minor": 0
      },
      "text/plain": [
       "HBox(children=(FloatProgress(value=0.0, description='Downloading', max=19666763.0, style=ProgressStyle(descrip…"
      ]
     },
     "metadata": {},
     "output_type": "display_data"
    },
    {
     "name": "stdout",
     "output_type": "stream",
     "text": [
      "\n"
     ]
    }
   ],
   "source": [
    "# getting data\n",
    "# i've also added the tqdm progress bar for seeing progress\n",
    "\n",
    "df = (\n",
    "    bqclient.query(query_sales)\n",
    "            .result()\n",
    "            .to_dataframe(\n",
    "                bqstorage_client=bqstorageclient,\n",
    "                progress_bar_type='tqdm_notebook',)\n",
    ")"
   ]
  },
  {
   "cell_type": "markdown",
   "metadata": {},
   "source": [
    "# 3.Overview: basic understanding of our dataset"
   ]
  },
  {
   "cell_type": "code",
   "execution_count": 5,
   "metadata": {
    "scrolled": true
   },
   "outputs": [
    {
     "data": {
      "text/html": [
       "<div>\n",
       "<style scoped>\n",
       "    .dataframe tbody tr th:only-of-type {\n",
       "        vertical-align: middle;\n",
       "    }\n",
       "\n",
       "    .dataframe tbody tr th {\n",
       "        vertical-align: top;\n",
       "    }\n",
       "\n",
       "    .dataframe thead th {\n",
       "        text-align: right;\n",
       "    }\n",
       "</style>\n",
       "<table border=\"1\" class=\"dataframe\">\n",
       "  <thead>\n",
       "    <tr style=\"text-align: right;\">\n",
       "      <th></th>\n",
       "      <th>invoice_and_item_number</th>\n",
       "      <th>date</th>\n",
       "      <th>store_number</th>\n",
       "      <th>store_name</th>\n",
       "      <th>address</th>\n",
       "      <th>city</th>\n",
       "      <th>zip_code</th>\n",
       "      <th>store_location</th>\n",
       "      <th>county_number</th>\n",
       "      <th>county</th>\n",
       "      <th>...</th>\n",
       "      <th>item_number</th>\n",
       "      <th>item_description</th>\n",
       "      <th>pack</th>\n",
       "      <th>bottle_volume_ml</th>\n",
       "      <th>state_bottle_cost</th>\n",
       "      <th>state_bottle_retail</th>\n",
       "      <th>bottles_sold</th>\n",
       "      <th>sale_dollars</th>\n",
       "      <th>volume_sold_liters</th>\n",
       "      <th>volume_sold_gallons</th>\n",
       "    </tr>\n",
       "  </thead>\n",
       "  <tbody>\n",
       "    <tr>\n",
       "      <th>0</th>\n",
       "      <td>INV-00144300018</td>\n",
       "      <td>2016-09-06</td>\n",
       "      <td>4068</td>\n",
       "      <td>Sa Petro Mart</td>\n",
       "      <td>136  1ST ST</td>\n",
       "      <td>West Des Moines</td>\n",
       "      <td>50265</td>\n",
       "      <td>POINT (-93.703344 41.570743)</td>\n",
       "      <td>77</td>\n",
       "      <td>POLK</td>\n",
       "      <td>...</td>\n",
       "      <td>88183</td>\n",
       "      <td>Olmeca Altos Plata Mini DISCO</td>\n",
       "      <td>12</td>\n",
       "      <td>500</td>\n",
       "      <td>6.6</td>\n",
       "      <td>9.90</td>\n",
       "      <td>2</td>\n",
       "      <td>19.8</td>\n",
       "      <td>1.0</td>\n",
       "      <td>0.26</td>\n",
       "    </tr>\n",
       "    <tr>\n",
       "      <th>1</th>\n",
       "      <td>INV-02109800021</td>\n",
       "      <td>2016-12-13</td>\n",
       "      <td>4377</td>\n",
       "      <td>Quik Trip #562 / NE 14th / DSM</td>\n",
       "      <td>4801 NE 14th St</td>\n",
       "      <td>Des Moines</td>\n",
       "      <td>50313</td>\n",
       "      <td>POINT (-93.600266 41.648602)</td>\n",
       "      <td>77</td>\n",
       "      <td>POLK</td>\n",
       "      <td>...</td>\n",
       "      <td>89191</td>\n",
       "      <td>Jose Cuervo Especial Reposado Tequila Mini</td>\n",
       "      <td>12</td>\n",
       "      <td>500</td>\n",
       "      <td>11.5</td>\n",
       "      <td>17.25</td>\n",
       "      <td>2</td>\n",
       "      <td>34.5</td>\n",
       "      <td>1.0</td>\n",
       "      <td>0.26</td>\n",
       "    </tr>\n",
       "    <tr>\n",
       "      <th>2</th>\n",
       "      <td>INV-15109100105</td>\n",
       "      <td>2018-10-17</td>\n",
       "      <td>2603</td>\n",
       "      <td>Hy-Vee Wine and Spirits / Bettendorf</td>\n",
       "      <td>2890 Devils Glen Road</td>\n",
       "      <td>Bettendorf</td>\n",
       "      <td>52722</td>\n",
       "      <td>POINT (-90.483701 41.552338)</td>\n",
       "      <td>82</td>\n",
       "      <td>SCOTT</td>\n",
       "      <td>...</td>\n",
       "      <td>89193</td>\n",
       "      <td>Jose Cuervo Especial Reposado</td>\n",
       "      <td>48</td>\n",
       "      <td>200</td>\n",
       "      <td>3.0</td>\n",
       "      <td>4.50</td>\n",
       "      <td>5</td>\n",
       "      <td>22.5</td>\n",
       "      <td>1.0</td>\n",
       "      <td>0.26</td>\n",
       "    </tr>\n",
       "    <tr>\n",
       "      <th>3</th>\n",
       "      <td>INV-01946000054</td>\n",
       "      <td>2016-12-05</td>\n",
       "      <td>4892</td>\n",
       "      <td>Sara Mini Mart</td>\n",
       "      <td>1026 W River Dr</td>\n",
       "      <td>Davenport</td>\n",
       "      <td>52802</td>\n",
       "      <td>POINT (-90.588375 41.520158)</td>\n",
       "      <td>82</td>\n",
       "      <td>SCOTT</td>\n",
       "      <td>...</td>\n",
       "      <td>89193</td>\n",
       "      <td>Jose Cuervo Especial Reposado Tequila</td>\n",
       "      <td>48</td>\n",
       "      <td>200</td>\n",
       "      <td>3.0</td>\n",
       "      <td>4.50</td>\n",
       "      <td>5</td>\n",
       "      <td>22.5</td>\n",
       "      <td>1.0</td>\n",
       "      <td>0.26</td>\n",
       "    </tr>\n",
       "    <tr>\n",
       "      <th>4</th>\n",
       "      <td>INV-15675100017</td>\n",
       "      <td>2018-11-13</td>\n",
       "      <td>4384</td>\n",
       "      <td>Kum &amp; Go #2093 / Adel</td>\n",
       "      <td>409 Nile Kinnick Dr</td>\n",
       "      <td>Adel</td>\n",
       "      <td>50003</td>\n",
       "      <td>POINT (-94.017511 41.614114)</td>\n",
       "      <td>25</td>\n",
       "      <td>DALLAS</td>\n",
       "      <td>...</td>\n",
       "      <td>89191</td>\n",
       "      <td>Jose Cuervo Especial Reposado Mini</td>\n",
       "      <td>12</td>\n",
       "      <td>500</td>\n",
       "      <td>11.5</td>\n",
       "      <td>17.25</td>\n",
       "      <td>2</td>\n",
       "      <td>34.5</td>\n",
       "      <td>1.0</td>\n",
       "      <td>0.26</td>\n",
       "    </tr>\n",
       "  </tbody>\n",
       "</table>\n",
       "<p>5 rows × 24 columns</p>\n",
       "</div>"
      ],
      "text/plain": [
       "  invoice_and_item_number        date store_number  \\\n",
       "0         INV-00144300018  2016-09-06         4068   \n",
       "1         INV-02109800021  2016-12-13         4377   \n",
       "2         INV-15109100105  2018-10-17         2603   \n",
       "3         INV-01946000054  2016-12-05         4892   \n",
       "4         INV-15675100017  2018-11-13         4384   \n",
       "\n",
       "                             store_name                address  \\\n",
       "0                         Sa Petro Mart            136  1ST ST   \n",
       "1        Quik Trip #562 / NE 14th / DSM        4801 NE 14th St   \n",
       "2  Hy-Vee Wine and Spirits / Bettendorf  2890 Devils Glen Road   \n",
       "3                        Sara Mini Mart        1026 W River Dr   \n",
       "4                 Kum & Go #2093 / Adel    409 Nile Kinnick Dr   \n",
       "\n",
       "              city zip_code                store_location county_number  \\\n",
       "0  West Des Moines    50265  POINT (-93.703344 41.570743)            77   \n",
       "1       Des Moines    50313  POINT (-93.600266 41.648602)            77   \n",
       "2       Bettendorf    52722  POINT (-90.483701 41.552338)            82   \n",
       "3        Davenport    52802  POINT (-90.588375 41.520158)            82   \n",
       "4             Adel    50003  POINT (-94.017511 41.614114)            25   \n",
       "\n",
       "   county  ... item_number                            item_description pack  \\\n",
       "0    POLK  ...       88183               Olmeca Altos Plata Mini DISCO   12   \n",
       "1    POLK  ...       89191  Jose Cuervo Especial Reposado Tequila Mini   12   \n",
       "2   SCOTT  ...       89193               Jose Cuervo Especial Reposado   48   \n",
       "3   SCOTT  ...       89193       Jose Cuervo Especial Reposado Tequila   48   \n",
       "4  DALLAS  ...       89191          Jose Cuervo Especial Reposado Mini   12   \n",
       "\n",
       "  bottle_volume_ml state_bottle_cost state_bottle_retail  bottles_sold  \\\n",
       "0              500               6.6                9.90             2   \n",
       "1              500              11.5               17.25             2   \n",
       "2              200               3.0                4.50             5   \n",
       "3              200               3.0                4.50             5   \n",
       "4              500              11.5               17.25             2   \n",
       "\n",
       "   sale_dollars  volume_sold_liters  volume_sold_gallons  \n",
       "0          19.8                 1.0                 0.26  \n",
       "1          34.5                 1.0                 0.26  \n",
       "2          22.5                 1.0                 0.26  \n",
       "3          22.5                 1.0                 0.26  \n",
       "4          34.5                 1.0                 0.26  \n",
       "\n",
       "[5 rows x 24 columns]"
      ]
     },
     "execution_count": 5,
     "metadata": {},
     "output_type": "execute_result"
    }
   ],
   "source": [
    "df.head()"
   ]
  },
  {
   "cell_type": "code",
   "execution_count": 6,
   "metadata": {},
   "outputs": [
    {
     "name": "stdout",
     "output_type": "stream",
     "text": [
      "<class 'pandas.core.frame.DataFrame'>\n",
      "RangeIndex: 19666763 entries, 0 to 19666762\n",
      "Data columns (total 24 columns):\n",
      " #   Column                   Dtype  \n",
      "---  ------                   -----  \n",
      " 0   invoice_and_item_number  object \n",
      " 1   date                     object \n",
      " 2   store_number             object \n",
      " 3   store_name               object \n",
      " 4   address                  object \n",
      " 5   city                     object \n",
      " 6   zip_code                 object \n",
      " 7   store_location           object \n",
      " 8   county_number            object \n",
      " 9   county                   object \n",
      " 10  category                 object \n",
      " 11  category_name            object \n",
      " 12  vendor_number            object \n",
      " 13  vendor_name              object \n",
      " 14  item_number              object \n",
      " 15  item_description         object \n",
      " 16  pack                     int64  \n",
      " 17  bottle_volume_ml         int64  \n",
      " 18  state_bottle_cost        float64\n",
      " 19  state_bottle_retail      float64\n",
      " 20  bottles_sold             int64  \n",
      " 21  sale_dollars             float64\n",
      " 22  volume_sold_liters       float64\n",
      " 23  volume_sold_gallons      float64\n",
      "dtypes: float64(5), int64(3), object(16)\n",
      "memory usage: 3.5+ GB\n"
     ]
    }
   ],
   "source": [
    "df.info()"
   ]
  },
  {
   "cell_type": "code",
   "execution_count": 7,
   "metadata": {},
   "outputs": [
    {
     "data": {
      "text/html": [
       "<div>\n",
       "<style scoped>\n",
       "    .dataframe tbody tr th:only-of-type {\n",
       "        vertical-align: middle;\n",
       "    }\n",
       "\n",
       "    .dataframe tbody tr th {\n",
       "        vertical-align: top;\n",
       "    }\n",
       "\n",
       "    .dataframe thead th {\n",
       "        text-align: right;\n",
       "    }\n",
       "</style>\n",
       "<table border=\"1\" class=\"dataframe\">\n",
       "  <thead>\n",
       "    <tr style=\"text-align: right;\">\n",
       "      <th></th>\n",
       "      <th>count</th>\n",
       "      <th>mean</th>\n",
       "      <th>std</th>\n",
       "      <th>min</th>\n",
       "      <th>25%</th>\n",
       "      <th>50%</th>\n",
       "      <th>75%</th>\n",
       "      <th>max</th>\n",
       "    </tr>\n",
       "  </thead>\n",
       "  <tbody>\n",
       "    <tr>\n",
       "      <th>pack</th>\n",
       "      <td>19666763.0</td>\n",
       "      <td>12.276847</td>\n",
       "      <td>7.665563</td>\n",
       "      <td>1.0</td>\n",
       "      <td>6.00</td>\n",
       "      <td>12.00</td>\n",
       "      <td>12.00</td>\n",
       "      <td>336.00</td>\n",
       "    </tr>\n",
       "    <tr>\n",
       "      <th>bottle_volume_ml</th>\n",
       "      <td>19666763.0</td>\n",
       "      <td>911.595227</td>\n",
       "      <td>664.530001</td>\n",
       "      <td>0.0</td>\n",
       "      <td>750.00</td>\n",
       "      <td>750.00</td>\n",
       "      <td>1000.00</td>\n",
       "      <td>378000.00</td>\n",
       "    </tr>\n",
       "    <tr>\n",
       "      <th>state_bottle_cost</th>\n",
       "      <td>19666753.0</td>\n",
       "      <td>9.933429</td>\n",
       "      <td>10.747194</td>\n",
       "      <td>0.0</td>\n",
       "      <td>5.50</td>\n",
       "      <td>8.20</td>\n",
       "      <td>12.05</td>\n",
       "      <td>7680.00</td>\n",
       "    </tr>\n",
       "    <tr>\n",
       "      <th>state_bottle_retail</th>\n",
       "      <td>19666753.0</td>\n",
       "      <td>14.914822</td>\n",
       "      <td>16.120633</td>\n",
       "      <td>0.0</td>\n",
       "      <td>8.25</td>\n",
       "      <td>12.37</td>\n",
       "      <td>18.08</td>\n",
       "      <td>11520.00</td>\n",
       "    </tr>\n",
       "    <tr>\n",
       "      <th>bottles_sold</th>\n",
       "      <td>19666763.0</td>\n",
       "      <td>10.314832</td>\n",
       "      <td>27.805672</td>\n",
       "      <td>0.0</td>\n",
       "      <td>3.00</td>\n",
       "      <td>6.00</td>\n",
       "      <td>12.00</td>\n",
       "      <td>15000.00</td>\n",
       "    </tr>\n",
       "    <tr>\n",
       "      <th>sale_dollars</th>\n",
       "      <td>19666753.0</td>\n",
       "      <td>134.857842</td>\n",
       "      <td>464.388591</td>\n",
       "      <td>0.0</td>\n",
       "      <td>31.50</td>\n",
       "      <td>71.52</td>\n",
       "      <td>139.32</td>\n",
       "      <td>279557.28</td>\n",
       "    </tr>\n",
       "    <tr>\n",
       "      <th>volume_sold_liters</th>\n",
       "      <td>19666763.0</td>\n",
       "      <td>9.129828</td>\n",
       "      <td>33.575605</td>\n",
       "      <td>0.0</td>\n",
       "      <td>1.50</td>\n",
       "      <td>5.00</td>\n",
       "      <td>10.50</td>\n",
       "      <td>15000.00</td>\n",
       "    </tr>\n",
       "    <tr>\n",
       "      <th>volume_sold_gallons</th>\n",
       "      <td>19666763.0</td>\n",
       "      <td>2.410494</td>\n",
       "      <td>8.869791</td>\n",
       "      <td>0.0</td>\n",
       "      <td>0.40</td>\n",
       "      <td>1.32</td>\n",
       "      <td>2.77</td>\n",
       "      <td>3962.58</td>\n",
       "    </tr>\n",
       "  </tbody>\n",
       "</table>\n",
       "</div>"
      ],
      "text/plain": [
       "                          count        mean         std  min     25%     50%  \\\n",
       "pack                 19666763.0   12.276847    7.665563  1.0    6.00   12.00   \n",
       "bottle_volume_ml     19666763.0  911.595227  664.530001  0.0  750.00  750.00   \n",
       "state_bottle_cost    19666753.0    9.933429   10.747194  0.0    5.50    8.20   \n",
       "state_bottle_retail  19666753.0   14.914822   16.120633  0.0    8.25   12.37   \n",
       "bottles_sold         19666763.0   10.314832   27.805672  0.0    3.00    6.00   \n",
       "sale_dollars         19666753.0  134.857842  464.388591  0.0   31.50   71.52   \n",
       "volume_sold_liters   19666763.0    9.129828   33.575605  0.0    1.50    5.00   \n",
       "volume_sold_gallons  19666763.0    2.410494    8.869791  0.0    0.40    1.32   \n",
       "\n",
       "                         75%        max  \n",
       "pack                   12.00     336.00  \n",
       "bottle_volume_ml     1000.00  378000.00  \n",
       "state_bottle_cost      12.05    7680.00  \n",
       "state_bottle_retail    18.08   11520.00  \n",
       "bottles_sold           12.00   15000.00  \n",
       "sale_dollars          139.32  279557.28  \n",
       "volume_sold_liters     10.50   15000.00  \n",
       "volume_sold_gallons     2.77    3962.58  "
      ]
     },
     "execution_count": 7,
     "metadata": {},
     "output_type": "execute_result"
    }
   ],
   "source": [
    "df.describe().transpose()"
   ]
  },
  {
   "cell_type": "markdown",
   "metadata": {},
   "source": [
    "# 4.Data cleaning"
   ]
  },
  {
   "cell_type": "code",
   "execution_count": 8,
   "metadata": {},
   "outputs": [
    {
     "name": "stdout",
     "output_type": "stream",
     "text": [
      "836\n",
      "456\n"
     ]
    }
   ],
   "source": [
    "# Displaying unique names of city\n",
    "\n",
    "print(df['city'].nunique())\n",
    "print(df['city'].str.upper().nunique())\n"
   ]
  },
  {
   "cell_type": "code",
   "execution_count": 9,
   "metadata": {},
   "outputs": [
    {
     "name": "stdout",
     "output_type": "stream",
     "text": [
      "133\n",
      "110\n",
      "110\n"
     ]
    }
   ],
   "source": [
    "# Displaying unique names of category\n",
    "\n",
    "print(df['category_name'].nunique())\n",
    "print(df['category'].nunique())\n",
    "print(df['category_name'].str.upper().nunique())"
   ]
  },
  {
   "cell_type": "code",
   "execution_count": 10,
   "metadata": {},
   "outputs": [],
   "source": [
    "# Making city,category_name and county to upper case\n",
    "\n",
    "df['city'] = df['city'].str.upper()\n",
    "df['category_name'] = df['category_name'].str.upper()\n",
    "df['county'] = df['county'].str.upper()"
   ]
  },
  {
   "cell_type": "code",
   "execution_count": 11,
   "metadata": {},
   "outputs": [
    {
     "data": {
      "text/plain": [
       "invoice_and_item_number          0\n",
       "date                             0\n",
       "store_number                     0\n",
       "store_name                       0\n",
       "address                      79927\n",
       "city                         79926\n",
       "zip_code                     79971\n",
       "store_location             1886023\n",
       "county_number               156731\n",
       "county                      156729\n",
       "category                     16974\n",
       "category_name                25040\n",
       "vendor_number                    5\n",
       "vendor_name                      3\n",
       "item_number                      0\n",
       "item_description                 0\n",
       "pack                             0\n",
       "bottle_volume_ml                 0\n",
       "state_bottle_cost               10\n",
       "state_bottle_retail             10\n",
       "bottles_sold                     0\n",
       "sale_dollars                    10\n",
       "volume_sold_liters               0\n",
       "volume_sold_gallons              0\n",
       "dtype: int64"
      ]
     },
     "execution_count": 11,
     "metadata": {},
     "output_type": "execute_result"
    }
   ],
   "source": [
    "# Checking for the Null values\n",
    "df.isna().sum()"
   ]
  },
  {
   "cell_type": "code",
   "execution_count": 12,
   "metadata": {},
   "outputs": [],
   "source": [
    "def my_fillna( data,key, value):    \n",
    "    subdata = data[[value,key]][data[key].isin(data[key][pd.isna(data[value])].unique())].dropna()\n",
    "    dictionary = subdata.set_index(key).to_dict()[value]\n",
    "    data[value] = data[value].fillna(data[key].apply(lambda x: dictionary.get(x)))\n",
    "    return data[value]"
   ]
  },
  {
   "cell_type": "code",
   "execution_count": 13,
   "metadata": {},
   "outputs": [],
   "source": [
    "df['city']=my_fillna(df,'store_number','city')\n",
    "df['zip_code']= my_fillna(df,'store_number','zip_code')\n",
    "df['address']= my_fillna(df,'store_number','address')\n",
    "df['county_number']= my_fillna(df,'store_number','county_number')\n",
    "df['county']= my_fillna(df,'store_number','county')\n",
    "df['store_number']= my_fillna(df,'store_location','store_number')\n",
    "df['county']= my_fillna(df,'store_number','county')"
   ]
  },
  {
   "cell_type": "code",
   "execution_count": 14,
   "metadata": {},
   "outputs": [],
   "source": [
    "df['date'] = pd.to_datetime(df['date'])\n",
    "df['year'] = df['date'].dt.year\n",
    "df['month'] = df['date'].dt.month\n",
    "df['day'] = df['date'].dt.day"
   ]
  },
  {
   "cell_type": "code",
   "execution_count": 15,
   "metadata": {},
   "outputs": [],
   "source": [
    "df['category_name']= my_fillna(df,'category','category_name')\n",
    "df['vendor_number']= my_fillna(df,'vendor_name','vendor_number')\n",
    "df['vendor_name']= my_fillna(df,'vendor_number','vendor_name')"
   ]
  },
  {
   "cell_type": "code",
   "execution_count": 16,
   "metadata": {},
   "outputs": [
    {
     "data": {
      "text/html": [
       "<div>\n",
       "<style scoped>\n",
       "    .dataframe tbody tr th:only-of-type {\n",
       "        vertical-align: middle;\n",
       "    }\n",
       "\n",
       "    .dataframe tbody tr th {\n",
       "        vertical-align: top;\n",
       "    }\n",
       "\n",
       "    .dataframe thead th {\n",
       "        text-align: right;\n",
       "    }\n",
       "</style>\n",
       "<table border=\"1\" class=\"dataframe\">\n",
       "  <thead>\n",
       "    <tr style=\"text-align: right;\">\n",
       "      <th></th>\n",
       "      <th>category</th>\n",
       "      <th>category_name</th>\n",
       "    </tr>\n",
       "  </thead>\n",
       "  <tbody>\n",
       "    <tr>\n",
       "      <th>8750610</th>\n",
       "      <td>101220</td>\n",
       "      <td>None</td>\n",
       "    </tr>\n",
       "    <tr>\n",
       "      <th>217004</th>\n",
       "      <td>1062250</td>\n",
       "      <td>None</td>\n",
       "    </tr>\n",
       "    <tr>\n",
       "      <th>4793544</th>\n",
       "      <td>1089290</td>\n",
       "      <td>None</td>\n",
       "    </tr>\n",
       "    <tr>\n",
       "      <th>42213</th>\n",
       "      <td>None</td>\n",
       "      <td>None</td>\n",
       "    </tr>\n",
       "  </tbody>\n",
       "</table>\n",
       "</div>"
      ],
      "text/plain": [
       "        category category_name\n",
       "8750610   101220          None\n",
       "217004   1062250          None\n",
       "4793544  1089290          None\n",
       "42213       None          None"
      ]
     },
     "execution_count": 16,
     "metadata": {},
     "output_type": "execute_result"
    }
   ],
   "source": [
    "df[['category','category_name']][df.category.isin(df.category[pd.isna(df.category_name)])] \\\n",
    ".drop_duplicates().sort_values(by=['category'])"
   ]
  },
  {
   "cell_type": "code",
   "execution_count": 17,
   "metadata": {},
   "outputs": [
    {
     "data": {
      "text/html": [
       "<div>\n",
       "<style scoped>\n",
       "    .dataframe tbody tr th:only-of-type {\n",
       "        vertical-align: middle;\n",
       "    }\n",
       "\n",
       "    .dataframe tbody tr th {\n",
       "        vertical-align: top;\n",
       "    }\n",
       "\n",
       "    .dataframe thead th {\n",
       "        text-align: right;\n",
       "    }\n",
       "</style>\n",
       "<table border=\"1\" class=\"dataframe\">\n",
       "  <thead>\n",
       "    <tr style=\"text-align: right;\">\n",
       "      <th></th>\n",
       "      <th>invoice_and_item_number</th>\n",
       "      <th>date</th>\n",
       "      <th>store_number</th>\n",
       "      <th>store_name</th>\n",
       "      <th>address</th>\n",
       "      <th>city</th>\n",
       "      <th>zip_code</th>\n",
       "      <th>store_location</th>\n",
       "      <th>county_number</th>\n",
       "      <th>county</th>\n",
       "      <th>...</th>\n",
       "      <th>bottle_volume_ml</th>\n",
       "      <th>state_bottle_cost</th>\n",
       "      <th>state_bottle_retail</th>\n",
       "      <th>bottles_sold</th>\n",
       "      <th>sale_dollars</th>\n",
       "      <th>volume_sold_liters</th>\n",
       "      <th>volume_sold_gallons</th>\n",
       "      <th>year</th>\n",
       "      <th>month</th>\n",
       "      <th>day</th>\n",
       "    </tr>\n",
       "  </thead>\n",
       "  <tbody>\n",
       "    <tr>\n",
       "      <th>2706282</th>\n",
       "      <td>S03839800115</td>\n",
       "      <td>2012-01-31</td>\n",
       "      <td>2593</td>\n",
       "      <td>Hy-Vee Food Store / Carroll</td>\n",
       "      <td>905 US HIGHWAY 30 WEST</td>\n",
       "      <td>CARROLL</td>\n",
       "      <td>51401</td>\n",
       "      <td>POINT (-94.853591 42.064155)</td>\n",
       "      <td>14</td>\n",
       "      <td>CARROLL</td>\n",
       "      <td>...</td>\n",
       "      <td>500</td>\n",
       "      <td>NaN</td>\n",
       "      <td>NaN</td>\n",
       "      <td>2</td>\n",
       "      <td>NaN</td>\n",
       "      <td>1.0</td>\n",
       "      <td>0.26</td>\n",
       "      <td>2012</td>\n",
       "      <td>1</td>\n",
       "      <td>31</td>\n",
       "    </tr>\n",
       "    <tr>\n",
       "      <th>3839290</th>\n",
       "      <td>S03831800099</td>\n",
       "      <td>2012-01-31</td>\n",
       "      <td>2629</td>\n",
       "      <td>Hy-Vee Food Store #2 / Council Bluff</td>\n",
       "      <td>1745 MADISON AVE</td>\n",
       "      <td>COUNCIL BLUFFS</td>\n",
       "      <td>51503</td>\n",
       "      <td>POINT (-95.825137 41.242732)</td>\n",
       "      <td>78</td>\n",
       "      <td>POTTAWATTAMIE</td>\n",
       "      <td>...</td>\n",
       "      <td>600</td>\n",
       "      <td>NaN</td>\n",
       "      <td>NaN</td>\n",
       "      <td>3</td>\n",
       "      <td>NaN</td>\n",
       "      <td>1.8</td>\n",
       "      <td>0.48</td>\n",
       "      <td>2012</td>\n",
       "      <td>1</td>\n",
       "      <td>31</td>\n",
       "    </tr>\n",
       "    <tr>\n",
       "      <th>7978960</th>\n",
       "      <td>S03816000008</td>\n",
       "      <td>2012-01-30</td>\n",
       "      <td>3583</td>\n",
       "      <td>Mac's Liquor And Videos</td>\n",
       "      <td>220 EAST JEFFERSON</td>\n",
       "      <td>CORYDON</td>\n",
       "      <td>50060</td>\n",
       "      <td>POINT (-93.315977 40.757158)</td>\n",
       "      <td>93</td>\n",
       "      <td>WAYNE</td>\n",
       "      <td>...</td>\n",
       "      <td>600</td>\n",
       "      <td>NaN</td>\n",
       "      <td>NaN</td>\n",
       "      <td>1</td>\n",
       "      <td>NaN</td>\n",
       "      <td>0.6</td>\n",
       "      <td>0.16</td>\n",
       "      <td>2012</td>\n",
       "      <td>1</td>\n",
       "      <td>30</td>\n",
       "    </tr>\n",
       "    <tr>\n",
       "      <th>9287924</th>\n",
       "      <td>S03816800149</td>\n",
       "      <td>2012-01-30</td>\n",
       "      <td>2190</td>\n",
       "      <td>Central City Liquor, Inc.</td>\n",
       "      <td>1460 2ND AVE</td>\n",
       "      <td>DES MOINES</td>\n",
       "      <td>50314</td>\n",
       "      <td>POINT (-93.619787 41.60566)</td>\n",
       "      <td>77</td>\n",
       "      <td>POLK</td>\n",
       "      <td>...</td>\n",
       "      <td>600</td>\n",
       "      <td>NaN</td>\n",
       "      <td>NaN</td>\n",
       "      <td>1</td>\n",
       "      <td>NaN</td>\n",
       "      <td>0.6</td>\n",
       "      <td>0.16</td>\n",
       "      <td>2012</td>\n",
       "      <td>1</td>\n",
       "      <td>30</td>\n",
       "    </tr>\n",
       "    <tr>\n",
       "      <th>10180310</th>\n",
       "      <td>S03842900093</td>\n",
       "      <td>2012-01-31</td>\n",
       "      <td>2614</td>\n",
       "      <td>Hy-Vee #3 Food and Drugstore</td>\n",
       "      <td>1823 E KIMBERLY RD</td>\n",
       "      <td>DAVENPORT</td>\n",
       "      <td>52807</td>\n",
       "      <td>POINT (-90.548919 41.55678100000001)</td>\n",
       "      <td>82</td>\n",
       "      <td>SCOTT</td>\n",
       "      <td>...</td>\n",
       "      <td>500</td>\n",
       "      <td>NaN</td>\n",
       "      <td>NaN</td>\n",
       "      <td>1</td>\n",
       "      <td>NaN</td>\n",
       "      <td>0.5</td>\n",
       "      <td>0.13</td>\n",
       "      <td>2012</td>\n",
       "      <td>1</td>\n",
       "      <td>31</td>\n",
       "    </tr>\n",
       "    <tr>\n",
       "      <th>11241903</th>\n",
       "      <td>S03842900089</td>\n",
       "      <td>2012-01-31</td>\n",
       "      <td>2614</td>\n",
       "      <td>Hy-Vee #3 Food and Drugstore</td>\n",
       "      <td>1823 E KIMBERLY RD</td>\n",
       "      <td>DAVENPORT</td>\n",
       "      <td>52807</td>\n",
       "      <td>POINT (-90.548919 41.55678100000001)</td>\n",
       "      <td>82</td>\n",
       "      <td>SCOTT</td>\n",
       "      <td>...</td>\n",
       "      <td>600</td>\n",
       "      <td>NaN</td>\n",
       "      <td>NaN</td>\n",
       "      <td>2</td>\n",
       "      <td>NaN</td>\n",
       "      <td>1.2</td>\n",
       "      <td>0.32</td>\n",
       "      <td>2012</td>\n",
       "      <td>1</td>\n",
       "      <td>31</td>\n",
       "    </tr>\n",
       "    <tr>\n",
       "      <th>11995712</th>\n",
       "      <td>S03814000102</td>\n",
       "      <td>2012-01-30</td>\n",
       "      <td>2623</td>\n",
       "      <td>Hy-Vee Food Store #4 / Sioux City</td>\n",
       "      <td>2827 HAMILTON BLVD</td>\n",
       "      <td>SIOUX CITY</td>\n",
       "      <td>51104</td>\n",
       "      <td>POINT (-96.417783 42.519886)</td>\n",
       "      <td>97</td>\n",
       "      <td>WOODBURY</td>\n",
       "      <td>...</td>\n",
       "      <td>600</td>\n",
       "      <td>NaN</td>\n",
       "      <td>NaN</td>\n",
       "      <td>2</td>\n",
       "      <td>NaN</td>\n",
       "      <td>1.2</td>\n",
       "      <td>0.32</td>\n",
       "      <td>2012</td>\n",
       "      <td>1</td>\n",
       "      <td>30</td>\n",
       "    </tr>\n",
       "    <tr>\n",
       "      <th>15366549</th>\n",
       "      <td>S03825400160</td>\n",
       "      <td>2012-01-31</td>\n",
       "      <td>2616</td>\n",
       "      <td>Hy-Vee Food and Drug / Clinton</td>\n",
       "      <td>901 SOUTH 4TH ST</td>\n",
       "      <td>CLINTON</td>\n",
       "      <td>52732</td>\n",
       "      <td>POINT (-90.193204 41.836268000000004)</td>\n",
       "      <td>23</td>\n",
       "      <td>CLINTON</td>\n",
       "      <td>...</td>\n",
       "      <td>600</td>\n",
       "      <td>NaN</td>\n",
       "      <td>NaN</td>\n",
       "      <td>3</td>\n",
       "      <td>NaN</td>\n",
       "      <td>1.8</td>\n",
       "      <td>0.48</td>\n",
       "      <td>2012</td>\n",
       "      <td>1</td>\n",
       "      <td>31</td>\n",
       "    </tr>\n",
       "    <tr>\n",
       "      <th>15574367</th>\n",
       "      <td>S03818000080</td>\n",
       "      <td>2012-01-31</td>\n",
       "      <td>4509</td>\n",
       "      <td>A J'S LIQUOR II</td>\n",
       "      <td>2515 CHAMBERLAIN</td>\n",
       "      <td>AMES</td>\n",
       "      <td>50010</td>\n",
       "      <td>POINT (-93.650838 42.021461)</td>\n",
       "      <td>85</td>\n",
       "      <td>STORY</td>\n",
       "      <td>...</td>\n",
       "      <td>600</td>\n",
       "      <td>NaN</td>\n",
       "      <td>NaN</td>\n",
       "      <td>1</td>\n",
       "      <td>NaN</td>\n",
       "      <td>0.6</td>\n",
       "      <td>0.16</td>\n",
       "      <td>2012</td>\n",
       "      <td>1</td>\n",
       "      <td>31</td>\n",
       "    </tr>\n",
       "    <tr>\n",
       "      <th>15903002</th>\n",
       "      <td>S03841000063</td>\n",
       "      <td>2012-01-31</td>\n",
       "      <td>2549</td>\n",
       "      <td>Hy-Vee Food Store / Indianola</td>\n",
       "      <td>910 N JEFFERSON</td>\n",
       "      <td>INDIANOLA</td>\n",
       "      <td>50125</td>\n",
       "      <td>None</td>\n",
       "      <td>91</td>\n",
       "      <td>WARREN</td>\n",
       "      <td>...</td>\n",
       "      <td>500</td>\n",
       "      <td>NaN</td>\n",
       "      <td>NaN</td>\n",
       "      <td>1</td>\n",
       "      <td>NaN</td>\n",
       "      <td>0.5</td>\n",
       "      <td>0.13</td>\n",
       "      <td>2012</td>\n",
       "      <td>1</td>\n",
       "      <td>31</td>\n",
       "    </tr>\n",
       "  </tbody>\n",
       "</table>\n",
       "<p>10 rows × 27 columns</p>\n",
       "</div>"
      ],
      "text/plain": [
       "         invoice_and_item_number       date store_number  \\\n",
       "2706282             S03839800115 2012-01-31         2593   \n",
       "3839290             S03831800099 2012-01-31         2629   \n",
       "7978960             S03816000008 2012-01-30         3583   \n",
       "9287924             S03816800149 2012-01-30         2190   \n",
       "10180310            S03842900093 2012-01-31         2614   \n",
       "11241903            S03842900089 2012-01-31         2614   \n",
       "11995712            S03814000102 2012-01-30         2623   \n",
       "15366549            S03825400160 2012-01-31         2616   \n",
       "15574367            S03818000080 2012-01-31         4509   \n",
       "15903002            S03841000063 2012-01-31         2549   \n",
       "\n",
       "                                    store_name                 address  \\\n",
       "2706282            Hy-Vee Food Store / Carroll  905 US HIGHWAY 30 WEST   \n",
       "3839290   Hy-Vee Food Store #2 / Council Bluff        1745 MADISON AVE   \n",
       "7978960                Mac's Liquor And Videos      220 EAST JEFFERSON   \n",
       "9287924              Central City Liquor, Inc.            1460 2ND AVE   \n",
       "10180310          Hy-Vee #3 Food and Drugstore      1823 E KIMBERLY RD   \n",
       "11241903          Hy-Vee #3 Food and Drugstore      1823 E KIMBERLY RD   \n",
       "11995712     Hy-Vee Food Store #4 / Sioux City      2827 HAMILTON BLVD   \n",
       "15366549        Hy-Vee Food and Drug / Clinton        901 SOUTH 4TH ST   \n",
       "15574367                       A J'S LIQUOR II        2515 CHAMBERLAIN   \n",
       "15903002         Hy-Vee Food Store / Indianola         910 N JEFFERSON   \n",
       "\n",
       "                    city zip_code                         store_location  \\\n",
       "2706282          CARROLL    51401           POINT (-94.853591 42.064155)   \n",
       "3839290   COUNCIL BLUFFS    51503           POINT (-95.825137 41.242732)   \n",
       "7978960          CORYDON    50060           POINT (-93.315977 40.757158)   \n",
       "9287924       DES MOINES    50314            POINT (-93.619787 41.60566)   \n",
       "10180310       DAVENPORT    52807   POINT (-90.548919 41.55678100000001)   \n",
       "11241903       DAVENPORT    52807   POINT (-90.548919 41.55678100000001)   \n",
       "11995712      SIOUX CITY    51104           POINT (-96.417783 42.519886)   \n",
       "15366549         CLINTON    52732  POINT (-90.193204 41.836268000000004)   \n",
       "15574367            AMES    50010           POINT (-93.650838 42.021461)   \n",
       "15903002       INDIANOLA    50125                                   None   \n",
       "\n",
       "         county_number         county  ... bottle_volume_ml state_bottle_cost  \\\n",
       "2706282             14        CARROLL  ...              500               NaN   \n",
       "3839290             78  POTTAWATTAMIE  ...              600               NaN   \n",
       "7978960             93          WAYNE  ...              600               NaN   \n",
       "9287924             77           POLK  ...              600               NaN   \n",
       "10180310            82          SCOTT  ...              500               NaN   \n",
       "11241903            82          SCOTT  ...              600               NaN   \n",
       "11995712            97       WOODBURY  ...              600               NaN   \n",
       "15366549            23        CLINTON  ...              600               NaN   \n",
       "15574367            85          STORY  ...              600               NaN   \n",
       "15903002            91         WARREN  ...              500               NaN   \n",
       "\n",
       "         state_bottle_retail bottles_sold sale_dollars volume_sold_liters  \\\n",
       "2706282                  NaN            2          NaN                1.0   \n",
       "3839290                  NaN            3          NaN                1.8   \n",
       "7978960                  NaN            1          NaN                0.6   \n",
       "9287924                  NaN            1          NaN                0.6   \n",
       "10180310                 NaN            1          NaN                0.5   \n",
       "11241903                 NaN            2          NaN                1.2   \n",
       "11995712                 NaN            2          NaN                1.2   \n",
       "15366549                 NaN            3          NaN                1.8   \n",
       "15574367                 NaN            1          NaN                0.6   \n",
       "15903002                 NaN            1          NaN                0.5   \n",
       "\n",
       "          volume_sold_gallons  year  month  day  \n",
       "2706282                  0.26  2012      1   31  \n",
       "3839290                  0.48  2012      1   31  \n",
       "7978960                  0.16  2012      1   30  \n",
       "9287924                  0.16  2012      1   30  \n",
       "10180310                 0.13  2012      1   31  \n",
       "11241903                 0.32  2012      1   31  \n",
       "11995712                 0.32  2012      1   30  \n",
       "15366549                 0.48  2012      1   31  \n",
       "15574367                 0.16  2012      1   31  \n",
       "15903002                 0.13  2012      1   31  \n",
       "\n",
       "[10 rows x 27 columns]"
      ]
     },
     "execution_count": 17,
     "metadata": {},
     "output_type": "execute_result"
    }
   ],
   "source": [
    "df[pd.isna(df.state_bottle_cost)]"
   ]
  },
  {
   "cell_type": "code",
   "execution_count": 18,
   "metadata": {},
   "outputs": [
    {
     "data": {
      "text/plain": [
       "array([12.8 , 10.03,   nan])"
      ]
     },
     "execution_count": 18,
     "metadata": {},
     "output_type": "execute_result"
    }
   ],
   "source": [
    "df.state_bottle_cost[df.item_number=='38180'].unique()"
   ]
  },
  {
   "cell_type": "code",
   "execution_count": 19,
   "metadata": {},
   "outputs": [
    {
     "data": {
      "text/plain": [
       "array([2012], dtype=int64)"
      ]
     },
     "execution_count": 19,
     "metadata": {},
     "output_type": "execute_result"
    }
   ],
   "source": [
    "df.year[pd.isna(df.state_bottle_cost)].unique()"
   ]
  },
  {
   "cell_type": "code",
   "execution_count": 20,
   "metadata": {},
   "outputs": [
    {
     "data": {
      "text/html": [
       "<div>\n",
       "<style scoped>\n",
       "    .dataframe tbody tr th:only-of-type {\n",
       "        vertical-align: middle;\n",
       "    }\n",
       "\n",
       "    .dataframe tbody tr th {\n",
       "        vertical-align: top;\n",
       "    }\n",
       "\n",
       "    .dataframe thead th {\n",
       "        text-align: right;\n",
       "    }\n",
       "</style>\n",
       "<table border=\"1\" class=\"dataframe\">\n",
       "  <thead>\n",
       "    <tr style=\"text-align: right;\">\n",
       "      <th></th>\n",
       "      <th>item_number</th>\n",
       "      <th>year</th>\n",
       "      <th>state_bottle_cost</th>\n",
       "    </tr>\n",
       "  </thead>\n",
       "  <tbody>\n",
       "    <tr>\n",
       "      <th>1736718</th>\n",
       "      <td>35920</td>\n",
       "      <td>2012</td>\n",
       "      <td>5.00</td>\n",
       "    </tr>\n",
       "    <tr>\n",
       "      <th>2706282</th>\n",
       "      <td>35920</td>\n",
       "      <td>2012</td>\n",
       "      <td>NaN</td>\n",
       "    </tr>\n",
       "    <tr>\n",
       "      <th>1736724</th>\n",
       "      <td>35920</td>\n",
       "      <td>2013</td>\n",
       "      <td>5.00</td>\n",
       "    </tr>\n",
       "    <tr>\n",
       "      <th>334186</th>\n",
       "      <td>38180</td>\n",
       "      <td>2012</td>\n",
       "      <td>10.03</td>\n",
       "    </tr>\n",
       "    <tr>\n",
       "      <th>3839290</th>\n",
       "      <td>38180</td>\n",
       "      <td>2012</td>\n",
       "      <td>NaN</td>\n",
       "    </tr>\n",
       "    <tr>\n",
       "      <th>163485</th>\n",
       "      <td>38180</td>\n",
       "      <td>2014</td>\n",
       "      <td>12.80</td>\n",
       "    </tr>\n",
       "    <tr>\n",
       "      <th>7707</th>\n",
       "      <td>38180</td>\n",
       "      <td>2015</td>\n",
       "      <td>12.80</td>\n",
       "    </tr>\n",
       "    <tr>\n",
       "      <th>100722</th>\n",
       "      <td>38180</td>\n",
       "      <td>2016</td>\n",
       "      <td>12.80</td>\n",
       "    </tr>\n",
       "    <tr>\n",
       "      <th>318402</th>\n",
       "      <td>38180</td>\n",
       "      <td>2017</td>\n",
       "      <td>12.80</td>\n",
       "    </tr>\n",
       "    <tr>\n",
       "      <th>316306</th>\n",
       "      <td>38180</td>\n",
       "      <td>2018</td>\n",
       "      <td>12.80</td>\n",
       "    </tr>\n",
       "    <tr>\n",
       "      <th>316317</th>\n",
       "      <td>38180</td>\n",
       "      <td>2019</td>\n",
       "      <td>12.80</td>\n",
       "    </tr>\n",
       "    <tr>\n",
       "      <th>316315</th>\n",
       "      <td>38180</td>\n",
       "      <td>2020</td>\n",
       "      <td>12.80</td>\n",
       "    </tr>\n",
       "  </tbody>\n",
       "</table>\n",
       "</div>"
      ],
      "text/plain": [
       "        item_number  year  state_bottle_cost\n",
       "1736718       35920  2012               5.00\n",
       "2706282       35920  2012                NaN\n",
       "1736724       35920  2013               5.00\n",
       "334186        38180  2012              10.03\n",
       "3839290       38180  2012                NaN\n",
       "163485        38180  2014              12.80\n",
       "7707          38180  2015              12.80\n",
       "100722        38180  2016              12.80\n",
       "318402        38180  2017              12.80\n",
       "316306        38180  2018              12.80\n",
       "316317        38180  2019              12.80\n",
       "316315        38180  2020              12.80"
      ]
     },
     "execution_count": 20,
     "metadata": {},
     "output_type": "execute_result"
    }
   ],
   "source": [
    "df[['item_number','year','state_bottle_cost']][df.item_number.isin(df.item_number[pd.isna(df.state_bottle_cost)])] \\\n",
    ".drop_duplicates().sort_values(by=['item_number','year'])"
   ]
  },
  {
   "cell_type": "code",
   "execution_count": 21,
   "metadata": {},
   "outputs": [
    {
     "data": {
      "text/html": [
       "<div>\n",
       "<style scoped>\n",
       "    .dataframe tbody tr th:only-of-type {\n",
       "        vertical-align: middle;\n",
       "    }\n",
       "\n",
       "    .dataframe tbody tr th {\n",
       "        vertical-align: top;\n",
       "    }\n",
       "\n",
       "    .dataframe thead th {\n",
       "        text-align: right;\n",
       "    }\n",
       "</style>\n",
       "<table border=\"1\" class=\"dataframe\">\n",
       "  <thead>\n",
       "    <tr style=\"text-align: right;\">\n",
       "      <th></th>\n",
       "      <th>item_number</th>\n",
       "      <th>year</th>\n",
       "      <th>state_bottle_retail</th>\n",
       "    </tr>\n",
       "  </thead>\n",
       "  <tbody>\n",
       "    <tr>\n",
       "      <th>1736718</th>\n",
       "      <td>35920</td>\n",
       "      <td>2012</td>\n",
       "      <td>7.50</td>\n",
       "    </tr>\n",
       "    <tr>\n",
       "      <th>2706282</th>\n",
       "      <td>35920</td>\n",
       "      <td>2012</td>\n",
       "      <td>NaN</td>\n",
       "    </tr>\n",
       "    <tr>\n",
       "      <th>1736724</th>\n",
       "      <td>35920</td>\n",
       "      <td>2013</td>\n",
       "      <td>7.50</td>\n",
       "    </tr>\n",
       "    <tr>\n",
       "      <th>334186</th>\n",
       "      <td>38180</td>\n",
       "      <td>2012</td>\n",
       "      <td>15.05</td>\n",
       "    </tr>\n",
       "    <tr>\n",
       "      <th>3839290</th>\n",
       "      <td>38180</td>\n",
       "      <td>2012</td>\n",
       "      <td>NaN</td>\n",
       "    </tr>\n",
       "    <tr>\n",
       "      <th>163485</th>\n",
       "      <td>38180</td>\n",
       "      <td>2014</td>\n",
       "      <td>19.20</td>\n",
       "    </tr>\n",
       "    <tr>\n",
       "      <th>7707</th>\n",
       "      <td>38180</td>\n",
       "      <td>2015</td>\n",
       "      <td>19.20</td>\n",
       "    </tr>\n",
       "    <tr>\n",
       "      <th>100722</th>\n",
       "      <td>38180</td>\n",
       "      <td>2016</td>\n",
       "      <td>19.20</td>\n",
       "    </tr>\n",
       "    <tr>\n",
       "      <th>318402</th>\n",
       "      <td>38180</td>\n",
       "      <td>2017</td>\n",
       "      <td>19.20</td>\n",
       "    </tr>\n",
       "    <tr>\n",
       "      <th>316306</th>\n",
       "      <td>38180</td>\n",
       "      <td>2018</td>\n",
       "      <td>19.20</td>\n",
       "    </tr>\n",
       "    <tr>\n",
       "      <th>316317</th>\n",
       "      <td>38180</td>\n",
       "      <td>2019</td>\n",
       "      <td>19.20</td>\n",
       "    </tr>\n",
       "    <tr>\n",
       "      <th>316315</th>\n",
       "      <td>38180</td>\n",
       "      <td>2020</td>\n",
       "      <td>19.20</td>\n",
       "    </tr>\n",
       "  </tbody>\n",
       "</table>\n",
       "</div>"
      ],
      "text/plain": [
       "        item_number  year  state_bottle_retail\n",
       "1736718       35920  2012                 7.50\n",
       "2706282       35920  2012                  NaN\n",
       "1736724       35920  2013                 7.50\n",
       "334186        38180  2012                15.05\n",
       "3839290       38180  2012                  NaN\n",
       "163485        38180  2014                19.20\n",
       "7707          38180  2015                19.20\n",
       "100722        38180  2016                19.20\n",
       "318402        38180  2017                19.20\n",
       "316306        38180  2018                19.20\n",
       "316317        38180  2019                19.20\n",
       "316315        38180  2020                19.20"
      ]
     },
     "execution_count": 21,
     "metadata": {},
     "output_type": "execute_result"
    }
   ],
   "source": [
    "df[['item_number','year','state_bottle_retail']][df.item_number.isin(\n",
    "    (df.item_number[pd.isna(df.state_bottle_retail)]))] \\\n",
    ".drop_duplicates().sort_values(by=['item_number','year'])"
   ]
  },
  {
   "cell_type": "code",
   "execution_count": 22,
   "metadata": {},
   "outputs": [],
   "source": [
    "df['state_bottle_cost'][df.year ==2012] = my_fillna(df[df.year ==2012],'item_number','state_bottle_cost')\n",
    "df['state_bottle_retail'][df.year ==2012]= my_fillna(df[df.year ==2012],'item_number','state_bottle_retail')"
   ]
  },
  {
   "cell_type": "code",
   "execution_count": 23,
   "metadata": {},
   "outputs": [
    {
     "data": {
      "text/plain": [
       "invoice_and_item_number          0\n",
       "date                             0\n",
       "store_number                     0\n",
       "store_name                       0\n",
       "address                        848\n",
       "city                           847\n",
       "zip_code                       847\n",
       "store_location             1886023\n",
       "county_number                 1646\n",
       "county                        1644\n",
       "category                     16974\n",
       "category_name                16994\n",
       "vendor_number                    5\n",
       "vendor_name                      3\n",
       "item_number                      0\n",
       "item_description                 0\n",
       "pack                             0\n",
       "bottle_volume_ml                 0\n",
       "state_bottle_cost                0\n",
       "state_bottle_retail              0\n",
       "bottles_sold                     0\n",
       "sale_dollars                    10\n",
       "volume_sold_liters               0\n",
       "volume_sold_gallons              0\n",
       "year                             0\n",
       "month                            0\n",
       "day                              0\n",
       "dtype: int64"
      ]
     },
     "execution_count": 23,
     "metadata": {},
     "output_type": "execute_result"
    }
   ],
   "source": [
    "# Checking for the Null values\n",
    "df.isna().sum()"
   ]
  },
  {
   "cell_type": "code",
   "execution_count": 24,
   "metadata": {},
   "outputs": [
    {
     "data": {
      "text/plain": [
       "array(['5320'], dtype=object)"
      ]
     },
     "execution_count": 24,
     "metadata": {},
     "output_type": "execute_result"
    }
   ],
   "source": [
    "df.store_number[pd.isna(df.city)].unique()"
   ]
  },
  {
   "cell_type": "code",
   "execution_count": 25,
   "metadata": {},
   "outputs": [
    {
     "data": {
      "text/plain": [
       "array([None], dtype=object)"
      ]
     },
     "execution_count": 25,
     "metadata": {},
     "output_type": "execute_result"
    }
   ],
   "source": [
    "df.city[df.store_number=='5320'].unique()"
   ]
  },
  {
   "cell_type": "code",
   "execution_count": 26,
   "metadata": {
    "scrolled": true
   },
   "outputs": [
    {
     "data": {
      "text/html": [
       "<div>\n",
       "<style scoped>\n",
       "    .dataframe tbody tr th:only-of-type {\n",
       "        vertical-align: middle;\n",
       "    }\n",
       "\n",
       "    .dataframe tbody tr th {\n",
       "        vertical-align: top;\n",
       "    }\n",
       "\n",
       "    .dataframe thead th {\n",
       "        text-align: right;\n",
       "    }\n",
       "</style>\n",
       "<table border=\"1\" class=\"dataframe\">\n",
       "  <thead>\n",
       "    <tr style=\"text-align: right;\">\n",
       "      <th></th>\n",
       "      <th>invoice_and_item_number</th>\n",
       "      <th>date</th>\n",
       "      <th>store_number</th>\n",
       "      <th>store_name</th>\n",
       "      <th>address</th>\n",
       "      <th>city</th>\n",
       "      <th>zip_code</th>\n",
       "      <th>store_location</th>\n",
       "      <th>county_number</th>\n",
       "      <th>county</th>\n",
       "      <th>...</th>\n",
       "      <th>bottle_volume_ml</th>\n",
       "      <th>state_bottle_cost</th>\n",
       "      <th>state_bottle_retail</th>\n",
       "      <th>bottles_sold</th>\n",
       "      <th>sale_dollars</th>\n",
       "      <th>volume_sold_liters</th>\n",
       "      <th>volume_sold_gallons</th>\n",
       "      <th>year</th>\n",
       "      <th>month</th>\n",
       "      <th>day</th>\n",
       "    </tr>\n",
       "  </thead>\n",
       "  <tbody>\n",
       "    <tr>\n",
       "      <th>2706282</th>\n",
       "      <td>S03839800115</td>\n",
       "      <td>2012-01-31</td>\n",
       "      <td>2593</td>\n",
       "      <td>Hy-Vee Food Store / Carroll</td>\n",
       "      <td>905 US HIGHWAY 30 WEST</td>\n",
       "      <td>CARROLL</td>\n",
       "      <td>51401</td>\n",
       "      <td>POINT (-94.853591 42.064155)</td>\n",
       "      <td>14</td>\n",
       "      <td>CARROLL</td>\n",
       "      <td>...</td>\n",
       "      <td>500</td>\n",
       "      <td>5.00</td>\n",
       "      <td>7.50</td>\n",
       "      <td>2</td>\n",
       "      <td>NaN</td>\n",
       "      <td>1.0</td>\n",
       "      <td>0.26</td>\n",
       "      <td>2012</td>\n",
       "      <td>1</td>\n",
       "      <td>31</td>\n",
       "    </tr>\n",
       "    <tr>\n",
       "      <th>3839290</th>\n",
       "      <td>S03831800099</td>\n",
       "      <td>2012-01-31</td>\n",
       "      <td>2629</td>\n",
       "      <td>Hy-Vee Food Store #2 / Council Bluff</td>\n",
       "      <td>1745 MADISON AVE</td>\n",
       "      <td>COUNCIL BLUFFS</td>\n",
       "      <td>51503</td>\n",
       "      <td>POINT (-95.825137 41.242732)</td>\n",
       "      <td>78</td>\n",
       "      <td>POTTAWATTAMIE</td>\n",
       "      <td>...</td>\n",
       "      <td>600</td>\n",
       "      <td>10.03</td>\n",
       "      <td>15.05</td>\n",
       "      <td>3</td>\n",
       "      <td>NaN</td>\n",
       "      <td>1.8</td>\n",
       "      <td>0.48</td>\n",
       "      <td>2012</td>\n",
       "      <td>1</td>\n",
       "      <td>31</td>\n",
       "    </tr>\n",
       "    <tr>\n",
       "      <th>7978960</th>\n",
       "      <td>S03816000008</td>\n",
       "      <td>2012-01-30</td>\n",
       "      <td>3583</td>\n",
       "      <td>Mac's Liquor And Videos</td>\n",
       "      <td>220 EAST JEFFERSON</td>\n",
       "      <td>CORYDON</td>\n",
       "      <td>50060</td>\n",
       "      <td>POINT (-93.315977 40.757158)</td>\n",
       "      <td>93</td>\n",
       "      <td>WAYNE</td>\n",
       "      <td>...</td>\n",
       "      <td>600</td>\n",
       "      <td>10.03</td>\n",
       "      <td>15.05</td>\n",
       "      <td>1</td>\n",
       "      <td>NaN</td>\n",
       "      <td>0.6</td>\n",
       "      <td>0.16</td>\n",
       "      <td>2012</td>\n",
       "      <td>1</td>\n",
       "      <td>30</td>\n",
       "    </tr>\n",
       "    <tr>\n",
       "      <th>9287924</th>\n",
       "      <td>S03816800149</td>\n",
       "      <td>2012-01-30</td>\n",
       "      <td>2190</td>\n",
       "      <td>Central City Liquor, Inc.</td>\n",
       "      <td>1460 2ND AVE</td>\n",
       "      <td>DES MOINES</td>\n",
       "      <td>50314</td>\n",
       "      <td>POINT (-93.619787 41.60566)</td>\n",
       "      <td>77</td>\n",
       "      <td>POLK</td>\n",
       "      <td>...</td>\n",
       "      <td>600</td>\n",
       "      <td>10.03</td>\n",
       "      <td>15.05</td>\n",
       "      <td>1</td>\n",
       "      <td>NaN</td>\n",
       "      <td>0.6</td>\n",
       "      <td>0.16</td>\n",
       "      <td>2012</td>\n",
       "      <td>1</td>\n",
       "      <td>30</td>\n",
       "    </tr>\n",
       "    <tr>\n",
       "      <th>10180310</th>\n",
       "      <td>S03842900093</td>\n",
       "      <td>2012-01-31</td>\n",
       "      <td>2614</td>\n",
       "      <td>Hy-Vee #3 Food and Drugstore</td>\n",
       "      <td>1823 E KIMBERLY RD</td>\n",
       "      <td>DAVENPORT</td>\n",
       "      <td>52807</td>\n",
       "      <td>POINT (-90.548919 41.55678100000001)</td>\n",
       "      <td>82</td>\n",
       "      <td>SCOTT</td>\n",
       "      <td>...</td>\n",
       "      <td>500</td>\n",
       "      <td>5.00</td>\n",
       "      <td>7.50</td>\n",
       "      <td>1</td>\n",
       "      <td>NaN</td>\n",
       "      <td>0.5</td>\n",
       "      <td>0.13</td>\n",
       "      <td>2012</td>\n",
       "      <td>1</td>\n",
       "      <td>31</td>\n",
       "    </tr>\n",
       "    <tr>\n",
       "      <th>11241903</th>\n",
       "      <td>S03842900089</td>\n",
       "      <td>2012-01-31</td>\n",
       "      <td>2614</td>\n",
       "      <td>Hy-Vee #3 Food and Drugstore</td>\n",
       "      <td>1823 E KIMBERLY RD</td>\n",
       "      <td>DAVENPORT</td>\n",
       "      <td>52807</td>\n",
       "      <td>POINT (-90.548919 41.55678100000001)</td>\n",
       "      <td>82</td>\n",
       "      <td>SCOTT</td>\n",
       "      <td>...</td>\n",
       "      <td>600</td>\n",
       "      <td>10.03</td>\n",
       "      <td>15.05</td>\n",
       "      <td>2</td>\n",
       "      <td>NaN</td>\n",
       "      <td>1.2</td>\n",
       "      <td>0.32</td>\n",
       "      <td>2012</td>\n",
       "      <td>1</td>\n",
       "      <td>31</td>\n",
       "    </tr>\n",
       "    <tr>\n",
       "      <th>11995712</th>\n",
       "      <td>S03814000102</td>\n",
       "      <td>2012-01-30</td>\n",
       "      <td>2623</td>\n",
       "      <td>Hy-Vee Food Store #4 / Sioux City</td>\n",
       "      <td>2827 HAMILTON BLVD</td>\n",
       "      <td>SIOUX CITY</td>\n",
       "      <td>51104</td>\n",
       "      <td>POINT (-96.417783 42.519886)</td>\n",
       "      <td>97</td>\n",
       "      <td>WOODBURY</td>\n",
       "      <td>...</td>\n",
       "      <td>600</td>\n",
       "      <td>10.03</td>\n",
       "      <td>15.05</td>\n",
       "      <td>2</td>\n",
       "      <td>NaN</td>\n",
       "      <td>1.2</td>\n",
       "      <td>0.32</td>\n",
       "      <td>2012</td>\n",
       "      <td>1</td>\n",
       "      <td>30</td>\n",
       "    </tr>\n",
       "    <tr>\n",
       "      <th>15366549</th>\n",
       "      <td>S03825400160</td>\n",
       "      <td>2012-01-31</td>\n",
       "      <td>2616</td>\n",
       "      <td>Hy-Vee Food and Drug / Clinton</td>\n",
       "      <td>901 SOUTH 4TH ST</td>\n",
       "      <td>CLINTON</td>\n",
       "      <td>52732</td>\n",
       "      <td>POINT (-90.193204 41.836268000000004)</td>\n",
       "      <td>23</td>\n",
       "      <td>CLINTON</td>\n",
       "      <td>...</td>\n",
       "      <td>600</td>\n",
       "      <td>10.03</td>\n",
       "      <td>15.05</td>\n",
       "      <td>3</td>\n",
       "      <td>NaN</td>\n",
       "      <td>1.8</td>\n",
       "      <td>0.48</td>\n",
       "      <td>2012</td>\n",
       "      <td>1</td>\n",
       "      <td>31</td>\n",
       "    </tr>\n",
       "    <tr>\n",
       "      <th>15574367</th>\n",
       "      <td>S03818000080</td>\n",
       "      <td>2012-01-31</td>\n",
       "      <td>4509</td>\n",
       "      <td>A J'S LIQUOR II</td>\n",
       "      <td>2515 CHAMBERLAIN</td>\n",
       "      <td>AMES</td>\n",
       "      <td>50010</td>\n",
       "      <td>POINT (-93.650838 42.021461)</td>\n",
       "      <td>85</td>\n",
       "      <td>STORY</td>\n",
       "      <td>...</td>\n",
       "      <td>600</td>\n",
       "      <td>10.03</td>\n",
       "      <td>15.05</td>\n",
       "      <td>1</td>\n",
       "      <td>NaN</td>\n",
       "      <td>0.6</td>\n",
       "      <td>0.16</td>\n",
       "      <td>2012</td>\n",
       "      <td>1</td>\n",
       "      <td>31</td>\n",
       "    </tr>\n",
       "    <tr>\n",
       "      <th>15903002</th>\n",
       "      <td>S03841000063</td>\n",
       "      <td>2012-01-31</td>\n",
       "      <td>2549</td>\n",
       "      <td>Hy-Vee Food Store / Indianola</td>\n",
       "      <td>910 N JEFFERSON</td>\n",
       "      <td>INDIANOLA</td>\n",
       "      <td>50125</td>\n",
       "      <td>None</td>\n",
       "      <td>91</td>\n",
       "      <td>WARREN</td>\n",
       "      <td>...</td>\n",
       "      <td>500</td>\n",
       "      <td>5.00</td>\n",
       "      <td>7.50</td>\n",
       "      <td>1</td>\n",
       "      <td>NaN</td>\n",
       "      <td>0.5</td>\n",
       "      <td>0.13</td>\n",
       "      <td>2012</td>\n",
       "      <td>1</td>\n",
       "      <td>31</td>\n",
       "    </tr>\n",
       "  </tbody>\n",
       "</table>\n",
       "<p>10 rows × 27 columns</p>\n",
       "</div>"
      ],
      "text/plain": [
       "         invoice_and_item_number       date store_number  \\\n",
       "2706282             S03839800115 2012-01-31         2593   \n",
       "3839290             S03831800099 2012-01-31         2629   \n",
       "7978960             S03816000008 2012-01-30         3583   \n",
       "9287924             S03816800149 2012-01-30         2190   \n",
       "10180310            S03842900093 2012-01-31         2614   \n",
       "11241903            S03842900089 2012-01-31         2614   \n",
       "11995712            S03814000102 2012-01-30         2623   \n",
       "15366549            S03825400160 2012-01-31         2616   \n",
       "15574367            S03818000080 2012-01-31         4509   \n",
       "15903002            S03841000063 2012-01-31         2549   \n",
       "\n",
       "                                    store_name                 address  \\\n",
       "2706282            Hy-Vee Food Store / Carroll  905 US HIGHWAY 30 WEST   \n",
       "3839290   Hy-Vee Food Store #2 / Council Bluff        1745 MADISON AVE   \n",
       "7978960                Mac's Liquor And Videos      220 EAST JEFFERSON   \n",
       "9287924              Central City Liquor, Inc.            1460 2ND AVE   \n",
       "10180310          Hy-Vee #3 Food and Drugstore      1823 E KIMBERLY RD   \n",
       "11241903          Hy-Vee #3 Food and Drugstore      1823 E KIMBERLY RD   \n",
       "11995712     Hy-Vee Food Store #4 / Sioux City      2827 HAMILTON BLVD   \n",
       "15366549        Hy-Vee Food and Drug / Clinton        901 SOUTH 4TH ST   \n",
       "15574367                       A J'S LIQUOR II        2515 CHAMBERLAIN   \n",
       "15903002         Hy-Vee Food Store / Indianola         910 N JEFFERSON   \n",
       "\n",
       "                    city zip_code                         store_location  \\\n",
       "2706282          CARROLL    51401           POINT (-94.853591 42.064155)   \n",
       "3839290   COUNCIL BLUFFS    51503           POINT (-95.825137 41.242732)   \n",
       "7978960          CORYDON    50060           POINT (-93.315977 40.757158)   \n",
       "9287924       DES MOINES    50314            POINT (-93.619787 41.60566)   \n",
       "10180310       DAVENPORT    52807   POINT (-90.548919 41.55678100000001)   \n",
       "11241903       DAVENPORT    52807   POINT (-90.548919 41.55678100000001)   \n",
       "11995712      SIOUX CITY    51104           POINT (-96.417783 42.519886)   \n",
       "15366549         CLINTON    52732  POINT (-90.193204 41.836268000000004)   \n",
       "15574367            AMES    50010           POINT (-93.650838 42.021461)   \n",
       "15903002       INDIANOLA    50125                                   None   \n",
       "\n",
       "         county_number         county  ... bottle_volume_ml state_bottle_cost  \\\n",
       "2706282             14        CARROLL  ...              500              5.00   \n",
       "3839290             78  POTTAWATTAMIE  ...              600             10.03   \n",
       "7978960             93          WAYNE  ...              600             10.03   \n",
       "9287924             77           POLK  ...              600             10.03   \n",
       "10180310            82          SCOTT  ...              500              5.00   \n",
       "11241903            82          SCOTT  ...              600             10.03   \n",
       "11995712            97       WOODBURY  ...              600             10.03   \n",
       "15366549            23        CLINTON  ...              600             10.03   \n",
       "15574367            85          STORY  ...              600             10.03   \n",
       "15903002            91         WARREN  ...              500              5.00   \n",
       "\n",
       "         state_bottle_retail bottles_sold sale_dollars volume_sold_liters  \\\n",
       "2706282                 7.50            2          NaN                1.0   \n",
       "3839290                15.05            3          NaN                1.8   \n",
       "7978960                15.05            1          NaN                0.6   \n",
       "9287924                15.05            1          NaN                0.6   \n",
       "10180310                7.50            1          NaN                0.5   \n",
       "11241903               15.05            2          NaN                1.2   \n",
       "11995712               15.05            2          NaN                1.2   \n",
       "15366549               15.05            3          NaN                1.8   \n",
       "15574367               15.05            1          NaN                0.6   \n",
       "15903002                7.50            1          NaN                0.5   \n",
       "\n",
       "          volume_sold_gallons  year  month  day  \n",
       "2706282                  0.26  2012      1   31  \n",
       "3839290                  0.48  2012      1   31  \n",
       "7978960                  0.16  2012      1   30  \n",
       "9287924                  0.16  2012      1   30  \n",
       "10180310                 0.13  2012      1   31  \n",
       "11241903                 0.32  2012      1   31  \n",
       "11995712                 0.32  2012      1   30  \n",
       "15366549                 0.48  2012      1   31  \n",
       "15574367                 0.16  2012      1   31  \n",
       "15903002                 0.13  2012      1   31  \n",
       "\n",
       "[10 rows x 27 columns]"
      ]
     },
     "execution_count": 26,
     "metadata": {},
     "output_type": "execute_result"
    }
   ],
   "source": [
    "df[pd.isna(df.sale_dollars)]"
   ]
  },
  {
   "cell_type": "code",
   "execution_count": 27,
   "metadata": {},
   "outputs": [],
   "source": [
    "df.sale_dollars = df.sale_dollars.fillna(df.state_bottle_retail*df.bottles_sold)"
   ]
  },
  {
   "cell_type": "code",
   "execution_count": 28,
   "metadata": {},
   "outputs": [],
   "source": [
    "df.city = df.city.fillna('NOT_FOUND')"
   ]
  },
  {
   "cell_type": "code",
   "execution_count": 29,
   "metadata": {},
   "outputs": [
    {
     "data": {
      "text/plain": [
       "invoice_and_item_number          0\n",
       "date                             0\n",
       "store_number                     0\n",
       "store_name                       0\n",
       "address                        848\n",
       "city                             0\n",
       "zip_code                       847\n",
       "store_location             1886023\n",
       "county_number                 1646\n",
       "county                        1644\n",
       "category                     16974\n",
       "category_name                16994\n",
       "vendor_number                    5\n",
       "vendor_name                      3\n",
       "item_number                      0\n",
       "item_description                 0\n",
       "pack                             0\n",
       "bottle_volume_ml                 0\n",
       "state_bottle_cost                0\n",
       "state_bottle_retail              0\n",
       "bottles_sold                     0\n",
       "sale_dollars                     0\n",
       "volume_sold_liters               0\n",
       "volume_sold_gallons              0\n",
       "year                             0\n",
       "month                            0\n",
       "day                              0\n",
       "dtype: int64"
      ]
     },
     "execution_count": 29,
     "metadata": {},
     "output_type": "execute_result"
    }
   ],
   "source": [
    "# Checking for the Null values\n",
    "df.isna().sum()"
   ]
  },
  {
   "cell_type": "code",
   "execution_count": 30,
   "metadata": {},
   "outputs": [
    {
     "data": {
      "text/plain": [
       "<matplotlib.axes._subplots.AxesSubplot at 0x1ffebfac6a0>"
      ]
     },
     "execution_count": 30,
     "metadata": {},
     "output_type": "execute_result"
    },
    {
     "data": {
      "image/png": "[encoded data removed]",
      "text/plain": [
       "<Figure size 432x288 with 2 Axes>"
      ]
     },
     "metadata": {
      "needs_background": "light"
     },
     "output_type": "display_data"
    }
   ],
   "source": [
    "sns.heatmap(df.corr(), annot=True, fmt=\".1f\")\n",
    "# expected result"
   ]
  },
  {
   "cell_type": "code",
   "execution_count": 31,
   "metadata": {},
   "outputs": [
    {
     "data": {
      "text/html": [
       "<div>\n",
       "<style scoped>\n",
       "    .dataframe tbody tr th:only-of-type {\n",
       "        vertical-align: middle;\n",
       "    }\n",
       "\n",
       "    .dataframe tbody tr th {\n",
       "        vertical-align: top;\n",
       "    }\n",
       "\n",
       "    .dataframe thead th {\n",
       "        text-align: right;\n",
       "    }\n",
       "</style>\n",
       "<table border=\"1\" class=\"dataframe\">\n",
       "  <thead>\n",
       "    <tr style=\"text-align: right;\">\n",
       "      <th></th>\n",
       "      <th>item_description</th>\n",
       "      <th>volume_sold_liters</th>\n",
       "      <th>volume_sold_gallons</th>\n",
       "      <th>sale_dollars</th>\n",
       "    </tr>\n",
       "  </thead>\n",
       "  <tbody>\n",
       "    <tr>\n",
       "      <th>1048</th>\n",
       "      <td>Black Velvet</td>\n",
       "      <td>11551002</td>\n",
       "      <td>3050944</td>\n",
       "      <td>107218466</td>\n",
       "    </tr>\n",
       "    <tr>\n",
       "      <th>4008</th>\n",
       "      <td>Hawkeye Vodka</td>\n",
       "      <td>7809411</td>\n",
       "      <td>2062599</td>\n",
       "      <td>49496720</td>\n",
       "    </tr>\n",
       "    <tr>\n",
       "      <th>1685</th>\n",
       "      <td>Captain Morgan Spiced Rum</td>\n",
       "      <td>4356605</td>\n",
       "      <td>1150701</td>\n",
       "      <td>73458084</td>\n",
       "    </tr>\n",
       "    <tr>\n",
       "      <th>8139</th>\n",
       "      <td>Titos Handmade Vodka</td>\n",
       "      <td>3955936</td>\n",
       "      <td>1044513</td>\n",
       "      <td>70603190</td>\n",
       "    </tr>\n",
       "    <tr>\n",
       "      <th>3148</th>\n",
       "      <td>Fireball Cinnamon Whiskey</td>\n",
       "      <td>3601269</td>\n",
       "      <td>951020</td>\n",
       "      <td>58175005</td>\n",
       "    </tr>\n",
       "    <tr>\n",
       "      <th>...</th>\n",
       "      <td>...</td>\n",
       "      <td>...</td>\n",
       "      <td>...</td>\n",
       "      <td>...</td>\n",
       "    </tr>\n",
       "    <tr>\n",
       "      <th>6203</th>\n",
       "      <td>Pearl Peach Mini</td>\n",
       "      <td>0</td>\n",
       "      <td>0</td>\n",
       "      <td>79</td>\n",
       "    </tr>\n",
       "    <tr>\n",
       "      <th>8455</th>\n",
       "      <td>Westerhall Plantation Rum</td>\n",
       "      <td>0</td>\n",
       "      <td>0</td>\n",
       "      <td>303</td>\n",
       "    </tr>\n",
       "    <tr>\n",
       "      <th>1495</th>\n",
       "      <td>Butter Pecan Sippin'' Cream 50ml</td>\n",
       "      <td>0</td>\n",
       "      <td>0</td>\n",
       "      <td>119</td>\n",
       "    </tr>\n",
       "    <tr>\n",
       "      <th>7660</th>\n",
       "      <td>Stoli Crushed Pineapple Mini</td>\n",
       "      <td>0</td>\n",
       "      <td>0</td>\n",
       "      <td>88</td>\n",
       "    </tr>\n",
       "    <tr>\n",
       "      <th>1579</th>\n",
       "      <td>Canadian Club Dock 57 Mini DNO</td>\n",
       "      <td>0</td>\n",
       "      <td>0</td>\n",
       "      <td>86</td>\n",
       "    </tr>\n",
       "  </tbody>\n",
       "</table>\n",
       "<p>8706 rows × 4 columns</p>\n",
       "</div>"
      ],
      "text/plain": [
       "                      item_description  volume_sold_liters  \\\n",
       "1048                      Black Velvet            11551002   \n",
       "4008                     Hawkeye Vodka             7809411   \n",
       "1685         Captain Morgan Spiced Rum             4356605   \n",
       "8139              Titos Handmade Vodka             3955936   \n",
       "3148         Fireball Cinnamon Whiskey             3601269   \n",
       "...                                ...                 ...   \n",
       "6203                  Pearl Peach Mini                   0   \n",
       "8455         Westerhall Plantation Rum                   0   \n",
       "1495  Butter Pecan Sippin'' Cream 50ml                   0   \n",
       "7660      Stoli Crushed Pineapple Mini                   0   \n",
       "1579    Canadian Club Dock 57 Mini DNO                   0   \n",
       "\n",
       "      volume_sold_gallons  sale_dollars  \n",
       "1048              3050944     107218466  \n",
       "4008              2062599      49496720  \n",
       "1685              1150701      73458084  \n",
       "8139              1044513      70603190  \n",
       "3148               951020      58175005  \n",
       "...                   ...           ...  \n",
       "6203                    0            79  \n",
       "8455                    0           303  \n",
       "1495                    0           119  \n",
       "7660                    0            88  \n",
       "1579                    0            86  \n",
       "\n",
       "[8706 rows x 4 columns]"
      ]
     },
     "execution_count": 31,
     "metadata": {},
     "output_type": "execute_result"
    }
   ],
   "source": [
    "df.groupby(['item_description'],as_index=False) \\\n",
    "        .agg({'volume_sold_liters':'sum' ,'volume_sold_gallons':'sum' ,  'sale_dollars':'sum'}) \\\n",
    "        .sort_values(['volume_sold_liters', 'sale_dollars' ], ascending=False) \\\n",
    "        .astype({'sale_dollars': 'int','volume_sold_liters': 'int','volume_sold_gallons': 'int'})\n",
    "\n",
    "# top products during all time with starnge last position"
   ]
  },
  {
   "cell_type": "code",
   "execution_count": 32,
   "metadata": {},
   "outputs": [],
   "source": [
    "df.drop('volume_sold_gallons', inplace=True, axis=1)"
   ]
  },
  {
   "cell_type": "code",
   "execution_count": 33,
   "metadata": {},
   "outputs": [
    {
     "data": {
      "text/plain": [
       "array([\"Burnett's Pink Lemonade Vodka Mini\", 'Rondiaz DSS Lemon Rum',\n",
       "       'Three Olives Orange Vodka', 'Canadian Club Dock 57 Mini DNO'],\n",
       "      dtype=object)"
      ]
     },
     "execution_count": 33,
     "metadata": {},
     "output_type": "execute_result"
    }
   ],
   "source": [
    "df.item_description[(df.volume_sold_liters==0) & (df.sale_dollars!=0)].unique()"
   ]
  },
  {
   "cell_type": "code",
   "execution_count": 34,
   "metadata": {},
   "outputs": [],
   "source": [
    "df0 = df[['item_description','state_bottle_retail','year','bottle_volume_ml','month']] \\\n",
    "[df.state_bottle_retail==0].drop_duplicates().sort_values('item_description', ascending=False)"
   ]
  },
  {
   "cell_type": "code",
   "execution_count": 35,
   "metadata": {},
   "outputs": [],
   "source": [
    "df1 = df[['item_description','state_bottle_retail','year','bottle_volume_ml','month']] \\\n",
    "[df.item_description.isin(df.item_description[df.state_bottle_retail==0].unique())] \\\n",
    ".drop_duplicates().sort_values('item_description', ascending=False)"
   ]
  },
  {
   "cell_type": "code",
   "execution_count": 36,
   "metadata": {},
   "outputs": [
    {
     "data": {
      "text/html": [
       "<div>\n",
       "<style scoped>\n",
       "    .dataframe tbody tr th:only-of-type {\n",
       "        vertical-align: middle;\n",
       "    }\n",
       "\n",
       "    .dataframe tbody tr th {\n",
       "        vertical-align: top;\n",
       "    }\n",
       "\n",
       "    .dataframe thead th {\n",
       "        text-align: right;\n",
       "    }\n",
       "</style>\n",
       "<table border=\"1\" class=\"dataframe\">\n",
       "  <thead>\n",
       "    <tr style=\"text-align: right;\">\n",
       "      <th></th>\n",
       "      <th>item_description</th>\n",
       "      <th>state_bottle_retail_x</th>\n",
       "      <th>year</th>\n",
       "      <th>bottle_volume_ml</th>\n",
       "      <th>month_x</th>\n",
       "      <th>state_bottle_retail_y</th>\n",
       "      <th>month_y</th>\n",
       "    </tr>\n",
       "  </thead>\n",
       "  <tbody>\n",
       "    <tr>\n",
       "      <th>0</th>\n",
       "      <td>Yahara Bay Aged Rum</td>\n",
       "      <td>0.0</td>\n",
       "      <td>2012</td>\n",
       "      <td>375</td>\n",
       "      <td>9</td>\n",
       "      <td>16.53</td>\n",
       "      <td>11</td>\n",
       "    </tr>\n",
       "    <tr>\n",
       "      <th>3</th>\n",
       "      <td>Yahara Bay Aged Rum</td>\n",
       "      <td>0.0</td>\n",
       "      <td>2012</td>\n",
       "      <td>375</td>\n",
       "      <td>4</td>\n",
       "      <td>16.53</td>\n",
       "      <td>11</td>\n",
       "    </tr>\n",
       "    <tr>\n",
       "      <th>6</th>\n",
       "      <td>Thunder 101 Peppermint Schnapps</td>\n",
       "      <td>0.0</td>\n",
       "      <td>2012</td>\n",
       "      <td>750</td>\n",
       "      <td>2</td>\n",
       "      <td>9.64</td>\n",
       "      <td>1</td>\n",
       "    </tr>\n",
       "    <tr>\n",
       "      <th>7</th>\n",
       "      <td>Thunder 101 Peppermint Schnapps</td>\n",
       "      <td>0.0</td>\n",
       "      <td>2012</td>\n",
       "      <td>750</td>\n",
       "      <td>2</td>\n",
       "      <td>9.64</td>\n",
       "      <td>4</td>\n",
       "    </tr>\n",
       "    <tr>\n",
       "      <th>8</th>\n",
       "      <td>Thunder 101 Peppermint Schnapps</td>\n",
       "      <td>0.0</td>\n",
       "      <td>2012</td>\n",
       "      <td>750</td>\n",
       "      <td>2</td>\n",
       "      <td>9.75</td>\n",
       "      <td>11</td>\n",
       "    </tr>\n",
       "    <tr>\n",
       "      <th>...</th>\n",
       "      <td>...</td>\n",
       "      <td>...</td>\n",
       "      <td>...</td>\n",
       "      <td>...</td>\n",
       "      <td>...</td>\n",
       "      <td>...</td>\n",
       "      <td>...</td>\n",
       "    </tr>\n",
       "    <tr>\n",
       "      <th>356</th>\n",
       "      <td>Hangar One Kaffir Lime Vodka</td>\n",
       "      <td>0.0</td>\n",
       "      <td>2013</td>\n",
       "      <td>750</td>\n",
       "      <td>4</td>\n",
       "      <td>27.00</td>\n",
       "      <td>12</td>\n",
       "    </tr>\n",
       "    <tr>\n",
       "      <th>357</th>\n",
       "      <td>Hangar One Kaffir Lime Vodka</td>\n",
       "      <td>0.0</td>\n",
       "      <td>2013</td>\n",
       "      <td>750</td>\n",
       "      <td>4</td>\n",
       "      <td>27.00</td>\n",
       "      <td>10</td>\n",
       "    </tr>\n",
       "    <tr>\n",
       "      <th>358</th>\n",
       "      <td>Hangar One Kaffir Lime Vodka</td>\n",
       "      <td>0.0</td>\n",
       "      <td>2013</td>\n",
       "      <td>750</td>\n",
       "      <td>4</td>\n",
       "      <td>22.47</td>\n",
       "      <td>3</td>\n",
       "    </tr>\n",
       "    <tr>\n",
       "      <th>360</th>\n",
       "      <td>Hangar One Kaffir Lime Vodka</td>\n",
       "      <td>0.0</td>\n",
       "      <td>2013</td>\n",
       "      <td>750</td>\n",
       "      <td>4</td>\n",
       "      <td>27.00</td>\n",
       "      <td>8</td>\n",
       "    </tr>\n",
       "    <tr>\n",
       "      <th>363</th>\n",
       "      <td>Grappa Moscato</td>\n",
       "      <td>0.0</td>\n",
       "      <td>2012</td>\n",
       "      <td>1000</td>\n",
       "      <td>4</td>\n",
       "      <td>59.73</td>\n",
       "      <td>6</td>\n",
       "    </tr>\n",
       "  </tbody>\n",
       "</table>\n",
       "<p>326 rows × 7 columns</p>\n",
       "</div>"
      ],
      "text/plain": [
       "                    item_description  state_bottle_retail_x  year  \\\n",
       "0                Yahara Bay Aged Rum                    0.0  2012   \n",
       "3                Yahara Bay Aged Rum                    0.0  2012   \n",
       "6    Thunder 101 Peppermint Schnapps                    0.0  2012   \n",
       "7    Thunder 101 Peppermint Schnapps                    0.0  2012   \n",
       "8    Thunder 101 Peppermint Schnapps                    0.0  2012   \n",
       "..                               ...                    ...   ...   \n",
       "356     Hangar One Kaffir Lime Vodka                    0.0  2013   \n",
       "357     Hangar One Kaffir Lime Vodka                    0.0  2013   \n",
       "358     Hangar One Kaffir Lime Vodka                    0.0  2013   \n",
       "360     Hangar One Kaffir Lime Vodka                    0.0  2013   \n",
       "363                   Grappa Moscato                    0.0  2012   \n",
       "\n",
       "     bottle_volume_ml  month_x  state_bottle_retail_y  month_y  \n",
       "0                 375        9                  16.53       11  \n",
       "3                 375        4                  16.53       11  \n",
       "6                 750        2                   9.64        1  \n",
       "7                 750        2                   9.64        4  \n",
       "8                 750        2                   9.75       11  \n",
       "..                ...      ...                    ...      ...  \n",
       "356               750        4                  27.00       12  \n",
       "357               750        4                  27.00       10  \n",
       "358               750        4                  22.47        3  \n",
       "360               750        4                  27.00        8  \n",
       "363              1000        4                  59.73        6  \n",
       "\n",
       "[326 rows x 7 columns]"
      ]
     },
     "execution_count": 36,
     "metadata": {},
     "output_type": "execute_result"
    }
   ],
   "source": [
    "df0 \\\n",
    "    .merge(df1, on=['item_description','year','bottle_volume_ml']) \\\n",
    "    .query(\"state_bottle_retail_y!=0\") \\\n",
    "    .drop_duplicates()\n",
    "\n",
    "# can't fix all strange  data for last positions on top products board\n",
    "# can't find right price "
   ]
  },
  {
   "cell_type": "code",
   "execution_count": 37,
   "metadata": {},
   "outputs": [
    {
     "data": {
      "text/html": [
       "<div>\n",
       "<style scoped>\n",
       "    .dataframe tbody tr th:only-of-type {\n",
       "        vertical-align: middle;\n",
       "    }\n",
       "\n",
       "    .dataframe tbody tr th {\n",
       "        vertical-align: top;\n",
       "    }\n",
       "\n",
       "    .dataframe thead th {\n",
       "        text-align: right;\n",
       "    }\n",
       "</style>\n",
       "<table border=\"1\" class=\"dataframe\">\n",
       "  <thead>\n",
       "    <tr style=\"text-align: right;\">\n",
       "      <th></th>\n",
       "      <th>invoice_and_item_number</th>\n",
       "      <th>date</th>\n",
       "      <th>store_number</th>\n",
       "      <th>store_name</th>\n",
       "      <th>address</th>\n",
       "      <th>city</th>\n",
       "      <th>zip_code</th>\n",
       "      <th>store_location</th>\n",
       "      <th>county_number</th>\n",
       "      <th>county</th>\n",
       "      <th>...</th>\n",
       "      <th>pack</th>\n",
       "      <th>bottle_volume_ml</th>\n",
       "      <th>state_bottle_cost</th>\n",
       "      <th>state_bottle_retail</th>\n",
       "      <th>bottles_sold</th>\n",
       "      <th>sale_dollars</th>\n",
       "      <th>volume_sold_liters</th>\n",
       "      <th>year</th>\n",
       "      <th>month</th>\n",
       "      <th>day</th>\n",
       "    </tr>\n",
       "  </thead>\n",
       "  <tbody>\n",
       "    <tr>\n",
       "      <th>9659</th>\n",
       "      <td>INV-07251200001</td>\n",
       "      <td>2017-09-14</td>\n",
       "      <td>4984</td>\n",
       "      <td>Fast Ave One Stop</td>\n",
       "      <td>2111 Park Ave</td>\n",
       "      <td>MUSCATINE</td>\n",
       "      <td>52761</td>\n",
       "      <td>POINT (-91.030306 41.447149)</td>\n",
       "      <td>70</td>\n",
       "      <td>MUSCATINE</td>\n",
       "      <td>...</td>\n",
       "      <td>12</td>\n",
       "      <td>750</td>\n",
       "      <td>11.07</td>\n",
       "      <td>16.61</td>\n",
       "      <td>1</td>\n",
       "      <td>0.0</td>\n",
       "      <td>0.75</td>\n",
       "      <td>2017</td>\n",
       "      <td>9</td>\n",
       "      <td>14</td>\n",
       "    </tr>\n",
       "    <tr>\n",
       "      <th>25489</th>\n",
       "      <td>INV-00762700001</td>\n",
       "      <td>2016-10-04</td>\n",
       "      <td>5113</td>\n",
       "      <td>Ray's Supermarket, Inc.</td>\n",
       "      <td>1975 Franklin St</td>\n",
       "      <td>WATERLOO</td>\n",
       "      <td>50703</td>\n",
       "      <td>POINT (-92.315215 42.495394)</td>\n",
       "      <td>7</td>\n",
       "      <td>BLACK HAWK</td>\n",
       "      <td>...</td>\n",
       "      <td>12</td>\n",
       "      <td>750</td>\n",
       "      <td>6.83</td>\n",
       "      <td>10.25</td>\n",
       "      <td>2</td>\n",
       "      <td>0.0</td>\n",
       "      <td>1.50</td>\n",
       "      <td>2016</td>\n",
       "      <td>10</td>\n",
       "      <td>4</td>\n",
       "    </tr>\n",
       "    <tr>\n",
       "      <th>30058</th>\n",
       "      <td>INV-00406400001</td>\n",
       "      <td>2016-09-16</td>\n",
       "      <td>4415</td>\n",
       "      <td>KUM &amp; GO #513 / ACKLEY</td>\n",
       "      <td>420 Sherman St</td>\n",
       "      <td>ACKLEY</td>\n",
       "      <td>50601</td>\n",
       "      <td>POINT (-93.056656 42.556727)</td>\n",
       "      <td>42</td>\n",
       "      <td>HARDIN</td>\n",
       "      <td>...</td>\n",
       "      <td>48</td>\n",
       "      <td>200</td>\n",
       "      <td>3.00</td>\n",
       "      <td>4.50</td>\n",
       "      <td>4</td>\n",
       "      <td>0.0</td>\n",
       "      <td>0.80</td>\n",
       "      <td>2016</td>\n",
       "      <td>9</td>\n",
       "      <td>16</td>\n",
       "    </tr>\n",
       "    <tr>\n",
       "      <th>30071</th>\n",
       "      <td>INV-03736400001</td>\n",
       "      <td>2017-03-09</td>\n",
       "      <td>4877</td>\n",
       "      <td>World Liquor &amp; Tobacco</td>\n",
       "      <td>1775 NW 86th St</td>\n",
       "      <td>CLIVE</td>\n",
       "      <td>50325</td>\n",
       "      <td>POINT (-93.736232 41.607853)</td>\n",
       "      <td>77</td>\n",
       "      <td>POLK</td>\n",
       "      <td>...</td>\n",
       "      <td>12</td>\n",
       "      <td>375</td>\n",
       "      <td>5.50</td>\n",
       "      <td>8.25</td>\n",
       "      <td>1</td>\n",
       "      <td>0.0</td>\n",
       "      <td>0.37</td>\n",
       "      <td>2017</td>\n",
       "      <td>3</td>\n",
       "      <td>9</td>\n",
       "    </tr>\n",
       "    <tr>\n",
       "      <th>44084</th>\n",
       "      <td>S04155700016</td>\n",
       "      <td>2012-02-20</td>\n",
       "      <td>2597</td>\n",
       "      <td>Hy-Vee Food Store / Cherokee</td>\n",
       "      <td>1300 N. SECOND</td>\n",
       "      <td>CHEROKEE</td>\n",
       "      <td>51012</td>\n",
       "      <td>POINT (-95.552585 42.765259)</td>\n",
       "      <td>18</td>\n",
       "      <td>CHEROKEE</td>\n",
       "      <td>...</td>\n",
       "      <td>12</td>\n",
       "      <td>750</td>\n",
       "      <td>0.00</td>\n",
       "      <td>0.00</td>\n",
       "      <td>12</td>\n",
       "      <td>0.0</td>\n",
       "      <td>9.00</td>\n",
       "      <td>2012</td>\n",
       "      <td>2</td>\n",
       "      <td>20</td>\n",
       "    </tr>\n",
       "    <tr>\n",
       "      <th>...</th>\n",
       "      <td>...</td>\n",
       "      <td>...</td>\n",
       "      <td>...</td>\n",
       "      <td>...</td>\n",
       "      <td>...</td>\n",
       "      <td>...</td>\n",
       "      <td>...</td>\n",
       "      <td>...</td>\n",
       "      <td>...</td>\n",
       "      <td>...</td>\n",
       "      <td>...</td>\n",
       "      <td>...</td>\n",
       "      <td>...</td>\n",
       "      <td>...</td>\n",
       "      <td>...</td>\n",
       "      <td>...</td>\n",
       "      <td>...</td>\n",
       "      <td>...</td>\n",
       "      <td>...</td>\n",
       "      <td>...</td>\n",
       "      <td>...</td>\n",
       "    </tr>\n",
       "    <tr>\n",
       "      <th>19648389</th>\n",
       "      <td>INV-00893700001</td>\n",
       "      <td>2016-10-07</td>\n",
       "      <td>4786</td>\n",
       "      <td>Casey's General Store #1706 / Winterset</td>\n",
       "      <td>1021 N 1st St</td>\n",
       "      <td>WINTERSET</td>\n",
       "      <td>50273</td>\n",
       "      <td>POINT (-94.013479 41.34362600000001)</td>\n",
       "      <td>61</td>\n",
       "      <td>MADISON</td>\n",
       "      <td>...</td>\n",
       "      <td>12</td>\n",
       "      <td>750</td>\n",
       "      <td>5.78</td>\n",
       "      <td>8.67</td>\n",
       "      <td>3</td>\n",
       "      <td>0.0</td>\n",
       "      <td>2.25</td>\n",
       "      <td>2016</td>\n",
       "      <td>10</td>\n",
       "      <td>7</td>\n",
       "    </tr>\n",
       "    <tr>\n",
       "      <th>19651042</th>\n",
       "      <td>S03967000034</td>\n",
       "      <td>2012-02-07</td>\n",
       "      <td>2448</td>\n",
       "      <td>Bottle Boutique</td>\n",
       "      <td>705 E. SECOND</td>\n",
       "      <td>INDIANOLA</td>\n",
       "      <td>50125</td>\n",
       "      <td>POINT (-93.55261600000001 41.358176)</td>\n",
       "      <td>91</td>\n",
       "      <td>WARREN</td>\n",
       "      <td>...</td>\n",
       "      <td>12</td>\n",
       "      <td>1000</td>\n",
       "      <td>0.00</td>\n",
       "      <td>0.00</td>\n",
       "      <td>1</td>\n",
       "      <td>0.0</td>\n",
       "      <td>1.00</td>\n",
       "      <td>2012</td>\n",
       "      <td>2</td>\n",
       "      <td>7</td>\n",
       "    </tr>\n",
       "    <tr>\n",
       "      <th>19651490</th>\n",
       "      <td>INV-01220000001</td>\n",
       "      <td>2016-10-27</td>\n",
       "      <td>2582</td>\n",
       "      <td>Hy-Vee #2 Food Store / Mason City</td>\n",
       "      <td>551 S Illinois Ave</td>\n",
       "      <td>MASON CITY</td>\n",
       "      <td>50401</td>\n",
       "      <td>POINT (-93.17114 43.14623)</td>\n",
       "      <td>17</td>\n",
       "      <td>CERRO GORD</td>\n",
       "      <td>...</td>\n",
       "      <td>6</td>\n",
       "      <td>1750</td>\n",
       "      <td>20.17</td>\n",
       "      <td>30.26</td>\n",
       "      <td>5</td>\n",
       "      <td>0.0</td>\n",
       "      <td>8.75</td>\n",
       "      <td>2016</td>\n",
       "      <td>10</td>\n",
       "      <td>27</td>\n",
       "    </tr>\n",
       "    <tr>\n",
       "      <th>19657552</th>\n",
       "      <td>S04141600015</td>\n",
       "      <td>2012-02-20</td>\n",
       "      <td>4502</td>\n",
       "      <td>Neighborhood Mart / Waterloo</td>\n",
       "      <td>2100, LAFAYETTE ST</td>\n",
       "      <td>WATERLOO</td>\n",
       "      <td>50703</td>\n",
       "      <td>POINT (-92.31397200000002 42.489914)</td>\n",
       "      <td>07</td>\n",
       "      <td>BLACK HAWK</td>\n",
       "      <td>...</td>\n",
       "      <td>12</td>\n",
       "      <td>1000</td>\n",
       "      <td>0.00</td>\n",
       "      <td>0.00</td>\n",
       "      <td>2</td>\n",
       "      <td>0.0</td>\n",
       "      <td>2.00</td>\n",
       "      <td>2012</td>\n",
       "      <td>2</td>\n",
       "      <td>20</td>\n",
       "    </tr>\n",
       "    <tr>\n",
       "      <th>19664083</th>\n",
       "      <td>S04177800048</td>\n",
       "      <td>2012-02-21</td>\n",
       "      <td>2460</td>\n",
       "      <td>Liquor Barn, Inc.</td>\n",
       "      <td>721 CENTRAL AVENUE WEST</td>\n",
       "      <td>HAMPTON</td>\n",
       "      <td>50441</td>\n",
       "      <td>POINT (-93.21693 42.741728)</td>\n",
       "      <td>35</td>\n",
       "      <td>FRANKLIN</td>\n",
       "      <td>...</td>\n",
       "      <td>12</td>\n",
       "      <td>1000</td>\n",
       "      <td>0.00</td>\n",
       "      <td>0.00</td>\n",
       "      <td>4</td>\n",
       "      <td>0.0</td>\n",
       "      <td>4.00</td>\n",
       "      <td>2012</td>\n",
       "      <td>2</td>\n",
       "      <td>21</td>\n",
       "    </tr>\n",
       "  </tbody>\n",
       "</table>\n",
       "<p>4943 rows × 26 columns</p>\n",
       "</div>"
      ],
      "text/plain": [
       "         invoice_and_item_number       date store_number  \\\n",
       "9659             INV-07251200001 2017-09-14         4984   \n",
       "25489            INV-00762700001 2016-10-04         5113   \n",
       "30058            INV-00406400001 2016-09-16         4415   \n",
       "30071            INV-03736400001 2017-03-09         4877   \n",
       "44084               S04155700016 2012-02-20         2597   \n",
       "...                          ...        ...          ...   \n",
       "19648389         INV-00893700001 2016-10-07         4786   \n",
       "19651042            S03967000034 2012-02-07         2448   \n",
       "19651490         INV-01220000001 2016-10-27         2582   \n",
       "19657552            S04141600015 2012-02-20         4502   \n",
       "19664083            S04177800048 2012-02-21         2460   \n",
       "\n",
       "                                       store_name                  address  \\\n",
       "9659                            Fast Ave One Stop            2111 Park Ave   \n",
       "25489                     Ray's Supermarket, Inc.         1975 Franklin St   \n",
       "30058                      KUM & GO #513 / ACKLEY           420 Sherman St   \n",
       "30071                      World Liquor & Tobacco          1775 NW 86th St   \n",
       "44084                Hy-Vee Food Store / Cherokee           1300 N. SECOND   \n",
       "...                                           ...                      ...   \n",
       "19648389  Casey's General Store #1706 / Winterset            1021 N 1st St   \n",
       "19651042                          Bottle Boutique            705 E. SECOND   \n",
       "19651490        Hy-Vee #2 Food Store / Mason City       551 S Illinois Ave   \n",
       "19657552             Neighborhood Mart / Waterloo       2100, LAFAYETTE ST   \n",
       "19664083                        Liquor Barn, Inc.  721 CENTRAL AVENUE WEST   \n",
       "\n",
       "                city zip_code                        store_location  \\\n",
       "9659       MUSCATINE    52761          POINT (-91.030306 41.447149)   \n",
       "25489       WATERLOO    50703          POINT (-92.315215 42.495394)   \n",
       "30058         ACKLEY    50601          POINT (-93.056656 42.556727)   \n",
       "30071          CLIVE    50325          POINT (-93.736232 41.607853)   \n",
       "44084       CHEROKEE    51012          POINT (-95.552585 42.765259)   \n",
       "...              ...      ...                                   ...   \n",
       "19648389   WINTERSET    50273  POINT (-94.013479 41.34362600000001)   \n",
       "19651042   INDIANOLA    50125  POINT (-93.55261600000001 41.358176)   \n",
       "19651490  MASON CITY    50401            POINT (-93.17114 43.14623)   \n",
       "19657552    WATERLOO    50703  POINT (-92.31397200000002 42.489914)   \n",
       "19664083     HAMPTON    50441           POINT (-93.21693 42.741728)   \n",
       "\n",
       "         county_number      county  ... pack bottle_volume_ml  \\\n",
       "9659                70   MUSCATINE  ...   12              750   \n",
       "25489                7  BLACK HAWK  ...   12              750   \n",
       "30058               42      HARDIN  ...   48              200   \n",
       "30071               77        POLK  ...   12              375   \n",
       "44084               18    CHEROKEE  ...   12              750   \n",
       "...                ...         ...  ...  ...              ...   \n",
       "19648389            61     MADISON  ...   12              750   \n",
       "19651042            91      WARREN  ...   12             1000   \n",
       "19651490            17  CERRO GORD  ...    6             1750   \n",
       "19657552            07  BLACK HAWK  ...   12             1000   \n",
       "19664083            35    FRANKLIN  ...   12             1000   \n",
       "\n",
       "         state_bottle_cost state_bottle_retail bottles_sold sale_dollars  \\\n",
       "9659                 11.07               16.61            1          0.0   \n",
       "25489                 6.83               10.25            2          0.0   \n",
       "30058                 3.00                4.50            4          0.0   \n",
       "30071                 5.50                8.25            1          0.0   \n",
       "44084                 0.00                0.00           12          0.0   \n",
       "...                    ...                 ...          ...          ...   \n",
       "19648389              5.78                8.67            3          0.0   \n",
       "19651042              0.00                0.00            1          0.0   \n",
       "19651490             20.17               30.26            5          0.0   \n",
       "19657552              0.00                0.00            2          0.0   \n",
       "19664083              0.00                0.00            4          0.0   \n",
       "\n",
       "          volume_sold_liters  year  month  day  \n",
       "9659                    0.75  2017      9   14  \n",
       "25489                   1.50  2016     10    4  \n",
       "30058                   0.80  2016      9   16  \n",
       "30071                   0.37  2017      3    9  \n",
       "44084                   9.00  2012      2   20  \n",
       "...                      ...   ...    ...  ...  \n",
       "19648389                2.25  2016     10    7  \n",
       "19651042                1.00  2012      2    7  \n",
       "19651490                8.75  2016     10   27  \n",
       "19657552                2.00  2012      2   20  \n",
       "19664083                4.00  2012      2   21  \n",
       "\n",
       "[4943 rows x 26 columns]"
      ]
     },
     "execution_count": 37,
     "metadata": {},
     "output_type": "execute_result"
    }
   ],
   "source": [
    "df[(df.volume_sold_liters!=0) & (df.sale_dollars==0)]\n",
    "# But we can fix 'sale_dollars' where sale_dollars and state_bottle_retail not 0"
   ]
  },
  {
   "cell_type": "code",
   "execution_count": 38,
   "metadata": {},
   "outputs": [
    {
     "data": {
      "text/html": [
       "<div>\n",
       "<style scoped>\n",
       "    .dataframe tbody tr th:only-of-type {\n",
       "        vertical-align: middle;\n",
       "    }\n",
       "\n",
       "    .dataframe tbody tr th {\n",
       "        vertical-align: top;\n",
       "    }\n",
       "\n",
       "    .dataframe thead th {\n",
       "        text-align: right;\n",
       "    }\n",
       "</style>\n",
       "<table border=\"1\" class=\"dataframe\">\n",
       "  <thead>\n",
       "    <tr style=\"text-align: right;\">\n",
       "      <th></th>\n",
       "      <th>invoice_and_item_number</th>\n",
       "      <th>date</th>\n",
       "      <th>store_number</th>\n",
       "      <th>store_name</th>\n",
       "      <th>address</th>\n",
       "      <th>city</th>\n",
       "      <th>zip_code</th>\n",
       "      <th>store_location</th>\n",
       "      <th>county_number</th>\n",
       "      <th>county</th>\n",
       "      <th>...</th>\n",
       "      <th>pack</th>\n",
       "      <th>bottle_volume_ml</th>\n",
       "      <th>state_bottle_cost</th>\n",
       "      <th>state_bottle_retail</th>\n",
       "      <th>bottles_sold</th>\n",
       "      <th>sale_dollars</th>\n",
       "      <th>volume_sold_liters</th>\n",
       "      <th>year</th>\n",
       "      <th>month</th>\n",
       "      <th>day</th>\n",
       "    </tr>\n",
       "  </thead>\n",
       "  <tbody>\n",
       "    <tr>\n",
       "      <th>9659</th>\n",
       "      <td>INV-07251200001</td>\n",
       "      <td>2017-09-14</td>\n",
       "      <td>4984</td>\n",
       "      <td>Fast Ave One Stop</td>\n",
       "      <td>2111 Park Ave</td>\n",
       "      <td>MUSCATINE</td>\n",
       "      <td>52761</td>\n",
       "      <td>POINT (-91.030306 41.447149)</td>\n",
       "      <td>70</td>\n",
       "      <td>MUSCATINE</td>\n",
       "      <td>...</td>\n",
       "      <td>12</td>\n",
       "      <td>750</td>\n",
       "      <td>11.07</td>\n",
       "      <td>16.61</td>\n",
       "      <td>1</td>\n",
       "      <td>0.0</td>\n",
       "      <td>0.75</td>\n",
       "      <td>2017</td>\n",
       "      <td>9</td>\n",
       "      <td>14</td>\n",
       "    </tr>\n",
       "    <tr>\n",
       "      <th>25489</th>\n",
       "      <td>INV-00762700001</td>\n",
       "      <td>2016-10-04</td>\n",
       "      <td>5113</td>\n",
       "      <td>Ray's Supermarket, Inc.</td>\n",
       "      <td>1975 Franklin St</td>\n",
       "      <td>WATERLOO</td>\n",
       "      <td>50703</td>\n",
       "      <td>POINT (-92.315215 42.495394)</td>\n",
       "      <td>7</td>\n",
       "      <td>BLACK HAWK</td>\n",
       "      <td>...</td>\n",
       "      <td>12</td>\n",
       "      <td>750</td>\n",
       "      <td>6.83</td>\n",
       "      <td>10.25</td>\n",
       "      <td>2</td>\n",
       "      <td>0.0</td>\n",
       "      <td>1.50</td>\n",
       "      <td>2016</td>\n",
       "      <td>10</td>\n",
       "      <td>4</td>\n",
       "    </tr>\n",
       "    <tr>\n",
       "      <th>30058</th>\n",
       "      <td>INV-00406400001</td>\n",
       "      <td>2016-09-16</td>\n",
       "      <td>4415</td>\n",
       "      <td>KUM &amp; GO #513 / ACKLEY</td>\n",
       "      <td>420 Sherman St</td>\n",
       "      <td>ACKLEY</td>\n",
       "      <td>50601</td>\n",
       "      <td>POINT (-93.056656 42.556727)</td>\n",
       "      <td>42</td>\n",
       "      <td>HARDIN</td>\n",
       "      <td>...</td>\n",
       "      <td>48</td>\n",
       "      <td>200</td>\n",
       "      <td>3.00</td>\n",
       "      <td>4.50</td>\n",
       "      <td>4</td>\n",
       "      <td>0.0</td>\n",
       "      <td>0.80</td>\n",
       "      <td>2016</td>\n",
       "      <td>9</td>\n",
       "      <td>16</td>\n",
       "    </tr>\n",
       "    <tr>\n",
       "      <th>30071</th>\n",
       "      <td>INV-03736400001</td>\n",
       "      <td>2017-03-09</td>\n",
       "      <td>4877</td>\n",
       "      <td>World Liquor &amp; Tobacco</td>\n",
       "      <td>1775 NW 86th St</td>\n",
       "      <td>CLIVE</td>\n",
       "      <td>50325</td>\n",
       "      <td>POINT (-93.736232 41.607853)</td>\n",
       "      <td>77</td>\n",
       "      <td>POLK</td>\n",
       "      <td>...</td>\n",
       "      <td>12</td>\n",
       "      <td>375</td>\n",
       "      <td>5.50</td>\n",
       "      <td>8.25</td>\n",
       "      <td>1</td>\n",
       "      <td>0.0</td>\n",
       "      <td>0.37</td>\n",
       "      <td>2017</td>\n",
       "      <td>3</td>\n",
       "      <td>9</td>\n",
       "    </tr>\n",
       "    <tr>\n",
       "      <th>51360</th>\n",
       "      <td>INV-00763100001</td>\n",
       "      <td>2016-10-10</td>\n",
       "      <td>2538</td>\n",
       "      <td>Hy-Vee Food Store #3 / Waterloo</td>\n",
       "      <td>1422 Flammang Dr</td>\n",
       "      <td>WATERLOO</td>\n",
       "      <td>50702</td>\n",
       "      <td>POINT (-92.327917 42.459938)</td>\n",
       "      <td>7</td>\n",
       "      <td>BLACK HAWK</td>\n",
       "      <td>...</td>\n",
       "      <td>6</td>\n",
       "      <td>750</td>\n",
       "      <td>20.99</td>\n",
       "      <td>31.49</td>\n",
       "      <td>1</td>\n",
       "      <td>0.0</td>\n",
       "      <td>0.75</td>\n",
       "      <td>2016</td>\n",
       "      <td>10</td>\n",
       "      <td>10</td>\n",
       "    </tr>\n",
       "    <tr>\n",
       "      <th>...</th>\n",
       "      <td>...</td>\n",
       "      <td>...</td>\n",
       "      <td>...</td>\n",
       "      <td>...</td>\n",
       "      <td>...</td>\n",
       "      <td>...</td>\n",
       "      <td>...</td>\n",
       "      <td>...</td>\n",
       "      <td>...</td>\n",
       "      <td>...</td>\n",
       "      <td>...</td>\n",
       "      <td>...</td>\n",
       "      <td>...</td>\n",
       "      <td>...</td>\n",
       "      <td>...</td>\n",
       "      <td>...</td>\n",
       "      <td>...</td>\n",
       "      <td>...</td>\n",
       "      <td>...</td>\n",
       "      <td>...</td>\n",
       "      <td>...</td>\n",
       "    </tr>\n",
       "    <tr>\n",
       "      <th>19618255</th>\n",
       "      <td>INV-06760900001</td>\n",
       "      <td>2017-08-18</td>\n",
       "      <td>5279</td>\n",
       "      <td>Casey's General Store # 2560/ Ames</td>\n",
       "      <td>3020 Duff Ave</td>\n",
       "      <td>AMES</td>\n",
       "      <td>50010</td>\n",
       "      <td>POINT (-93.618576 42.05119)</td>\n",
       "      <td>85</td>\n",
       "      <td>STORY</td>\n",
       "      <td>...</td>\n",
       "      <td>6</td>\n",
       "      <td>1750</td>\n",
       "      <td>11.55</td>\n",
       "      <td>17.33</td>\n",
       "      <td>3</td>\n",
       "      <td>0.0</td>\n",
       "      <td>5.25</td>\n",
       "      <td>2017</td>\n",
       "      <td>8</td>\n",
       "      <td>18</td>\n",
       "    </tr>\n",
       "    <tr>\n",
       "      <th>19624934</th>\n",
       "      <td>INV-08887800001</td>\n",
       "      <td>2017-11-29</td>\n",
       "      <td>2565</td>\n",
       "      <td>Hy-Vee Food Store / Spencer</td>\n",
       "      <td>819 N Grand Ave</td>\n",
       "      <td>SPENCER</td>\n",
       "      <td>51301</td>\n",
       "      <td>POINT (-95.14506 43.145897)</td>\n",
       "      <td>21</td>\n",
       "      <td>CLAY</td>\n",
       "      <td>...</td>\n",
       "      <td>12</td>\n",
       "      <td>750</td>\n",
       "      <td>7.49</td>\n",
       "      <td>11.24</td>\n",
       "      <td>1</td>\n",
       "      <td>0.0</td>\n",
       "      <td>0.75</td>\n",
       "      <td>2017</td>\n",
       "      <td>11</td>\n",
       "      <td>29</td>\n",
       "    </tr>\n",
       "    <tr>\n",
       "      <th>19624935</th>\n",
       "      <td>INV-01009100001</td>\n",
       "      <td>2016-10-18</td>\n",
       "      <td>4103</td>\n",
       "      <td>Fareway Stores #093 / Ames</td>\n",
       "      <td>3619 Stange Rd</td>\n",
       "      <td>AMES</td>\n",
       "      <td>50010</td>\n",
       "      <td>POINT (-93.645008 42.057108)</td>\n",
       "      <td>85</td>\n",
       "      <td>STORY</td>\n",
       "      <td>...</td>\n",
       "      <td>6</td>\n",
       "      <td>750</td>\n",
       "      <td>9.00</td>\n",
       "      <td>13.50</td>\n",
       "      <td>1</td>\n",
       "      <td>0.0</td>\n",
       "      <td>0.75</td>\n",
       "      <td>2016</td>\n",
       "      <td>10</td>\n",
       "      <td>18</td>\n",
       "    </tr>\n",
       "    <tr>\n",
       "      <th>19648389</th>\n",
       "      <td>INV-00893700001</td>\n",
       "      <td>2016-10-07</td>\n",
       "      <td>4786</td>\n",
       "      <td>Casey's General Store #1706 / Winterset</td>\n",
       "      <td>1021 N 1st St</td>\n",
       "      <td>WINTERSET</td>\n",
       "      <td>50273</td>\n",
       "      <td>POINT (-94.013479 41.34362600000001)</td>\n",
       "      <td>61</td>\n",
       "      <td>MADISON</td>\n",
       "      <td>...</td>\n",
       "      <td>12</td>\n",
       "      <td>750</td>\n",
       "      <td>5.78</td>\n",
       "      <td>8.67</td>\n",
       "      <td>3</td>\n",
       "      <td>0.0</td>\n",
       "      <td>2.25</td>\n",
       "      <td>2016</td>\n",
       "      <td>10</td>\n",
       "      <td>7</td>\n",
       "    </tr>\n",
       "    <tr>\n",
       "      <th>19651490</th>\n",
       "      <td>INV-01220000001</td>\n",
       "      <td>2016-10-27</td>\n",
       "      <td>2582</td>\n",
       "      <td>Hy-Vee #2 Food Store / Mason City</td>\n",
       "      <td>551 S Illinois Ave</td>\n",
       "      <td>MASON CITY</td>\n",
       "      <td>50401</td>\n",
       "      <td>POINT (-93.17114 43.14623)</td>\n",
       "      <td>17</td>\n",
       "      <td>CERRO GORD</td>\n",
       "      <td>...</td>\n",
       "      <td>6</td>\n",
       "      <td>1750</td>\n",
       "      <td>20.17</td>\n",
       "      <td>30.26</td>\n",
       "      <td>5</td>\n",
       "      <td>0.0</td>\n",
       "      <td>8.75</td>\n",
       "      <td>2016</td>\n",
       "      <td>10</td>\n",
       "      <td>27</td>\n",
       "    </tr>\n",
       "  </tbody>\n",
       "</table>\n",
       "<p>1859 rows × 26 columns</p>\n",
       "</div>"
      ],
      "text/plain": [
       "         invoice_and_item_number       date store_number  \\\n",
       "9659             INV-07251200001 2017-09-14         4984   \n",
       "25489            INV-00762700001 2016-10-04         5113   \n",
       "30058            INV-00406400001 2016-09-16         4415   \n",
       "30071            INV-03736400001 2017-03-09         4877   \n",
       "51360            INV-00763100001 2016-10-10         2538   \n",
       "...                          ...        ...          ...   \n",
       "19618255         INV-06760900001 2017-08-18         5279   \n",
       "19624934         INV-08887800001 2017-11-29         2565   \n",
       "19624935         INV-01009100001 2016-10-18         4103   \n",
       "19648389         INV-00893700001 2016-10-07         4786   \n",
       "19651490         INV-01220000001 2016-10-27         2582   \n",
       "\n",
       "                                       store_name             address  \\\n",
       "9659                            Fast Ave One Stop       2111 Park Ave   \n",
       "25489                     Ray's Supermarket, Inc.    1975 Franklin St   \n",
       "30058                      KUM & GO #513 / ACKLEY      420 Sherman St   \n",
       "30071                      World Liquor & Tobacco     1775 NW 86th St   \n",
       "51360             Hy-Vee Food Store #3 / Waterloo    1422 Flammang Dr   \n",
       "...                                           ...                 ...   \n",
       "19618255       Casey's General Store # 2560/ Ames       3020 Duff Ave   \n",
       "19624934              Hy-Vee Food Store / Spencer     819 N Grand Ave   \n",
       "19624935               Fareway Stores #093 / Ames      3619 Stange Rd   \n",
       "19648389  Casey's General Store #1706 / Winterset       1021 N 1st St   \n",
       "19651490        Hy-Vee #2 Food Store / Mason City  551 S Illinois Ave   \n",
       "\n",
       "                city zip_code                        store_location  \\\n",
       "9659       MUSCATINE    52761          POINT (-91.030306 41.447149)   \n",
       "25489       WATERLOO    50703          POINT (-92.315215 42.495394)   \n",
       "30058         ACKLEY    50601          POINT (-93.056656 42.556727)   \n",
       "30071          CLIVE    50325          POINT (-93.736232 41.607853)   \n",
       "51360       WATERLOO    50702          POINT (-92.327917 42.459938)   \n",
       "...              ...      ...                                   ...   \n",
       "19618255        AMES    50010           POINT (-93.618576 42.05119)   \n",
       "19624934     SPENCER    51301           POINT (-95.14506 43.145897)   \n",
       "19624935        AMES    50010          POINT (-93.645008 42.057108)   \n",
       "19648389   WINTERSET    50273  POINT (-94.013479 41.34362600000001)   \n",
       "19651490  MASON CITY    50401            POINT (-93.17114 43.14623)   \n",
       "\n",
       "         county_number      county  ... pack bottle_volume_ml  \\\n",
       "9659                70   MUSCATINE  ...   12              750   \n",
       "25489                7  BLACK HAWK  ...   12              750   \n",
       "30058               42      HARDIN  ...   48              200   \n",
       "30071               77        POLK  ...   12              375   \n",
       "51360                7  BLACK HAWK  ...    6              750   \n",
       "...                ...         ...  ...  ...              ...   \n",
       "19618255            85       STORY  ...    6             1750   \n",
       "19624934            21        CLAY  ...   12              750   \n",
       "19624935            85       STORY  ...    6              750   \n",
       "19648389            61     MADISON  ...   12              750   \n",
       "19651490            17  CERRO GORD  ...    6             1750   \n",
       "\n",
       "         state_bottle_cost state_bottle_retail bottles_sold sale_dollars  \\\n",
       "9659                 11.07               16.61            1          0.0   \n",
       "25489                 6.83               10.25            2          0.0   \n",
       "30058                 3.00                4.50            4          0.0   \n",
       "30071                 5.50                8.25            1          0.0   \n",
       "51360                20.99               31.49            1          0.0   \n",
       "...                    ...                 ...          ...          ...   \n",
       "19618255             11.55               17.33            3          0.0   \n",
       "19624934              7.49               11.24            1          0.0   \n",
       "19624935              9.00               13.50            1          0.0   \n",
       "19648389              5.78                8.67            3          0.0   \n",
       "19651490             20.17               30.26            5          0.0   \n",
       "\n",
       "          volume_sold_liters  year  month  day  \n",
       "9659                    0.75  2017      9   14  \n",
       "25489                   1.50  2016     10    4  \n",
       "30058                   0.80  2016      9   16  \n",
       "30071                   0.37  2017      3    9  \n",
       "51360                   0.75  2016     10   10  \n",
       "...                      ...   ...    ...  ...  \n",
       "19618255                5.25  2017      8   18  \n",
       "19624934                0.75  2017     11   29  \n",
       "19624935                0.75  2016     10   18  \n",
       "19648389                2.25  2016     10    7  \n",
       "19651490                8.75  2016     10   27  \n",
       "\n",
       "[1859 rows x 26 columns]"
      ]
     },
     "execution_count": 38,
     "metadata": {},
     "output_type": "execute_result"
    }
   ],
   "source": [
    "df[ (df.sale_dollars==0) & (df.state_bottle_retail!=0)]\n"
   ]
  },
  {
   "cell_type": "code",
   "execution_count": 39,
   "metadata": {},
   "outputs": [],
   "source": [
    "df.sale_dollars[ (df.sale_dollars==0) & (df.state_bottle_retail!=0) & \\\n",
    "                (df.bottles_sold!=0)] = df.state_bottle_retail*df.bottles_sold\n"
   ]
  },
  {
   "cell_type": "code",
   "execution_count": 40,
   "metadata": {},
   "outputs": [
    {
     "data": {
      "text/html": [
       "<div>\n",
       "<style scoped>\n",
       "    .dataframe tbody tr th:only-of-type {\n",
       "        vertical-align: middle;\n",
       "    }\n",
       "\n",
       "    .dataframe tbody tr th {\n",
       "        vertical-align: top;\n",
       "    }\n",
       "\n",
       "    .dataframe thead th {\n",
       "        text-align: right;\n",
       "    }\n",
       "</style>\n",
       "<table border=\"1\" class=\"dataframe\">\n",
       "  <thead>\n",
       "    <tr style=\"text-align: right;\">\n",
       "      <th></th>\n",
       "      <th>item_description</th>\n",
       "      <th>bottle_volume_ml</th>\n",
       "    </tr>\n",
       "  </thead>\n",
       "  <tbody>\n",
       "    <tr>\n",
       "      <th>593605</th>\n",
       "      <td>Burnett's Pink Lemonade Vodka Mini</td>\n",
       "      <td>0</td>\n",
       "    </tr>\n",
       "    <tr>\n",
       "      <th>1680921</th>\n",
       "      <td>Rondiaz DSS Lemon Rum</td>\n",
       "      <td>0</td>\n",
       "    </tr>\n",
       "    <tr>\n",
       "      <th>1734814</th>\n",
       "      <td>Three Olives Orange Vodka</td>\n",
       "      <td>750</td>\n",
       "    </tr>\n",
       "    <tr>\n",
       "      <th>3250878</th>\n",
       "      <td>Three Olives Orange Vodka</td>\n",
       "      <td>0</td>\n",
       "    </tr>\n",
       "    <tr>\n",
       "      <th>3664532</th>\n",
       "      <td>Rondiaz DSS Lemon Rum</td>\n",
       "      <td>1000</td>\n",
       "    </tr>\n",
       "    <tr>\n",
       "      <th>4173941</th>\n",
       "      <td>Burnett's Pink Lemonade Vodka Mini</td>\n",
       "      <td>500</td>\n",
       "    </tr>\n",
       "    <tr>\n",
       "      <th>18489305</th>\n",
       "      <td>Canadian Club Dock 57 Mini DNO</td>\n",
       "      <td>0</td>\n",
       "    </tr>\n",
       "  </tbody>\n",
       "</table>\n",
       "</div>"
      ],
      "text/plain": [
       "                            item_description  bottle_volume_ml\n",
       "593605    Burnett's Pink Lemonade Vodka Mini                 0\n",
       "1680921                Rondiaz DSS Lemon Rum                 0\n",
       "1734814            Three Olives Orange Vodka               750\n",
       "3250878            Three Olives Orange Vodka                 0\n",
       "3664532                Rondiaz DSS Lemon Rum              1000\n",
       "4173941   Burnett's Pink Lemonade Vodka Mini               500\n",
       "18489305      Canadian Club Dock 57 Mini DNO                 0"
      ]
     },
     "execution_count": 40,
     "metadata": {},
     "output_type": "execute_result"
    }
   ],
   "source": [
    "df[['item_description','bottle_volume_ml']][df.item_description.isin(df.item_description[(df.bottle_volume_ml==0) \n",
    "                                    & (df.sale_dollars!=0)].unique())].drop_duplicates()"
   ]
  },
  {
   "cell_type": "code",
   "execution_count": 41,
   "metadata": {},
   "outputs": [],
   "source": [
    "df = df.drop(df[df.item_description==\"Canadian Club Dock 57 Mini DNO\"].index)"
   ]
  },
  {
   "cell_type": "code",
   "execution_count": 42,
   "metadata": {},
   "outputs": [],
   "source": [
    "df.volume_sold_liters[df.volume_sold_liters==0]=df.bottle_volume_ml*df.bottles_sold/1000"
   ]
  },
  {
   "cell_type": "code",
   "execution_count": 43,
   "metadata": {},
   "outputs": [],
   "source": [
    "df.bottle_volume_ml[(df.item_description==\"Burnett's Pink Lemonade Vodka Mini\")  &(df.bottle_volume_ml==0) ]=500\n",
    "df.bottle_volume_ml[(df.item_description==\"Three Olives Orange Vodka\")  &(df.bottle_volume_ml==0) ]=750\n",
    "df.bottle_volume_ml[(df.item_description==\"Rondiaz DSS Lemon Rum\")  &(df.bottle_volume_ml==0) ]=1000"
   ]
  },
  {
   "cell_type": "markdown",
   "metadata": {},
   "source": [
    "# 5.Basic information from data"
   ]
  },
  {
   "cell_type": "code",
   "execution_count": 71,
   "metadata": {},
   "outputs": [
    {
     "data": {
      "text/html": [
       "<div>\n",
       "<style scoped>\n",
       "    .dataframe tbody tr th:only-of-type {\n",
       "        vertical-align: middle;\n",
       "    }\n",
       "\n",
       "    .dataframe tbody tr th {\n",
       "        vertical-align: top;\n",
       "    }\n",
       "\n",
       "    .dataframe thead th {\n",
       "        text-align: right;\n",
       "    }\n",
       "</style>\n",
       "<table border=\"1\" class=\"dataframe\">\n",
       "  <thead>\n",
       "    <tr style=\"text-align: right;\">\n",
       "      <th></th>\n",
       "      <th>year</th>\n",
       "      <th>item_description</th>\n",
       "      <th>volume_sold_liters</th>\n",
       "      <th>sale_dollars</th>\n",
       "    </tr>\n",
       "  </thead>\n",
       "  <tbody>\n",
       "    <tr>\n",
       "      <th>24176</th>\n",
       "      <td>2020</td>\n",
       "      <td>Black Velvet</td>\n",
       "      <td>1066857.26</td>\n",
       "      <td>10048749</td>\n",
       "    </tr>\n",
       "    <tr>\n",
       "      <th>26806</th>\n",
       "      <td>2020</td>\n",
       "      <td>Titos Handmade Vodka</td>\n",
       "      <td>971429.76</td>\n",
       "      <td>17462877</td>\n",
       "    </tr>\n",
       "    <tr>\n",
       "      <th>25233</th>\n",
       "      <td>2020</td>\n",
       "      <td>Hawkeye Vodka</td>\n",
       "      <td>551366.41</td>\n",
       "      <td>3509791</td>\n",
       "    </tr>\n",
       "    <tr>\n",
       "      <th>24967</th>\n",
       "      <td>2020</td>\n",
       "      <td>Fireball Cinnamon Whiskey</td>\n",
       "      <td>458483.30</td>\n",
       "      <td>7013788</td>\n",
       "    </tr>\n",
       "    <tr>\n",
       "      <th>24400</th>\n",
       "      <td>2020</td>\n",
       "      <td>Captain Morgan Original Spiced</td>\n",
       "      <td>446772.93</td>\n",
       "      <td>7631709</td>\n",
       "    </tr>\n",
       "    <tr>\n",
       "      <th>...</th>\n",
       "      <td>...</td>\n",
       "      <td>...</td>\n",
       "      <td>...</td>\n",
       "      <td>...</td>\n",
       "    </tr>\n",
       "    <tr>\n",
       "      <th>835</th>\n",
       "      <td>2012</td>\n",
       "      <td>English Harbour Rum 10yr</td>\n",
       "      <td>0.75</td>\n",
       "      <td>69</td>\n",
       "    </tr>\n",
       "    <tr>\n",
       "      <th>1027</th>\n",
       "      <td>2012</td>\n",
       "      <td>Grappa Moscato 50ml</td>\n",
       "      <td>0.60</td>\n",
       "      <td>91</td>\n",
       "    </tr>\n",
       "    <tr>\n",
       "      <th>1251</th>\n",
       "      <td>2012</td>\n",
       "      <td>Johnnie Walker Black Minis</td>\n",
       "      <td>0.50</td>\n",
       "      <td>305</td>\n",
       "    </tr>\n",
       "    <tr>\n",
       "      <th>1022</th>\n",
       "      <td>2012</td>\n",
       "      <td>Grappa Di Recioto Amarone50ml</td>\n",
       "      <td>0.30</td>\n",
       "      <td>49</td>\n",
       "    </tr>\n",
       "    <tr>\n",
       "      <th>2273</th>\n",
       "      <td>2012</td>\n",
       "      <td>Westerhall Plantation Rum</td>\n",
       "      <td>0.07</td>\n",
       "      <td>303</td>\n",
       "    </tr>\n",
       "  </tbody>\n",
       "</table>\n",
       "<p>26980 rows × 4 columns</p>\n",
       "</div>"
      ],
      "text/plain": [
       "       year                item_description  volume_sold_liters  sale_dollars\n",
       "24176  2020                    Black Velvet          1066857.26      10048749\n",
       "26806  2020            Titos Handmade Vodka           971429.76      17462877\n",
       "25233  2020                   Hawkeye Vodka           551366.41       3509791\n",
       "24967  2020       Fireball Cinnamon Whiskey           458483.30       7013788\n",
       "24400  2020  Captain Morgan Original Spiced           446772.93       7631709\n",
       "...     ...                             ...                 ...           ...\n",
       "835    2012        English Harbour Rum 10yr                0.75            69\n",
       "1027   2012             Grappa Moscato 50ml                0.60            91\n",
       "1251   2012      Johnnie Walker Black Minis                0.50           305\n",
       "1022   2012   Grappa Di Recioto Amarone50ml                0.30            49\n",
       "2273   2012       Westerhall Plantation Rum                0.07           303\n",
       "\n",
       "[26980 rows x 4 columns]"
      ]
     },
     "execution_count": 71,
     "metadata": {},
     "output_type": "execute_result"
    }
   ],
   "source": [
    "df.groupby(['year','item_description'],as_index=False) \\\n",
    "        .agg({'volume_sold_liters':'sum' , 'sale_dollars':'sum'}) \\\n",
    "        .sort_values(['year','volume_sold_liters', 'sale_dollars' ], ascending=False) \\\n",
    "        .astype({'sale_dollars': 'int'})\n",
    "\n",
    "# top products per year"
   ]
  },
  {
   "cell_type": "code",
   "execution_count": 72,
   "metadata": {},
   "outputs": [
    {
     "data": {
      "text/html": [
       "<div>\n",
       "<style scoped>\n",
       "    .dataframe tbody tr th:only-of-type {\n",
       "        vertical-align: middle;\n",
       "    }\n",
       "\n",
       "    .dataframe tbody tr th {\n",
       "        vertical-align: top;\n",
       "    }\n",
       "\n",
       "    .dataframe thead th {\n",
       "        text-align: right;\n",
       "    }\n",
       "</style>\n",
       "<table border=\"1\" class=\"dataframe\">\n",
       "  <thead>\n",
       "    <tr style=\"text-align: right;\">\n",
       "      <th></th>\n",
       "      <th>year</th>\n",
       "      <th>item_description</th>\n",
       "      <th>volume_sold_liters</th>\n",
       "      <th>sale_dollars</th>\n",
       "    </tr>\n",
       "  </thead>\n",
       "  <tbody>\n",
       "    <tr>\n",
       "      <th>13961</th>\n",
       "      <td>2017</td>\n",
       "      <td>Black Velvet</td>\n",
       "      <td>1417999.73</td>\n",
       "      <td>13258528</td>\n",
       "    </tr>\n",
       "    <tr>\n",
       "      <th>17164</th>\n",
       "      <td>2018</td>\n",
       "      <td>Black Velvet</td>\n",
       "      <td>1387828.19</td>\n",
       "      <td>13079728</td>\n",
       "    </tr>\n",
       "    <tr>\n",
       "      <th>20707</th>\n",
       "      <td>2019</td>\n",
       "      <td>Black Velvet</td>\n",
       "      <td>1379947.87</td>\n",
       "      <td>13014788</td>\n",
       "    </tr>\n",
       "    <tr>\n",
       "      <th>10787</th>\n",
       "      <td>2016</td>\n",
       "      <td>Black Velvet</td>\n",
       "      <td>1343055.14</td>\n",
       "      <td>12378704</td>\n",
       "    </tr>\n",
       "    <tr>\n",
       "      <th>8007</th>\n",
       "      <td>2015</td>\n",
       "      <td>Black Velvet</td>\n",
       "      <td>1317274.82</td>\n",
       "      <td>12113647</td>\n",
       "    </tr>\n",
       "    <tr>\n",
       "      <th>5240</th>\n",
       "      <td>2014</td>\n",
       "      <td>Black Velvet</td>\n",
       "      <td>1273286.95</td>\n",
       "      <td>11697936</td>\n",
       "    </tr>\n",
       "    <tr>\n",
       "      <th>2645</th>\n",
       "      <td>2013</td>\n",
       "      <td>Black Velvet</td>\n",
       "      <td>1211655.35</td>\n",
       "      <td>11096984</td>\n",
       "    </tr>\n",
       "    <tr>\n",
       "      <th>276</th>\n",
       "      <td>2012</td>\n",
       "      <td>Black Velvet</td>\n",
       "      <td>1153097.53</td>\n",
       "      <td>10530164</td>\n",
       "    </tr>\n",
       "    <tr>\n",
       "      <th>24176</th>\n",
       "      <td>2020</td>\n",
       "      <td>Black Velvet</td>\n",
       "      <td>1066857.26</td>\n",
       "      <td>10048749</td>\n",
       "    </tr>\n",
       "  </tbody>\n",
       "</table>\n",
       "</div>"
      ],
      "text/plain": [
       "       year item_description  volume_sold_liters  sale_dollars\n",
       "13961  2017     Black Velvet          1417999.73      13258528\n",
       "17164  2018     Black Velvet          1387828.19      13079728\n",
       "20707  2019     Black Velvet          1379947.87      13014788\n",
       "10787  2016     Black Velvet          1343055.14      12378704\n",
       "8007   2015     Black Velvet          1317274.82      12113647\n",
       "5240   2014     Black Velvet          1273286.95      11697936\n",
       "2645   2013     Black Velvet          1211655.35      11096984\n",
       "276    2012     Black Velvet          1153097.53      10530164\n",
       "24176  2020     Black Velvet          1066857.26      10048749"
      ]
     },
     "execution_count": 72,
     "metadata": {},
     "output_type": "execute_result"
    }
   ],
   "source": [
    "df.groupby(['year','item_description'],as_index=False) \\\n",
    "    .agg({'volume_sold_liters':'sum' , 'sale_dollars':'sum'}) \\\n",
    "    .sort_values(['volume_sold_liters', 'sale_dollars' ], ascending=[False,False]) \\\n",
    "    .astype({'sale_dollars': 'int'}) \\\n",
    "    .groupby('year') \\\n",
    "    .head(1)\n",
    "# The most popular item every year is Black Velvet"
   ]
  },
  {
   "cell_type": "code",
   "execution_count": 73,
   "metadata": {},
   "outputs": [
    {
     "data": {
      "text/html": [
       "<div>\n",
       "<style scoped>\n",
       "    .dataframe tbody tr th:only-of-type {\n",
       "        vertical-align: middle;\n",
       "    }\n",
       "\n",
       "    .dataframe tbody tr th {\n",
       "        vertical-align: top;\n",
       "    }\n",
       "\n",
       "    .dataframe thead th {\n",
       "        text-align: right;\n",
       "    }\n",
       "</style>\n",
       "<table border=\"1\" class=\"dataframe\">\n",
       "  <thead>\n",
       "    <tr style=\"text-align: right;\">\n",
       "      <th></th>\n",
       "      <th>year</th>\n",
       "      <th>item_description</th>\n",
       "      <th>volume_sold_liters</th>\n",
       "      <th>sale_dollars</th>\n",
       "    </tr>\n",
       "  </thead>\n",
       "  <tbody>\n",
       "    <tr>\n",
       "      <th>5341</th>\n",
       "      <td>2014</td>\n",
       "      <td>Burnett's Pink Lemonade Vodka Mini</td>\n",
       "      <td>0.00</td>\n",
       "      <td>76</td>\n",
       "    </tr>\n",
       "    <tr>\n",
       "      <th>8117</th>\n",
       "      <td>2015</td>\n",
       "      <td>Burnett's Pink Lemonade Vodka Mini</td>\n",
       "      <td>0.00</td>\n",
       "      <td>153</td>\n",
       "    </tr>\n",
       "    <tr>\n",
       "      <th>4345</th>\n",
       "      <td>2013</td>\n",
       "      <td>Rondiaz DSS Lemon Rum</td>\n",
       "      <td>0.00</td>\n",
       "      <td>383</td>\n",
       "    </tr>\n",
       "    <tr>\n",
       "      <th>16368</th>\n",
       "      <td>2017</td>\n",
       "      <td>Stoli Variety Mini Bar</td>\n",
       "      <td>0.05</td>\n",
       "      <td>5</td>\n",
       "    </tr>\n",
       "    <tr>\n",
       "      <th>25872</th>\n",
       "      <td>2020</td>\n",
       "      <td>New Amsterdam Orange Mini</td>\n",
       "      <td>0.05</td>\n",
       "      <td>8</td>\n",
       "    </tr>\n",
       "    <tr>\n",
       "      <th>2273</th>\n",
       "      <td>2012</td>\n",
       "      <td>Westerhall Plantation Rum</td>\n",
       "      <td>0.07</td>\n",
       "      <td>303</td>\n",
       "    </tr>\n",
       "    <tr>\n",
       "      <th>22690</th>\n",
       "      <td>2019</td>\n",
       "      <td>Ocean Organic Vodka Mini</td>\n",
       "      <td>0.10</td>\n",
       "      <td>90</td>\n",
       "    </tr>\n",
       "    <tr>\n",
       "      <th>18072</th>\n",
       "      <td>2018</td>\n",
       "      <td>Figenza Mediterranean Fig Vodka Mini</td>\n",
       "      <td>0.20</td>\n",
       "      <td>101</td>\n",
       "    </tr>\n",
       "    <tr>\n",
       "      <th>11778</th>\n",
       "      <td>2016</td>\n",
       "      <td>Grappa Di Recioto Amarone50ml</td>\n",
       "      <td>0.30</td>\n",
       "      <td>52</td>\n",
       "    </tr>\n",
       "  </tbody>\n",
       "</table>\n",
       "</div>"
      ],
      "text/plain": [
       "       year                      item_description  volume_sold_liters  \\\n",
       "5341   2014    Burnett's Pink Lemonade Vodka Mini                0.00   \n",
       "8117   2015    Burnett's Pink Lemonade Vodka Mini                0.00   \n",
       "4345   2013                 Rondiaz DSS Lemon Rum                0.00   \n",
       "16368  2017                Stoli Variety Mini Bar                0.05   \n",
       "25872  2020             New Amsterdam Orange Mini                0.05   \n",
       "2273   2012             Westerhall Plantation Rum                0.07   \n",
       "22690  2019              Ocean Organic Vodka Mini                0.10   \n",
       "18072  2018  Figenza Mediterranean Fig Vodka Mini                0.20   \n",
       "11778  2016         Grappa Di Recioto Amarone50ml                0.30   \n",
       "\n",
       "       sale_dollars  \n",
       "5341             76  \n",
       "8117            153  \n",
       "4345            383  \n",
       "16368             5  \n",
       "25872             8  \n",
       "2273            303  \n",
       "22690            90  \n",
       "18072           101  \n",
       "11778            52  "
      ]
     },
     "execution_count": 73,
     "metadata": {},
     "output_type": "execute_result"
    }
   ],
   "source": [
    "df_problem_product = df.groupby(['year','item_description'],as_index=False) \\\n",
    "    .agg({'volume_sold_liters':'sum' , 'sale_dollars':'sum'}) \\\n",
    "    .sort_values(['volume_sold_liters', 'sale_dollars' ], ascending=[True,True]) \\\n",
    "    .astype({'sale_dollars': 'int'}) \\\n",
    "    .groupby('year') \\\n",
    "    .head(1)\n",
    "\n",
    "df_problem_product\n"
   ]
  },
  {
   "cell_type": "code",
   "execution_count": 74,
   "metadata": {},
   "outputs": [
    {
     "data": {
      "text/html": [
       "<div>\n",
       "<style scoped>\n",
       "    .dataframe tbody tr th:only-of-type {\n",
       "        vertical-align: middle;\n",
       "    }\n",
       "\n",
       "    .dataframe tbody tr th {\n",
       "        vertical-align: top;\n",
       "    }\n",
       "\n",
       "    .dataframe thead th {\n",
       "        text-align: right;\n",
       "    }\n",
       "</style>\n",
       "<table border=\"1\" class=\"dataframe\">\n",
       "  <thead>\n",
       "    <tr style=\"text-align: right;\">\n",
       "      <th></th>\n",
       "      <th>year</th>\n",
       "      <th>item_description</th>\n",
       "      <th>volume_sold_liters</th>\n",
       "      <th>sale_dollars</th>\n",
       "    </tr>\n",
       "  </thead>\n",
       "  <tbody>\n",
       "    <tr>\n",
       "      <th>3</th>\n",
       "      <td>2014</td>\n",
       "      <td>Burnett's Pink Lemonade Vodka Mini</td>\n",
       "      <td>0.00</td>\n",
       "      <td>76</td>\n",
       "    </tr>\n",
       "    <tr>\n",
       "      <th>6</th>\n",
       "      <td>2015</td>\n",
       "      <td>Burnett's Pink Lemonade Vodka Mini</td>\n",
       "      <td>0.00</td>\n",
       "      <td>153</td>\n",
       "    </tr>\n",
       "    <tr>\n",
       "      <th>9</th>\n",
       "      <td>2016</td>\n",
       "      <td>Burnett's Pink Lemonade Vodka Mini</td>\n",
       "      <td>6.00</td>\n",
       "      <td>76</td>\n",
       "    </tr>\n",
       "    <tr>\n",
       "      <th>12</th>\n",
       "      <td>2017</td>\n",
       "      <td>Burnett's Pink Lemonade Vodka Mini</td>\n",
       "      <td>18.00</td>\n",
       "      <td>229</td>\n",
       "    </tr>\n",
       "    <tr>\n",
       "      <th>16</th>\n",
       "      <td>2018</td>\n",
       "      <td>Burnett's Pink Lemonade Vodka Mini</td>\n",
       "      <td>6.00</td>\n",
       "      <td>76</td>\n",
       "    </tr>\n",
       "    <tr>\n",
       "      <th>17</th>\n",
       "      <td>2018</td>\n",
       "      <td>Figenza Mediterranean Fig Vodka Mini</td>\n",
       "      <td>0.20</td>\n",
       "      <td>101</td>\n",
       "    </tr>\n",
       "    <tr>\n",
       "      <th>19</th>\n",
       "      <td>2019</td>\n",
       "      <td>Figenza Mediterranean Fig Vodka Mini</td>\n",
       "      <td>1.00</td>\n",
       "      <td>505</td>\n",
       "    </tr>\n",
       "    <tr>\n",
       "      <th>0</th>\n",
       "      <td>2012</td>\n",
       "      <td>Grappa Di Recioto Amarone50ml</td>\n",
       "      <td>0.30</td>\n",
       "      <td>49</td>\n",
       "    </tr>\n",
       "    <tr>\n",
       "      <th>4</th>\n",
       "      <td>2014</td>\n",
       "      <td>Grappa Di Recioto Amarone50ml</td>\n",
       "      <td>0.30</td>\n",
       "      <td>49</td>\n",
       "    </tr>\n",
       "    <tr>\n",
       "      <th>7</th>\n",
       "      <td>2015</td>\n",
       "      <td>Grappa Di Recioto Amarone50ml</td>\n",
       "      <td>0.30</td>\n",
       "      <td>52</td>\n",
       "    </tr>\n",
       "    <tr>\n",
       "      <th>10</th>\n",
       "      <td>2016</td>\n",
       "      <td>Grappa Di Recioto Amarone50ml</td>\n",
       "      <td>0.30</td>\n",
       "      <td>52</td>\n",
       "    </tr>\n",
       "    <tr>\n",
       "      <th>18</th>\n",
       "      <td>2018</td>\n",
       "      <td>New Amsterdam Orange Mini</td>\n",
       "      <td>218.20</td>\n",
       "      <td>3448</td>\n",
       "    </tr>\n",
       "    <tr>\n",
       "      <th>20</th>\n",
       "      <td>2019</td>\n",
       "      <td>New Amsterdam Orange Mini</td>\n",
       "      <td>272.45</td>\n",
       "      <td>6249</td>\n",
       "    </tr>\n",
       "    <tr>\n",
       "      <th>22</th>\n",
       "      <td>2020</td>\n",
       "      <td>New Amsterdam Orange Mini</td>\n",
       "      <td>0.05</td>\n",
       "      <td>8</td>\n",
       "    </tr>\n",
       "    <tr>\n",
       "      <th>11</th>\n",
       "      <td>2016</td>\n",
       "      <td>Ocean Organic Vodka Mini</td>\n",
       "      <td>0.60</td>\n",
       "      <td>83</td>\n",
       "    </tr>\n",
       "    <tr>\n",
       "      <th>13</th>\n",
       "      <td>2017</td>\n",
       "      <td>Ocean Organic Vodka Mini</td>\n",
       "      <td>1.20</td>\n",
       "      <td>167</td>\n",
       "    </tr>\n",
       "    <tr>\n",
       "      <th>21</th>\n",
       "      <td>2019</td>\n",
       "      <td>Ocean Organic Vodka Mini</td>\n",
       "      <td>0.10</td>\n",
       "      <td>90</td>\n",
       "    </tr>\n",
       "    <tr>\n",
       "      <th>2</th>\n",
       "      <td>2013</td>\n",
       "      <td>Rondiaz DSS Lemon Rum</td>\n",
       "      <td>0.00</td>\n",
       "      <td>383</td>\n",
       "    </tr>\n",
       "    <tr>\n",
       "      <th>14</th>\n",
       "      <td>2017</td>\n",
       "      <td>Rondiaz DSS Lemon Rum</td>\n",
       "      <td>300.00</td>\n",
       "      <td>2769</td>\n",
       "    </tr>\n",
       "    <tr>\n",
       "      <th>5</th>\n",
       "      <td>2014</td>\n",
       "      <td>Stoli Variety Mini Bar</td>\n",
       "      <td>95.50</td>\n",
       "      <td>2265</td>\n",
       "    </tr>\n",
       "    <tr>\n",
       "      <th>8</th>\n",
       "      <td>2015</td>\n",
       "      <td>Stoli Variety Mini Bar</td>\n",
       "      <td>12.50</td>\n",
       "      <td>296</td>\n",
       "    </tr>\n",
       "    <tr>\n",
       "      <th>15</th>\n",
       "      <td>2017</td>\n",
       "      <td>Stoli Variety Mini Bar</td>\n",
       "      <td>0.05</td>\n",
       "      <td>5</td>\n",
       "    </tr>\n",
       "    <tr>\n",
       "      <th>1</th>\n",
       "      <td>2012</td>\n",
       "      <td>Westerhall Plantation Rum</td>\n",
       "      <td>0.07</td>\n",
       "      <td>303</td>\n",
       "    </tr>\n",
       "  </tbody>\n",
       "</table>\n",
       "</div>"
      ],
      "text/plain": [
       "    year                      item_description  volume_sold_liters  \\\n",
       "3   2014    Burnett's Pink Lemonade Vodka Mini                0.00   \n",
       "6   2015    Burnett's Pink Lemonade Vodka Mini                0.00   \n",
       "9   2016    Burnett's Pink Lemonade Vodka Mini                6.00   \n",
       "12  2017    Burnett's Pink Lemonade Vodka Mini               18.00   \n",
       "16  2018    Burnett's Pink Lemonade Vodka Mini                6.00   \n",
       "17  2018  Figenza Mediterranean Fig Vodka Mini                0.20   \n",
       "19  2019  Figenza Mediterranean Fig Vodka Mini                1.00   \n",
       "0   2012         Grappa Di Recioto Amarone50ml                0.30   \n",
       "4   2014         Grappa Di Recioto Amarone50ml                0.30   \n",
       "7   2015         Grappa Di Recioto Amarone50ml                0.30   \n",
       "10  2016         Grappa Di Recioto Amarone50ml                0.30   \n",
       "18  2018             New Amsterdam Orange Mini              218.20   \n",
       "20  2019             New Amsterdam Orange Mini              272.45   \n",
       "22  2020             New Amsterdam Orange Mini                0.05   \n",
       "11  2016              Ocean Organic Vodka Mini                0.60   \n",
       "13  2017              Ocean Organic Vodka Mini                1.20   \n",
       "21  2019              Ocean Organic Vodka Mini                0.10   \n",
       "2   2013                 Rondiaz DSS Lemon Rum                0.00   \n",
       "14  2017                 Rondiaz DSS Lemon Rum              300.00   \n",
       "5   2014                Stoli Variety Mini Bar               95.50   \n",
       "8   2015                Stoli Variety Mini Bar               12.50   \n",
       "15  2017                Stoli Variety Mini Bar                0.05   \n",
       "1   2012             Westerhall Plantation Rum                0.07   \n",
       "\n",
       "    sale_dollars  \n",
       "3             76  \n",
       "6            153  \n",
       "9             76  \n",
       "12           229  \n",
       "16            76  \n",
       "17           101  \n",
       "19           505  \n",
       "0             49  \n",
       "4             49  \n",
       "7             52  \n",
       "10            52  \n",
       "18          3448  \n",
       "20          6249  \n",
       "22             8  \n",
       "11            83  \n",
       "13           167  \n",
       "21            90  \n",
       "2            383  \n",
       "14          2769  \n",
       "5           2265  \n",
       "8            296  \n",
       "15             5  \n",
       "1            303  "
      ]
     },
     "execution_count": 74,
     "metadata": {},
     "output_type": "execute_result"
    }
   ],
   "source": [
    "df[df.item_description.isin(df_problem_product.item_description)] \\\n",
    "        .groupby(['year','item_description'],as_index=False) \\\n",
    "        .agg({'volume_sold_liters':'sum','sale_dollars':'sum'}) \\\n",
    "        .sort_values(['item_description','year'], ascending=[True,True]) \\\n",
    "        .astype({'sale_dollars': 'int'})\n",
    "\n",
    "# New Amsterdam Orange Mini doesn't bring money in 2020, I think stop transporting is a good idea"
   ]
  },
  {
   "cell_type": "code",
   "execution_count": 75,
   "metadata": {},
   "outputs": [
    {
     "data": {
      "text/html": [
       "<div>\n",
       "<style scoped>\n",
       "    .dataframe tbody tr th:only-of-type {\n",
       "        vertical-align: middle;\n",
       "    }\n",
       "\n",
       "    .dataframe tbody tr th {\n",
       "        vertical-align: top;\n",
       "    }\n",
       "\n",
       "    .dataframe thead th {\n",
       "        text-align: right;\n",
       "    }\n",
       "</style>\n",
       "<table border=\"1\" class=\"dataframe\">\n",
       "  <thead>\n",
       "    <tr style=\"text-align: right;\">\n",
       "      <th></th>\n",
       "      <th>city</th>\n",
       "      <th>item_description</th>\n",
       "      <th>volume_sold_liters</th>\n",
       "      <th>sale_dollars</th>\n",
       "    </tr>\n",
       "  </thead>\n",
       "  <tbody>\n",
       "    <tr>\n",
       "      <th>120610</th>\n",
       "      <td>DES MOINES</td>\n",
       "      <td>Fireball Cinnamon Whiskey</td>\n",
       "      <td>723445.03</td>\n",
       "      <td>11145639</td>\n",
       "    </tr>\n",
       "    <tr>\n",
       "      <th>62548</th>\n",
       "      <td>CEDAR RAPIDS</td>\n",
       "      <td>Black Velvet</td>\n",
       "      <td>648603.86</td>\n",
       "      <td>6044404</td>\n",
       "    </tr>\n",
       "    <tr>\n",
       "      <th>379657</th>\n",
       "      <td>WATERLOO</td>\n",
       "      <td>Black Velvet</td>\n",
       "      <td>356699.45</td>\n",
       "      <td>3363903</td>\n",
       "    </tr>\n",
       "    <tr>\n",
       "      <th>342443</th>\n",
       "      <td>SIOUX CITY</td>\n",
       "      <td>Black Velvet</td>\n",
       "      <td>310787.27</td>\n",
       "      <td>2965754</td>\n",
       "    </tr>\n",
       "    <tr>\n",
       "      <th>197620</th>\n",
       "      <td>IOWA CITY</td>\n",
       "      <td>Hawkeye Vodka</td>\n",
       "      <td>298897.24</td>\n",
       "      <td>1900928</td>\n",
       "    </tr>\n",
       "    <tr>\n",
       "      <th>...</th>\n",
       "      <td>...</td>\n",
       "      <td>...</td>\n",
       "      <td>...</td>\n",
       "      <td>...</td>\n",
       "    </tr>\n",
       "    <tr>\n",
       "      <th>413935</th>\n",
       "      <td>WYOMING</td>\n",
       "      <td>Black Velvet</td>\n",
       "      <td>93.00</td>\n",
       "      <td>974</td>\n",
       "    </tr>\n",
       "    <tr>\n",
       "      <th>270366</th>\n",
       "      <td>MURRAY</td>\n",
       "      <td>Black Velvet</td>\n",
       "      <td>92.87</td>\n",
       "      <td>896</td>\n",
       "    </tr>\n",
       "    <tr>\n",
       "      <th>10645</th>\n",
       "      <td>ALVORD</td>\n",
       "      <td>Captain Morgan Spiced Rum</td>\n",
       "      <td>22.50</td>\n",
       "      <td>350</td>\n",
       "    </tr>\n",
       "    <tr>\n",
       "      <th>6379</th>\n",
       "      <td>ALLERTON</td>\n",
       "      <td>Blantons Bourbon</td>\n",
       "      <td>18.00</td>\n",
       "      <td>1035</td>\n",
       "    </tr>\n",
       "    <tr>\n",
       "      <th>88673</th>\n",
       "      <td>COLORADO SPRINGS</td>\n",
       "      <td>Adelaides Caramel Mocha Mojo</td>\n",
       "      <td>4.50</td>\n",
       "      <td>15</td>\n",
       "    </tr>\n",
       "  </tbody>\n",
       "</table>\n",
       "<p>457 rows × 4 columns</p>\n",
       "</div>"
      ],
      "text/plain": [
       "                    city              item_description  volume_sold_liters  \\\n",
       "120610        DES MOINES     Fireball Cinnamon Whiskey           723445.03   \n",
       "62548       CEDAR RAPIDS                  Black Velvet           648603.86   \n",
       "379657          WATERLOO                  Black Velvet           356699.45   \n",
       "342443        SIOUX CITY                  Black Velvet           310787.27   \n",
       "197620         IOWA CITY                 Hawkeye Vodka           298897.24   \n",
       "...                  ...                           ...                 ...   \n",
       "413935           WYOMING                  Black Velvet               93.00   \n",
       "270366            MURRAY                  Black Velvet               92.87   \n",
       "10645             ALVORD     Captain Morgan Spiced Rum               22.50   \n",
       "6379            ALLERTON              Blantons Bourbon               18.00   \n",
       "88673   COLORADO SPRINGS  Adelaides Caramel Mocha Mojo                4.50   \n",
       "\n",
       "        sale_dollars  \n",
       "120610      11145639  \n",
       "62548        6044404  \n",
       "379657       3363903  \n",
       "342443       2965754  \n",
       "197620       1900928  \n",
       "...              ...  \n",
       "413935           974  \n",
       "270366           896  \n",
       "10645            350  \n",
       "6379            1035  \n",
       "88673             15  \n",
       "\n",
       "[457 rows x 4 columns]"
      ]
     },
     "execution_count": 75,
     "metadata": {},
     "output_type": "execute_result"
    }
   ],
   "source": [
    "df.groupby(['city','item_description'],as_index=False) \\\n",
    "    .agg({'volume_sold_liters':'sum' , 'sale_dollars':'sum'}) \\\n",
    "    .sort_values(['volume_sold_liters', 'sale_dollars' ], ascending=[False,False]) \\\n",
    "    .astype({'sale_dollars': 'int'}) \\\n",
    "    .groupby('city') \\\n",
    "    .head(1)\n",
    "\n",
    "# \"COLORADO SPRINGS\" not a city of alcohol lovers if the most pupular item bring only 15$"
   ]
  },
  {
   "cell_type": "code",
   "execution_count": 76,
   "metadata": {},
   "outputs": [],
   "source": [
    "df_plot = df.groupby(['category_name'],as_index=False) \\\n",
    "    .agg({'sale_dollars':'sum', 'volume_sold_liters':'sum'})  \\\n",
    "    .sort_values('sale_dollars', ascending =False) \\\n",
    "    .astype({'sale_dollars': 'int'})"
   ]
  },
  {
   "cell_type": "code",
   "execution_count": 77,
   "metadata": {},
   "outputs": [
    {
     "data": {
      "application/vnd.plotly.v1+json": {
       "config": {
        "plotlyServerURL": "https://plot.ly"
       },
       "data": [
        {
         "alignmentgroup": "True",
         "hovertemplate": "category_name=%{x}<br>volume_sold_liters=%{marker.color}<extra></extra>",
         "legendgroup": "",
         "marker": {
          "color": [
           23559077.480028506,
           20860912.070007257,
           12463451.759995095,
           7912533.459998651,
           17797396.769994255,
           7338065.399995831,
           4119206.410000917,
           3733534.2100008004,
           7332827.489998778,
           3351430.8600001493
          ],
          "coloraxis": "coloraxis"
         },
         "name": "",
         "offsetgroup": "",
         "orientation": "v",
         "showlegend": false,
         "textposition": "auto",
         "type": "bar",
         "x": [
          "CANADIAN WHISKIES",
          "AMERICAN VODKAS",
          "SPICED RUM",
          "STRAIGHT BOURBON WHISKIES",
          "VODKA 80 PROOF",
          "WHISKEY LIQUEUR",
          "TENNESSEE WHISKIES",
          "IMPORTED VODKA",
          "BLENDED WHISKIES",
          "TEQUILA"
         ],
         "xaxis": "x",
         "y": [
          23559077.480028506,
          20860912.070007257,
          12463451.759995095,
          7912533.459998651,
          17797396.769994255,
          7338065.399995831,
          4119206.410000917,
          3733534.2100008004,
          7332827.489998778,
          3351430.8600001493
         ],
         "yaxis": "y"
        }
       ],
       "layout": {
        "barmode": "relative",
        "coloraxis": {
         "colorbar": {
          "title": {
           "text": "volume_sold_liters"
          }
         },
         "colorscale": [
          [
           0,
           "#0d0887"
          ],
          [
           0.1111111111111111,
           "#46039f"
          ],
          [
           0.2222222222222222,
           "#7201a8"
          ],
          [
           0.3333333333333333,
           "#9c179e"
          ],
          [
           0.4444444444444444,
           "#bd3786"
          ],
          [
           0.5555555555555556,
           "#d8576b"
          ],
          [
           0.6666666666666666,
           "#ed7953"
          ],
          [
           0.7777777777777778,
           "#fb9f3a"
          ],
          [
           0.8888888888888888,
           "#fdca26"
          ],
          [
           1,
           "#f0f921"
          ]
         ]
        },
        "legend": {
         "tracegroupgap": 0
        },
        "margin": {
         "t": 60
        },
        "template": {
         "data": {
          "bar": [
           {
            "error_x": {
             "color": "#2a3f5f"
            },
            "error_y": {
             "color": "#2a3f5f"
            },
            "marker": {
             "line": {
              "color": "#E5ECF6",
              "width": 0.5
             }
            },
            "type": "bar"
           }
          ],
          "barpolar": [
           {
            "marker": {
             "line": {
              "color": "#E5ECF6",
              "width": 0.5
             }
            },
            "type": "barpolar"
           }
          ],
          "carpet": [
           {
            "aaxis": {
             "endlinecolor": "#2a3f5f",
             "gridcolor": "white",
             "linecolor": "white",
             "minorgridcolor": "white",
             "startlinecolor": "#2a3f5f"
            },
            "baxis": {
             "endlinecolor": "#2a3f5f",
             "gridcolor": "white",
             "linecolor": "white",
             "minorgridcolor": "white",
             "startlinecolor": "#2a3f5f"
            },
            "type": "carpet"
           }
          ],
          "choropleth": [
           {
            "colorbar": {
             "outlinewidth": 0,
             "ticks": ""
            },
            "type": "choropleth"
           }
          ],
          "contour": [
           {
            "colorbar": {
             "outlinewidth": 0,
             "ticks": ""
            },
            "colorscale": [
             [
              0,
              "#0d0887"
             ],
             [
              0.1111111111111111,
              "#46039f"
             ],
             [
              0.2222222222222222,
              "#7201a8"
             ],
             [
              0.3333333333333333,
              "#9c179e"
             ],
             [
              0.4444444444444444,
              "#bd3786"
             ],
             [
              0.5555555555555556,
              "#d8576b"
             ],
             [
              0.6666666666666666,
              "#ed7953"
             ],
             [
              0.7777777777777778,
              "#fb9f3a"
             ],
             [
              0.8888888888888888,
              "#fdca26"
             ],
             [
              1,
              "#f0f921"
             ]
            ],
            "type": "contour"
           }
          ],
          "contourcarpet": [
           {
            "colorbar": {
             "outlinewidth": 0,
             "ticks": ""
            },
            "type": "contourcarpet"
           }
          ],
          "heatmap": [
           {
            "colorbar": {
             "outlinewidth": 0,
             "ticks": ""
            },
            "colorscale": [
             [
              0,
              "#0d0887"
             ],
             [
              0.1111111111111111,
              "#46039f"
             ],
             [
              0.2222222222222222,
              "#7201a8"
             ],
             [
              0.3333333333333333,
              "#9c179e"
             ],
             [
              0.4444444444444444,
              "#bd3786"
             ],
             [
              0.5555555555555556,
              "#d8576b"
             ],
             [
              0.6666666666666666,
              "#ed7953"
             ],
             [
              0.7777777777777778,
              "#fb9f3a"
             ],
             [
              0.8888888888888888,
              "#fdca26"
             ],
             [
              1,
              "#f0f921"
             ]
            ],
            "type": "heatmap"
           }
          ],
          "heatmapgl": [
           {
            "colorbar": {
             "outlinewidth": 0,
             "ticks": ""
            },
            "colorscale": [
             [
              0,
              "#0d0887"
             ],
             [
              0.1111111111111111,
              "#46039f"
             ],
             [
              0.2222222222222222,
              "#7201a8"
             ],
             [
              0.3333333333333333,
              "#9c179e"
             ],
             [
              0.4444444444444444,
              "#bd3786"
             ],
             [
              0.5555555555555556,
              "#d8576b"
             ],
             [
              0.6666666666666666,
              "#ed7953"
             ],
             [
              0.7777777777777778,
              "#fb9f3a"
             ],
             [
              0.8888888888888888,
              "#fdca26"
             ],
             [
              1,
              "#f0f921"
             ]
            ],
            "type": "heatmapgl"
           }
          ],
          "histogram": [
           {
            "marker": {
             "colorbar": {
              "outlinewidth": 0,
              "ticks": ""
             }
            },
            "type": "histogram"
           }
          ],
          "histogram2d": [
           {
            "colorbar": {
             "outlinewidth": 0,
             "ticks": ""
            },
            "colorscale": [
             [
              0,
              "#0d0887"
             ],
             [
              0.1111111111111111,
              "#46039f"
             ],
             [
              0.2222222222222222,
              "#7201a8"
             ],
             [
              0.3333333333333333,
              "#9c179e"
             ],
             [
              0.4444444444444444,
              "#bd3786"
             ],
             [
              0.5555555555555556,
              "#d8576b"
             ],
             [
              0.6666666666666666,
              "#ed7953"
             ],
             [
              0.7777777777777778,
              "#fb9f3a"
             ],
             [
              0.8888888888888888,
              "#fdca26"
             ],
             [
              1,
              "#f0f921"
             ]
            ],
            "type": "histogram2d"
           }
          ],
          "histogram2dcontour": [
           {
            "colorbar": {
             "outlinewidth": 0,
             "ticks": ""
            },
            "colorscale": [
             [
              0,
              "#0d0887"
             ],
             [
              0.1111111111111111,
              "#46039f"
             ],
             [
              0.2222222222222222,
              "#7201a8"
             ],
             [
              0.3333333333333333,
              "#9c179e"
             ],
             [
              0.4444444444444444,
              "#bd3786"
             ],
             [
              0.5555555555555556,
              "#d8576b"
             ],
             [
              0.6666666666666666,
              "#ed7953"
             ],
             [
              0.7777777777777778,
              "#fb9f3a"
             ],
             [
              0.8888888888888888,
              "#fdca26"
             ],
             [
              1,
              "#f0f921"
             ]
            ],
            "type": "histogram2dcontour"
           }
          ],
          "mesh3d": [
           {
            "colorbar": {
             "outlinewidth": 0,
             "ticks": ""
            },
            "type": "mesh3d"
           }
          ],
          "parcoords": [
           {
            "line": {
             "colorbar": {
              "outlinewidth": 0,
              "ticks": ""
             }
            },
            "type": "parcoords"
           }
          ],
          "pie": [
           {
            "automargin": true,
            "type": "pie"
           }
          ],
          "scatter": [
           {
            "marker": {
             "colorbar": {
              "outlinewidth": 0,
              "ticks": ""
             }
            },
            "type": "scatter"
           }
          ],
          "scatter3d": [
           {
            "line": {
             "colorbar": {
              "outlinewidth": 0,
              "ticks": ""
             }
            },
            "marker": {
             "colorbar": {
              "outlinewidth": 0,
              "ticks": ""
             }
            },
            "type": "scatter3d"
           }
          ],
          "scattercarpet": [
           {
            "marker": {
             "colorbar": {
              "outlinewidth": 0,
              "ticks": ""
             }
            },
            "type": "scattercarpet"
           }
          ],
          "scattergeo": [
           {
            "marker": {
             "colorbar": {
              "outlinewidth": 0,
              "ticks": ""
             }
            },
            "type": "scattergeo"
           }
          ],
          "scattergl": [
           {
            "marker": {
             "colorbar": {
              "outlinewidth": 0,
              "ticks": ""
             }
            },
            "type": "scattergl"
           }
          ],
          "scattermapbox": [
           {
            "marker": {
             "colorbar": {
              "outlinewidth": 0,
              "ticks": ""
             }
            },
            "type": "scattermapbox"
           }
          ],
          "scatterpolar": [
           {
            "marker": {
             "colorbar": {
              "outlinewidth": 0,
              "ticks": ""
             }
            },
            "type": "scatterpolar"
           }
          ],
          "scatterpolargl": [
           {
            "marker": {
             "colorbar": {
              "outlinewidth": 0,
              "ticks": ""
             }
            },
            "type": "scatterpolargl"
           }
          ],
          "scatterternary": [
           {
            "marker": {
             "colorbar": {
              "outlinewidth": 0,
              "ticks": ""
             }
            },
            "type": "scatterternary"
           }
          ],
          "surface": [
           {
            "colorbar": {
             "outlinewidth": 0,
             "ticks": ""
            },
            "colorscale": [
             [
              0,
              "#0d0887"
             ],
             [
              0.1111111111111111,
              "#46039f"
             ],
             [
              0.2222222222222222,
              "#7201a8"
             ],
             [
              0.3333333333333333,
              "#9c179e"
             ],
             [
              0.4444444444444444,
              "#bd3786"
             ],
             [
              0.5555555555555556,
              "#d8576b"
             ],
             [
              0.6666666666666666,
              "#ed7953"
             ],
             [
              0.7777777777777778,
              "#fb9f3a"
             ],
             [
              0.8888888888888888,
              "#fdca26"
             ],
             [
              1,
              "#f0f921"
             ]
            ],
            "type": "surface"
           }
          ],
          "table": [
           {
            "cells": {
             "fill": {
              "color": "#EBF0F8"
             },
             "line": {
              "color": "white"
             }
            },
            "header": {
             "fill": {
              "color": "#C8D4E3"
             },
             "line": {
              "color": "white"
             }
            },
            "type": "table"
           }
          ]
         },
         "layout": {
          "annotationdefaults": {
           "arrowcolor": "#2a3f5f",
           "arrowhead": 0,
           "arrowwidth": 1
          },
          "coloraxis": {
           "colorbar": {
            "outlinewidth": 0,
            "ticks": ""
           }
          },
          "colorscale": {
           "diverging": [
            [
             0,
             "#8e0152"
            ],
            [
             0.1,
             "#c51b7d"
            ],
            [
             0.2,
             "#de77ae"
            ],
            [
             0.3,
             "#f1b6da"
            ],
            [
             0.4,
             "#fde0ef"
            ],
            [
             0.5,
             "#f7f7f7"
            ],
            [
             0.6,
             "#e6f5d0"
            ],
            [
             0.7,
             "#b8e186"
            ],
            [
             0.8,
             "#7fbc41"
            ],
            [
             0.9,
             "#4d9221"
            ],
            [
             1,
             "#276419"
            ]
           ],
           "sequential": [
            [
             0,
             "#0d0887"
            ],
            [
             0.1111111111111111,
             "#46039f"
            ],
            [
             0.2222222222222222,
             "#7201a8"
            ],
            [
             0.3333333333333333,
             "#9c179e"
            ],
            [
             0.4444444444444444,
             "#bd3786"
            ],
            [
             0.5555555555555556,
             "#d8576b"
            ],
            [
             0.6666666666666666,
             "#ed7953"
            ],
            [
             0.7777777777777778,
             "#fb9f3a"
            ],
            [
             0.8888888888888888,
             "#fdca26"
            ],
            [
             1,
             "#f0f921"
            ]
           ],
           "sequentialminus": [
            [
             0,
             "#0d0887"
            ],
            [
             0.1111111111111111,
             "#46039f"
            ],
            [
             0.2222222222222222,
             "#7201a8"
            ],
            [
             0.3333333333333333,
             "#9c179e"
            ],
            [
             0.4444444444444444,
             "#bd3786"
            ],
            [
             0.5555555555555556,
             "#d8576b"
            ],
            [
             0.6666666666666666,
             "#ed7953"
            ],
            [
             0.7777777777777778,
             "#fb9f3a"
            ],
            [
             0.8888888888888888,
             "#fdca26"
            ],
            [
             1,
             "#f0f921"
            ]
           ]
          },
          "colorway": [
           "#636efa",
           "#EF553B",
           "#00cc96",
           "#ab63fa",
           "#FFA15A",
           "#19d3f3",
           "#FF6692",
           "#B6E880",
           "#FF97FF",
           "#FECB52"
          ],
          "font": {
           "color": "#2a3f5f"
          },
          "geo": {
           "bgcolor": "white",
           "lakecolor": "white",
           "landcolor": "#E5ECF6",
           "showlakes": true,
           "showland": true,
           "subunitcolor": "white"
          },
          "hoverlabel": {
           "align": "left"
          },
          "hovermode": "closest",
          "mapbox": {
           "style": "light"
          },
          "paper_bgcolor": "white",
          "plot_bgcolor": "#E5ECF6",
          "polar": {
           "angularaxis": {
            "gridcolor": "white",
            "linecolor": "white",
            "ticks": ""
           },
           "bgcolor": "#E5ECF6",
           "radialaxis": {
            "gridcolor": "white",
            "linecolor": "white",
            "ticks": ""
           }
          },
          "scene": {
           "xaxis": {
            "backgroundcolor": "#E5ECF6",
            "gridcolor": "white",
            "gridwidth": 2,
            "linecolor": "white",
            "showbackground": true,
            "ticks": "",
            "zerolinecolor": "white"
           },
           "yaxis": {
            "backgroundcolor": "#E5ECF6",
            "gridcolor": "white",
            "gridwidth": 2,
            "linecolor": "white",
            "showbackground": true,
            "ticks": "",
            "zerolinecolor": "white"
           },
           "zaxis": {
            "backgroundcolor": "#E5ECF6",
            "gridcolor": "white",
            "gridwidth": 2,
            "linecolor": "white",
            "showbackground": true,
            "ticks": "",
            "zerolinecolor": "white"
           }
          },
          "shapedefaults": {
           "line": {
            "color": "#2a3f5f"
           }
          },
          "ternary": {
           "aaxis": {
            "gridcolor": "white",
            "linecolor": "white",
            "ticks": ""
           },
           "baxis": {
            "gridcolor": "white",
            "linecolor": "white",
            "ticks": ""
           },
           "bgcolor": "#E5ECF6",
           "caxis": {
            "gridcolor": "white",
            "linecolor": "white",
            "ticks": ""
           }
          },
          "title": {
           "x": 0.05
          },
          "xaxis": {
           "automargin": true,
           "gridcolor": "white",
           "linecolor": "white",
           "ticks": "",
           "title": {
            "standoff": 15
           },
           "zerolinecolor": "white",
           "zerolinewidth": 2
          },
          "yaxis": {
           "automargin": true,
           "gridcolor": "white",
           "linecolor": "white",
           "ticks": "",
           "title": {
            "standoff": 15
           },
           "zerolinecolor": "white",
           "zerolinewidth": 2
          }
         }
        },
        "title": {
         "text": "Volume of sold liquor per category"
        },
        "xaxis": {
         "anchor": "y",
         "domain": [
          0,
          1
         ],
         "title": {
          "text": " Category Name"
         }
        },
        "yaxis": {
         "anchor": "x",
         "domain": [
          0,
          1
         ],
         "title": {
          "text": "Volume in liters"
         }
        }
       }
      },
      "text/html": [
       "<div>                            <div id=\"d12e60b2-f978-4ab6-bf61-8542283382cb\" class=\"plotly-graph-div\" style=\"height:525px; width:100%;\"></div>            <script type=\"text/javascript\">                require([\"plotly\"], function(Plotly) {                    window.PLOTLYENV=window.PLOTLYENV || {};                                    if (document.getElementById(\"d12e60b2-f978-4ab6-bf61-8542283382cb\")) {                    Plotly.newPlot(                        \"d12e60b2-f978-4ab6-bf61-8542283382cb\",                        [{\"alignmentgroup\": \"True\", \"hovertemplate\": \"category_name=%{x}<br>volume_sold_liters=%{marker.color}<extra></extra>\", \"legendgroup\": \"\", \"marker\": {\"color\": [23559077.480028506, 20860912.070007257, 12463451.759995095, 7912533.459998651, 17797396.769994255, 7338065.399995831, 4119206.410000917, 3733534.2100008004, 7332827.489998778, 3351430.8600001493], \"coloraxis\": \"coloraxis\"}, \"name\": \"\", \"offsetgroup\": \"\", \"orientation\": \"v\", \"showlegend\": false, \"textposition\": \"auto\", \"type\": \"bar\", \"x\": [\"CANADIAN WHISKIES\", \"AMERICAN VODKAS\", \"SPICED RUM\", \"STRAIGHT BOURBON WHISKIES\", \"VODKA 80 PROOF\", \"WHISKEY LIQUEUR\", \"TENNESSEE WHISKIES\", \"IMPORTED VODKA\", \"BLENDED WHISKIES\", \"TEQUILA\"], \"xaxis\": \"x\", \"y\": [23559077.480028506, 20860912.070007257, 12463451.759995095, 7912533.459998651, 17797396.769994255, 7338065.399995831, 4119206.410000917, 3733534.2100008004, 7332827.489998778, 3351430.8600001493], \"yaxis\": \"y\"}],                        {\"barmode\": \"relative\", \"coloraxis\": {\"colorbar\": {\"title\": {\"text\": \"volume_sold_liters\"}}, \"colorscale\": [[0.0, \"#0d0887\"], [0.1111111111111111, \"#46039f\"], [0.2222222222222222, \"#7201a8\"], [0.3333333333333333, \"#9c179e\"], [0.4444444444444444, \"#bd3786\"], [0.5555555555555556, \"#d8576b\"], [0.6666666666666666, \"#ed7953\"], [0.7777777777777778, \"#fb9f3a\"], [0.8888888888888888, \"#fdca26\"], [1.0, \"#f0f921\"]]}, \"legend\": {\"tracegroupgap\": 0}, \"margin\": {\"t\": 60}, \"template\": {\"data\": {\"bar\": [{\"error_x\": {\"color\": \"#2a3f5f\"}, \"error_y\": {\"color\": \"#2a3f5f\"}, \"marker\": {\"line\": {\"color\": \"#E5ECF6\", \"width\": 0.5}}, \"type\": \"bar\"}], \"barpolar\": [{\"marker\": {\"line\": {\"color\": \"#E5ECF6\", \"width\": 0.5}}, \"type\": \"barpolar\"}], \"carpet\": [{\"aaxis\": {\"endlinecolor\": \"#2a3f5f\", \"gridcolor\": \"white\", \"linecolor\": \"white\", \"minorgridcolor\": \"white\", \"startlinecolor\": \"#2a3f5f\"}, \"baxis\": {\"endlinecolor\": \"#2a3f5f\", \"gridcolor\": \"white\", \"linecolor\": \"white\", \"minorgridcolor\": \"white\", \"startlinecolor\": \"#2a3f5f\"}, \"type\": \"carpet\"}], \"choropleth\": [{\"colorbar\": {\"outlinewidth\": 0, \"ticks\": \"\"}, \"type\": \"choropleth\"}], \"contour\": [{\"colorbar\": {\"outlinewidth\": 0, \"ticks\": \"\"}, \"colorscale\": [[0.0, \"#0d0887\"], [0.1111111111111111, \"#46039f\"], [0.2222222222222222, \"#7201a8\"], [0.3333333333333333, \"#9c179e\"], [0.4444444444444444, \"#bd3786\"], [0.5555555555555556, \"#d8576b\"], [0.6666666666666666, \"#ed7953\"], [0.7777777777777778, \"#fb9f3a\"], [0.8888888888888888, \"#fdca26\"], [1.0, \"#f0f921\"]], \"type\": \"contour\"}], \"contourcarpet\": [{\"colorbar\": {\"outlinewidth\": 0, \"ticks\": \"\"}, \"type\": \"contourcarpet\"}], \"heatmap\": [{\"colorbar\": {\"outlinewidth\": 0, \"ticks\": \"\"}, \"colorscale\": [[0.0, \"#0d0887\"], [0.1111111111111111, \"#46039f\"], [0.2222222222222222, \"#7201a8\"], [0.3333333333333333, \"#9c179e\"], [0.4444444444444444, \"#bd3786\"], [0.5555555555555556, \"#d8576b\"], [0.6666666666666666, \"#ed7953\"], [0.7777777777777778, \"#fb9f3a\"], [0.8888888888888888, \"#fdca26\"], [1.0, \"#f0f921\"]], \"type\": \"heatmap\"}], \"heatmapgl\": [{\"colorbar\": {\"outlinewidth\": 0, \"ticks\": \"\"}, \"colorscale\": [[0.0, \"#0d0887\"], [0.1111111111111111, \"#46039f\"], [0.2222222222222222, \"#7201a8\"], [0.3333333333333333, \"#9c179e\"], [0.4444444444444444, \"#bd3786\"], [0.5555555555555556, \"#d8576b\"], [0.6666666666666666, \"#ed7953\"], [0.7777777777777778, \"#fb9f3a\"], [0.8888888888888888, \"#fdca26\"], [1.0, \"#f0f921\"]], \"type\": \"heatmapgl\"}], \"histogram\": [{\"marker\": {\"colorbar\": {\"outlinewidth\": 0, \"ticks\": \"\"}}, \"type\": \"histogram\"}], \"histogram2d\": [{\"colorbar\": {\"outlinewidth\": 0, \"ticks\": \"\"}, \"colorscale\": [[0.0, \"#0d0887\"], [0.1111111111111111, \"#46039f\"], [0.2222222222222222, \"#7201a8\"], [0.3333333333333333, \"#9c179e\"], [0.4444444444444444, \"#bd3786\"], [0.5555555555555556, \"#d8576b\"], [0.6666666666666666, \"#ed7953\"], [0.7777777777777778, \"#fb9f3a\"], [0.8888888888888888, \"#fdca26\"], [1.0, \"#f0f921\"]], \"type\": \"histogram2d\"}], \"histogram2dcontour\": [{\"colorbar\": {\"outlinewidth\": 0, \"ticks\": \"\"}, \"colorscale\": [[0.0, \"#0d0887\"], [0.1111111111111111, \"#46039f\"], [0.2222222222222222, \"#7201a8\"], [0.3333333333333333, \"#9c179e\"], [0.4444444444444444, \"#bd3786\"], [0.5555555555555556, \"#d8576b\"], [0.6666666666666666, \"#ed7953\"], [0.7777777777777778, \"#fb9f3a\"], [0.8888888888888888, \"#fdca26\"], [1.0, \"#f0f921\"]], \"type\": \"histogram2dcontour\"}], \"mesh3d\": [{\"colorbar\": {\"outlinewidth\": 0, \"ticks\": \"\"}, \"type\": \"mesh3d\"}], \"parcoords\": [{\"line\": {\"colorbar\": {\"outlinewidth\": 0, \"ticks\": \"\"}}, \"type\": \"parcoords\"}], \"pie\": [{\"automargin\": true, \"type\": \"pie\"}], \"scatter\": [{\"marker\": {\"colorbar\": {\"outlinewidth\": 0, \"ticks\": \"\"}}, \"type\": \"scatter\"}], \"scatter3d\": [{\"line\": {\"colorbar\": {\"outlinewidth\": 0, \"ticks\": \"\"}}, \"marker\": {\"colorbar\": {\"outlinewidth\": 0, \"ticks\": \"\"}}, \"type\": \"scatter3d\"}], \"scattercarpet\": [{\"marker\": {\"colorbar\": {\"outlinewidth\": 0, \"ticks\": \"\"}}, \"type\": \"scattercarpet\"}], \"scattergeo\": [{\"marker\": {\"colorbar\": {\"outlinewidth\": 0, \"ticks\": \"\"}}, \"type\": \"scattergeo\"}], \"scattergl\": [{\"marker\": {\"colorbar\": {\"outlinewidth\": 0, \"ticks\": \"\"}}, \"type\": \"scattergl\"}], \"scattermapbox\": [{\"marker\": {\"colorbar\": {\"outlinewidth\": 0, \"ticks\": \"\"}}, \"type\": \"scattermapbox\"}], \"scatterpolar\": [{\"marker\": {\"colorbar\": {\"outlinewidth\": 0, \"ticks\": \"\"}}, \"type\": \"scatterpolar\"}], \"scatterpolargl\": [{\"marker\": {\"colorbar\": {\"outlinewidth\": 0, \"ticks\": \"\"}}, \"type\": \"scatterpolargl\"}], \"scatterternary\": [{\"marker\": {\"colorbar\": {\"outlinewidth\": 0, \"ticks\": \"\"}}, \"type\": \"scatterternary\"}], \"surface\": [{\"colorbar\": {\"outlinewidth\": 0, \"ticks\": \"\"}, \"colorscale\": [[0.0, \"#0d0887\"], [0.1111111111111111, \"#46039f\"], [0.2222222222222222, \"#7201a8\"], [0.3333333333333333, \"#9c179e\"], [0.4444444444444444, \"#bd3786\"], [0.5555555555555556, \"#d8576b\"], [0.6666666666666666, \"#ed7953\"], [0.7777777777777778, \"#fb9f3a\"], [0.8888888888888888, \"#fdca26\"], [1.0, \"#f0f921\"]], \"type\": \"surface\"}], \"table\": [{\"cells\": {\"fill\": {\"color\": \"#EBF0F8\"}, \"line\": {\"color\": \"white\"}}, \"header\": {\"fill\": {\"color\": \"#C8D4E3\"}, \"line\": {\"color\": \"white\"}}, \"type\": \"table\"}]}, \"layout\": {\"annotationdefaults\": {\"arrowcolor\": \"#2a3f5f\", \"arrowhead\": 0, \"arrowwidth\": 1}, \"coloraxis\": {\"colorbar\": {\"outlinewidth\": 0, \"ticks\": \"\"}}, \"colorscale\": {\"diverging\": [[0, \"#8e0152\"], [0.1, \"#c51b7d\"], [0.2, \"#de77ae\"], [0.3, \"#f1b6da\"], [0.4, \"#fde0ef\"], [0.5, \"#f7f7f7\"], [0.6, \"#e6f5d0\"], [0.7, \"#b8e186\"], [0.8, \"#7fbc41\"], [0.9, \"#4d9221\"], [1, \"#276419\"]], \"sequential\": [[0.0, \"#0d0887\"], [0.1111111111111111, \"#46039f\"], [0.2222222222222222, \"#7201a8\"], [0.3333333333333333, \"#9c179e\"], [0.4444444444444444, \"#bd3786\"], [0.5555555555555556, \"#d8576b\"], [0.6666666666666666, \"#ed7953\"], [0.7777777777777778, \"#fb9f3a\"], [0.8888888888888888, \"#fdca26\"], [1.0, \"#f0f921\"]], \"sequentialminus\": [[0.0, \"#0d0887\"], [0.1111111111111111, \"#46039f\"], [0.2222222222222222, \"#7201a8\"], [0.3333333333333333, \"#9c179e\"], [0.4444444444444444, \"#bd3786\"], [0.5555555555555556, \"#d8576b\"], [0.6666666666666666, \"#ed7953\"], [0.7777777777777778, \"#fb9f3a\"], [0.8888888888888888, \"#fdca26\"], [1.0, \"#f0f921\"]]}, \"colorway\": [\"#636efa\", \"#EF553B\", \"#00cc96\", \"#ab63fa\", \"#FFA15A\", \"#19d3f3\", \"#FF6692\", \"#B6E880\", \"#FF97FF\", \"#FECB52\"], \"font\": {\"color\": \"#2a3f5f\"}, \"geo\": {\"bgcolor\": \"white\", \"lakecolor\": \"white\", \"landcolor\": \"#E5ECF6\", \"showlakes\": true, \"showland\": true, \"subunitcolor\": \"white\"}, \"hoverlabel\": {\"align\": \"left\"}, \"hovermode\": \"closest\", \"mapbox\": {\"style\": \"light\"}, \"paper_bgcolor\": \"white\", \"plot_bgcolor\": \"#E5ECF6\", \"polar\": {\"angularaxis\": {\"gridcolor\": \"white\", \"linecolor\": \"white\", \"ticks\": \"\"}, \"bgcolor\": \"#E5ECF6\", \"radialaxis\": {\"gridcolor\": \"white\", \"linecolor\": \"white\", \"ticks\": \"\"}}, \"scene\": {\"xaxis\": {\"backgroundcolor\": \"#E5ECF6\", \"gridcolor\": \"white\", \"gridwidth\": 2, \"linecolor\": \"white\", \"showbackground\": true, \"ticks\": \"\", \"zerolinecolor\": \"white\"}, \"yaxis\": {\"backgroundcolor\": \"#E5ECF6\", \"gridcolor\": \"white\", \"gridwidth\": 2, \"linecolor\": \"white\", \"showbackground\": true, \"ticks\": \"\", \"zerolinecolor\": \"white\"}, \"zaxis\": {\"backgroundcolor\": \"#E5ECF6\", \"gridcolor\": \"white\", \"gridwidth\": 2, \"linecolor\": \"white\", \"showbackground\": true, \"ticks\": \"\", \"zerolinecolor\": \"white\"}}, \"shapedefaults\": {\"line\": {\"color\": \"#2a3f5f\"}}, \"ternary\": {\"aaxis\": {\"gridcolor\": \"white\", \"linecolor\": \"white\", \"ticks\": \"\"}, \"baxis\": {\"gridcolor\": \"white\", \"linecolor\": \"white\", \"ticks\": \"\"}, \"bgcolor\": \"#E5ECF6\", \"caxis\": {\"gridcolor\": \"white\", \"linecolor\": \"white\", \"ticks\": \"\"}}, \"title\": {\"x\": 0.05}, \"xaxis\": {\"automargin\": true, \"gridcolor\": \"white\", \"linecolor\": \"white\", \"ticks\": \"\", \"title\": {\"standoff\": 15}, \"zerolinecolor\": \"white\", \"zerolinewidth\": 2}, \"yaxis\": {\"automargin\": true, \"gridcolor\": \"white\", \"linecolor\": \"white\", \"ticks\": \"\", \"title\": {\"standoff\": 15}, \"zerolinecolor\": \"white\", \"zerolinewidth\": 2}}}, \"title\": {\"text\": \"Volume of sold liquor per category\"}, \"xaxis\": {\"anchor\": \"y\", \"domain\": [0.0, 1.0], \"title\": {\"text\": \" Category Name\"}}, \"yaxis\": {\"anchor\": \"x\", \"domain\": [0.0, 1.0], \"title\": {\"text\": \"Volume in liters\"}}},                        {\"responsive\": true}                    ).then(function(){\n",
       "                            \n",
       "var gd = document.getElementById('d12e60b2-f978-4ab6-bf61-8542283382cb');\n",
       "var x = new MutationObserver(function (mutations, observer) {{\n",
       "        var display = window.getComputedStyle(gd).display;\n",
       "        if (!display || display === 'none') {{\n",
       "            console.log([gd, 'removed!']);\n",
       "            Plotly.purge(gd);\n",
       "            observer.disconnect();\n",
       "        }}\n",
       "}});\n",
       "\n",
       "// Listen for the removal of the full notebook cells\n",
       "var notebookContainer = gd.closest('#notebook-container');\n",
       "if (notebookContainer) {{\n",
       "    x.observe(notebookContainer, {childList: true});\n",
       "}}\n",
       "\n",
       "// Listen for the clearing of the current output cell\n",
       "var outputEl = gd.closest('.output');\n",
       "if (outputEl) {{\n",
       "    x.observe(outputEl, {childList: true});\n",
       "}}\n",
       "\n",
       "                        })                };                });            </script>        </div>"
      ]
     },
     "metadata": {},
     "output_type": "display_data"
    },
    {
     "data": {
      "application/vnd.plotly.v1+json": {
       "config": {
        "plotlyServerURL": "https://plot.ly"
       },
       "data": [
        {
         "alignmentgroup": "True",
         "hovertemplate": "category_name=%{x}<br>sale_dollars=%{y}<br>volume_sold_liters=%{marker.color}<extra></extra>",
         "legendgroup": "",
         "marker": {
          "color": [
           23559077.480028506,
           20860912.070007257,
           12463451.759995095,
           7912533.459998651,
           17797396.769994255,
           7338065.399995831,
           4119206.410000917,
           3733534.2100008004,
           7332827.489998778,
           3351430.8600001493
          ],
          "coloraxis": "coloraxis"
         },
         "name": "",
         "offsetgroup": "",
         "orientation": "v",
         "showlegend": false,
         "textposition": "auto",
         "type": "bar",
         "x": [
          "CANADIAN WHISKIES",
          "AMERICAN VODKAS",
          "SPICED RUM",
          "STRAIGHT BOURBON WHISKIES",
          "VODKA 80 PROOF",
          "WHISKEY LIQUEUR",
          "TENNESSEE WHISKIES",
          "IMPORTED VODKA",
          "BLENDED WHISKIES",
          "TEQUILA"
         ],
         "xaxis": "x",
         "y": [
          321629995,
          203445748,
          191230879,
          156847891,
          145765084,
          127806552,
          116194638,
          77726421,
          75480395,
          68479198
         ],
         "yaxis": "y"
        }
       ],
       "layout": {
        "barmode": "relative",
        "coloraxis": {
         "colorbar": {
          "title": {
           "text": "volume_sold_liters"
          }
         },
         "colorscale": [
          [
           0,
           "#0d0887"
          ],
          [
           0.1111111111111111,
           "#46039f"
          ],
          [
           0.2222222222222222,
           "#7201a8"
          ],
          [
           0.3333333333333333,
           "#9c179e"
          ],
          [
           0.4444444444444444,
           "#bd3786"
          ],
          [
           0.5555555555555556,
           "#d8576b"
          ],
          [
           0.6666666666666666,
           "#ed7953"
          ],
          [
           0.7777777777777778,
           "#fb9f3a"
          ],
          [
           0.8888888888888888,
           "#fdca26"
          ],
          [
           1,
           "#f0f921"
          ]
         ]
        },
        "legend": {
         "tracegroupgap": 0
        },
        "margin": {
         "t": 60
        },
        "template": {
         "data": {
          "bar": [
           {
            "error_x": {
             "color": "#2a3f5f"
            },
            "error_y": {
             "color": "#2a3f5f"
            },
            "marker": {
             "line": {
              "color": "#E5ECF6",
              "width": 0.5
             }
            },
            "type": "bar"
           }
          ],
          "barpolar": [
           {
            "marker": {
             "line": {
              "color": "#E5ECF6",
              "width": 0.5
             }
            },
            "type": "barpolar"
           }
          ],
          "carpet": [
           {
            "aaxis": {
             "endlinecolor": "#2a3f5f",
             "gridcolor": "white",
             "linecolor": "white",
             "minorgridcolor": "white",
             "startlinecolor": "#2a3f5f"
            },
            "baxis": {
             "endlinecolor": "#2a3f5f",
             "gridcolor": "white",
             "linecolor": "white",
             "minorgridcolor": "white",
             "startlinecolor": "#2a3f5f"
            },
            "type": "carpet"
           }
          ],
          "choropleth": [
           {
            "colorbar": {
             "outlinewidth": 0,
             "ticks": ""
            },
            "type": "choropleth"
           }
          ],
          "contour": [
           {
            "colorbar": {
             "outlinewidth": 0,
             "ticks": ""
            },
            "colorscale": [
             [
              0,
              "#0d0887"
             ],
             [
              0.1111111111111111,
              "#46039f"
             ],
             [
              0.2222222222222222,
              "#7201a8"
             ],
             [
              0.3333333333333333,
              "#9c179e"
             ],
             [
              0.4444444444444444,
              "#bd3786"
             ],
             [
              0.5555555555555556,
              "#d8576b"
             ],
             [
              0.6666666666666666,
              "#ed7953"
             ],
             [
              0.7777777777777778,
              "#fb9f3a"
             ],
             [
              0.8888888888888888,
              "#fdca26"
             ],
             [
              1,
              "#f0f921"
             ]
            ],
            "type": "contour"
           }
          ],
          "contourcarpet": [
           {
            "colorbar": {
             "outlinewidth": 0,
             "ticks": ""
            },
            "type": "contourcarpet"
           }
          ],
          "heatmap": [
           {
            "colorbar": {
             "outlinewidth": 0,
             "ticks": ""
            },
            "colorscale": [
             [
              0,
              "#0d0887"
             ],
             [
              0.1111111111111111,
              "#46039f"
             ],
             [
              0.2222222222222222,
              "#7201a8"
             ],
             [
              0.3333333333333333,
              "#9c179e"
             ],
             [
              0.4444444444444444,
              "#bd3786"
             ],
             [
              0.5555555555555556,
              "#d8576b"
             ],
             [
              0.6666666666666666,
              "#ed7953"
             ],
             [
              0.7777777777777778,
              "#fb9f3a"
             ],
             [
              0.8888888888888888,
              "#fdca26"
             ],
             [
              1,
              "#f0f921"
             ]
            ],
            "type": "heatmap"
           }
          ],
          "heatmapgl": [
           {
            "colorbar": {
             "outlinewidth": 0,
             "ticks": ""
            },
            "colorscale": [
             [
              0,
              "#0d0887"
             ],
             [
              0.1111111111111111,
              "#46039f"
             ],
             [
              0.2222222222222222,
              "#7201a8"
             ],
             [
              0.3333333333333333,
              "#9c179e"
             ],
             [
              0.4444444444444444,
              "#bd3786"
             ],
             [
              0.5555555555555556,
              "#d8576b"
             ],
             [
              0.6666666666666666,
              "#ed7953"
             ],
             [
              0.7777777777777778,
              "#fb9f3a"
             ],
             [
              0.8888888888888888,
              "#fdca26"
             ],
             [
              1,
              "#f0f921"
             ]
            ],
            "type": "heatmapgl"
           }
          ],
          "histogram": [
           {
            "marker": {
             "colorbar": {
              "outlinewidth": 0,
              "ticks": ""
             }
            },
            "type": "histogram"
           }
          ],
          "histogram2d": [
           {
            "colorbar": {
             "outlinewidth": 0,
             "ticks": ""
            },
            "colorscale": [
             [
              0,
              "#0d0887"
             ],
             [
              0.1111111111111111,
              "#46039f"
             ],
             [
              0.2222222222222222,
              "#7201a8"
             ],
             [
              0.3333333333333333,
              "#9c179e"
             ],
             [
              0.4444444444444444,
              "#bd3786"
             ],
             [
              0.5555555555555556,
              "#d8576b"
             ],
             [
              0.6666666666666666,
              "#ed7953"
             ],
             [
              0.7777777777777778,
              "#fb9f3a"
             ],
             [
              0.8888888888888888,
              "#fdca26"
             ],
             [
              1,
              "#f0f921"
             ]
            ],
            "type": "histogram2d"
           }
          ],
          "histogram2dcontour": [
           {
            "colorbar": {
             "outlinewidth": 0,
             "ticks": ""
            },
            "colorscale": [
             [
              0,
              "#0d0887"
             ],
             [
              0.1111111111111111,
              "#46039f"
             ],
             [
              0.2222222222222222,
              "#7201a8"
             ],
             [
              0.3333333333333333,
              "#9c179e"
             ],
             [
              0.4444444444444444,
              "#bd3786"
             ],
             [
              0.5555555555555556,
              "#d8576b"
             ],
             [
              0.6666666666666666,
              "#ed7953"
             ],
             [
              0.7777777777777778,
              "#fb9f3a"
             ],
             [
              0.8888888888888888,
              "#fdca26"
             ],
             [
              1,
              "#f0f921"
             ]
            ],
            "type": "histogram2dcontour"
           }
          ],
          "mesh3d": [
           {
            "colorbar": {
             "outlinewidth": 0,
             "ticks": ""
            },
            "type": "mesh3d"
           }
          ],
          "parcoords": [
           {
            "line": {
             "colorbar": {
              "outlinewidth": 0,
              "ticks": ""
             }
            },
            "type": "parcoords"
           }
          ],
          "pie": [
           {
            "automargin": true,
            "type": "pie"
           }
          ],
          "scatter": [
           {
            "marker": {
             "colorbar": {
              "outlinewidth": 0,
              "ticks": ""
             }
            },
            "type": "scatter"
           }
          ],
          "scatter3d": [
           {
            "line": {
             "colorbar": {
              "outlinewidth": 0,
              "ticks": ""
             }
            },
            "marker": {
             "colorbar": {
              "outlinewidth": 0,
              "ticks": ""
             }
            },
            "type": "scatter3d"
           }
          ],
          "scattercarpet": [
           {
            "marker": {
             "colorbar": {
              "outlinewidth": 0,
              "ticks": ""
             }
            },
            "type": "scattercarpet"
           }
          ],
          "scattergeo": [
           {
            "marker": {
             "colorbar": {
              "outlinewidth": 0,
              "ticks": ""
             }
            },
            "type": "scattergeo"
           }
          ],
          "scattergl": [
           {
            "marker": {
             "colorbar": {
              "outlinewidth": 0,
              "ticks": ""
             }
            },
            "type": "scattergl"
           }
          ],
          "scattermapbox": [
           {
            "marker": {
             "colorbar": {
              "outlinewidth": 0,
              "ticks": ""
             }
            },
            "type": "scattermapbox"
           }
          ],
          "scatterpolar": [
           {
            "marker": {
             "colorbar": {
              "outlinewidth": 0,
              "ticks": ""
             }
            },
            "type": "scatterpolar"
           }
          ],
          "scatterpolargl": [
           {
            "marker": {
             "colorbar": {
              "outlinewidth": 0,
              "ticks": ""
             }
            },
            "type": "scatterpolargl"
           }
          ],
          "scatterternary": [
           {
            "marker": {
             "colorbar": {
              "outlinewidth": 0,
              "ticks": ""
             }
            },
            "type": "scatterternary"
           }
          ],
          "surface": [
           {
            "colorbar": {
             "outlinewidth": 0,
             "ticks": ""
            },
            "colorscale": [
             [
              0,
              "#0d0887"
             ],
             [
              0.1111111111111111,
              "#46039f"
             ],
             [
              0.2222222222222222,
              "#7201a8"
             ],
             [
              0.3333333333333333,
              "#9c179e"
             ],
             [
              0.4444444444444444,
              "#bd3786"
             ],
             [
              0.5555555555555556,
              "#d8576b"
             ],
             [
              0.6666666666666666,
              "#ed7953"
             ],
             [
              0.7777777777777778,
              "#fb9f3a"
             ],
             [
              0.8888888888888888,
              "#fdca26"
             ],
             [
              1,
              "#f0f921"
             ]
            ],
            "type": "surface"
           }
          ],
          "table": [
           {
            "cells": {
             "fill": {
              "color": "#EBF0F8"
             },
             "line": {
              "color": "white"
             }
            },
            "header": {
             "fill": {
              "color": "#C8D4E3"
             },
             "line": {
              "color": "white"
             }
            },
            "type": "table"
           }
          ]
         },
         "layout": {
          "annotationdefaults": {
           "arrowcolor": "#2a3f5f",
           "arrowhead": 0,
           "arrowwidth": 1
          },
          "coloraxis": {
           "colorbar": {
            "outlinewidth": 0,
            "ticks": ""
           }
          },
          "colorscale": {
           "diverging": [
            [
             0,
             "#8e0152"
            ],
            [
             0.1,
             "#c51b7d"
            ],
            [
             0.2,
             "#de77ae"
            ],
            [
             0.3,
             "#f1b6da"
            ],
            [
             0.4,
             "#fde0ef"
            ],
            [
             0.5,
             "#f7f7f7"
            ],
            [
             0.6,
             "#e6f5d0"
            ],
            [
             0.7,
             "#b8e186"
            ],
            [
             0.8,
             "#7fbc41"
            ],
            [
             0.9,
             "#4d9221"
            ],
            [
             1,
             "#276419"
            ]
           ],
           "sequential": [
            [
             0,
             "#0d0887"
            ],
            [
             0.1111111111111111,
             "#46039f"
            ],
            [
             0.2222222222222222,
             "#7201a8"
            ],
            [
             0.3333333333333333,
             "#9c179e"
            ],
            [
             0.4444444444444444,
             "#bd3786"
            ],
            [
             0.5555555555555556,
             "#d8576b"
            ],
            [
             0.6666666666666666,
             "#ed7953"
            ],
            [
             0.7777777777777778,
             "#fb9f3a"
            ],
            [
             0.8888888888888888,
             "#fdca26"
            ],
            [
             1,
             "#f0f921"
            ]
           ],
           "sequentialminus": [
            [
             0,
             "#0d0887"
            ],
            [
             0.1111111111111111,
             "#46039f"
            ],
            [
             0.2222222222222222,
             "#7201a8"
            ],
            [
             0.3333333333333333,
             "#9c179e"
            ],
            [
             0.4444444444444444,
             "#bd3786"
            ],
            [
             0.5555555555555556,
             "#d8576b"
            ],
            [
             0.6666666666666666,
             "#ed7953"
            ],
            [
             0.7777777777777778,
             "#fb9f3a"
            ],
            [
             0.8888888888888888,
             "#fdca26"
            ],
            [
             1,
             "#f0f921"
            ]
           ]
          },
          "colorway": [
           "#636efa",
           "#EF553B",
           "#00cc96",
           "#ab63fa",
           "#FFA15A",
           "#19d3f3",
           "#FF6692",
           "#B6E880",
           "#FF97FF",
           "#FECB52"
          ],
          "font": {
           "color": "#2a3f5f"
          },
          "geo": {
           "bgcolor": "white",
           "lakecolor": "white",
           "landcolor": "#E5ECF6",
           "showlakes": true,
           "showland": true,
           "subunitcolor": "white"
          },
          "hoverlabel": {
           "align": "left"
          },
          "hovermode": "closest",
          "mapbox": {
           "style": "light"
          },
          "paper_bgcolor": "white",
          "plot_bgcolor": "#E5ECF6",
          "polar": {
           "angularaxis": {
            "gridcolor": "white",
            "linecolor": "white",
            "ticks": ""
           },
           "bgcolor": "#E5ECF6",
           "radialaxis": {
            "gridcolor": "white",
            "linecolor": "white",
            "ticks": ""
           }
          },
          "scene": {
           "xaxis": {
            "backgroundcolor": "#E5ECF6",
            "gridcolor": "white",
            "gridwidth": 2,
            "linecolor": "white",
            "showbackground": true,
            "ticks": "",
            "zerolinecolor": "white"
           },
           "yaxis": {
            "backgroundcolor": "#E5ECF6",
            "gridcolor": "white",
            "gridwidth": 2,
            "linecolor": "white",
            "showbackground": true,
            "ticks": "",
            "zerolinecolor": "white"
           },
           "zaxis": {
            "backgroundcolor": "#E5ECF6",
            "gridcolor": "white",
            "gridwidth": 2,
            "linecolor": "white",
            "showbackground": true,
            "ticks": "",
            "zerolinecolor": "white"
           }
          },
          "shapedefaults": {
           "line": {
            "color": "#2a3f5f"
           }
          },
          "ternary": {
           "aaxis": {
            "gridcolor": "white",
            "linecolor": "white",
            "ticks": ""
           },
           "baxis": {
            "gridcolor": "white",
            "linecolor": "white",
            "ticks": ""
           },
           "bgcolor": "#E5ECF6",
           "caxis": {
            "gridcolor": "white",
            "linecolor": "white",
            "ticks": ""
           }
          },
          "title": {
           "x": 0.05
          },
          "xaxis": {
           "automargin": true,
           "gridcolor": "white",
           "linecolor": "white",
           "ticks": "",
           "title": {
            "standoff": 15
           },
           "zerolinecolor": "white",
           "zerolinewidth": 2
          },
          "yaxis": {
           "automargin": true,
           "gridcolor": "white",
           "linecolor": "white",
           "ticks": "",
           "title": {
            "standoff": 15
           },
           "zerolinecolor": "white",
           "zerolinewidth": 2
          }
         }
        },
        "title": {
         "text": "Sales of liquor per category"
        },
        "xaxis": {
         "anchor": "y",
         "domain": [
          0,
          1
         ],
         "title": {
          "text": "Category Name"
         }
        },
        "yaxis": {
         "anchor": "x",
         "domain": [
          0,
          1
         ],
         "title": {
          "text": "Sales in dollars"
         }
        }
       }
      },
      "text/html": [
       "<div>                            <div id=\"9b4d8d75-8c3f-42ce-a6a2-5081261ac3ca\" class=\"plotly-graph-div\" style=\"height:525px; width:100%;\"></div>            <script type=\"text/javascript\">                require([\"plotly\"], function(Plotly) {                    window.PLOTLYENV=window.PLOTLYENV || {};                                    if (document.getElementById(\"9b4d8d75-8c3f-42ce-a6a2-5081261ac3ca\")) {                    Plotly.newPlot(                        \"9b4d8d75-8c3f-42ce-a6a2-5081261ac3ca\",                        [{\"alignmentgroup\": \"True\", \"hovertemplate\": \"category_name=%{x}<br>sale_dollars=%{y}<br>volume_sold_liters=%{marker.color}<extra></extra>\", \"legendgroup\": \"\", \"marker\": {\"color\": [23559077.480028506, 20860912.070007257, 12463451.759995095, 7912533.459998651, 17797396.769994255, 7338065.399995831, 4119206.410000917, 3733534.2100008004, 7332827.489998778, 3351430.8600001493], \"coloraxis\": \"coloraxis\"}, \"name\": \"\", \"offsetgroup\": \"\", \"orientation\": \"v\", \"showlegend\": false, \"textposition\": \"auto\", \"type\": \"bar\", \"x\": [\"CANADIAN WHISKIES\", \"AMERICAN VODKAS\", \"SPICED RUM\", \"STRAIGHT BOURBON WHISKIES\", \"VODKA 80 PROOF\", \"WHISKEY LIQUEUR\", \"TENNESSEE WHISKIES\", \"IMPORTED VODKA\", \"BLENDED WHISKIES\", \"TEQUILA\"], \"xaxis\": \"x\", \"y\": [321629995, 203445748, 191230879, 156847891, 145765084, 127806552, 116194638, 77726421, 75480395, 68479198], \"yaxis\": \"y\"}],                        {\"barmode\": \"relative\", \"coloraxis\": {\"colorbar\": {\"title\": {\"text\": \"volume_sold_liters\"}}, \"colorscale\": [[0.0, \"#0d0887\"], [0.1111111111111111, \"#46039f\"], [0.2222222222222222, \"#7201a8\"], [0.3333333333333333, \"#9c179e\"], [0.4444444444444444, \"#bd3786\"], [0.5555555555555556, \"#d8576b\"], [0.6666666666666666, \"#ed7953\"], [0.7777777777777778, \"#fb9f3a\"], [0.8888888888888888, \"#fdca26\"], [1.0, \"#f0f921\"]]}, \"legend\": {\"tracegroupgap\": 0}, \"margin\": {\"t\": 60}, \"template\": {\"data\": {\"bar\": [{\"error_x\": {\"color\": \"#2a3f5f\"}, \"error_y\": {\"color\": \"#2a3f5f\"}, \"marker\": {\"line\": {\"color\": \"#E5ECF6\", \"width\": 0.5}}, \"type\": \"bar\"}], \"barpolar\": [{\"marker\": {\"line\": {\"color\": \"#E5ECF6\", \"width\": 0.5}}, \"type\": \"barpolar\"}], \"carpet\": [{\"aaxis\": {\"endlinecolor\": \"#2a3f5f\", \"gridcolor\": \"white\", \"linecolor\": \"white\", \"minorgridcolor\": \"white\", \"startlinecolor\": \"#2a3f5f\"}, \"baxis\": {\"endlinecolor\": \"#2a3f5f\", \"gridcolor\": \"white\", \"linecolor\": \"white\", \"minorgridcolor\": \"white\", \"startlinecolor\": \"#2a3f5f\"}, \"type\": \"carpet\"}], \"choropleth\": [{\"colorbar\": {\"outlinewidth\": 0, \"ticks\": \"\"}, \"type\": \"choropleth\"}], \"contour\": [{\"colorbar\": {\"outlinewidth\": 0, \"ticks\": \"\"}, \"colorscale\": [[0.0, \"#0d0887\"], [0.1111111111111111, \"#46039f\"], [0.2222222222222222, \"#7201a8\"], [0.3333333333333333, \"#9c179e\"], [0.4444444444444444, \"#bd3786\"], [0.5555555555555556, \"#d8576b\"], [0.6666666666666666, \"#ed7953\"], [0.7777777777777778, \"#fb9f3a\"], [0.8888888888888888, \"#fdca26\"], [1.0, \"#f0f921\"]], \"type\": \"contour\"}], \"contourcarpet\": [{\"colorbar\": {\"outlinewidth\": 0, \"ticks\": \"\"}, \"type\": \"contourcarpet\"}], \"heatmap\": [{\"colorbar\": {\"outlinewidth\": 0, \"ticks\": \"\"}, \"colorscale\": [[0.0, \"#0d0887\"], [0.1111111111111111, \"#46039f\"], [0.2222222222222222, \"#7201a8\"], [0.3333333333333333, \"#9c179e\"], [0.4444444444444444, \"#bd3786\"], [0.5555555555555556, \"#d8576b\"], [0.6666666666666666, \"#ed7953\"], [0.7777777777777778, \"#fb9f3a\"], [0.8888888888888888, \"#fdca26\"], [1.0, \"#f0f921\"]], \"type\": \"heatmap\"}], \"heatmapgl\": [{\"colorbar\": {\"outlinewidth\": 0, \"ticks\": \"\"}, \"colorscale\": [[0.0, \"#0d0887\"], [0.1111111111111111, \"#46039f\"], [0.2222222222222222, \"#7201a8\"], [0.3333333333333333, \"#9c179e\"], [0.4444444444444444, \"#bd3786\"], [0.5555555555555556, \"#d8576b\"], [0.6666666666666666, \"#ed7953\"], [0.7777777777777778, \"#fb9f3a\"], [0.8888888888888888, \"#fdca26\"], [1.0, \"#f0f921\"]], \"type\": \"heatmapgl\"}], \"histogram\": [{\"marker\": {\"colorbar\": {\"outlinewidth\": 0, \"ticks\": \"\"}}, \"type\": \"histogram\"}], \"histogram2d\": [{\"colorbar\": {\"outlinewidth\": 0, \"ticks\": \"\"}, \"colorscale\": [[0.0, \"#0d0887\"], [0.1111111111111111, \"#46039f\"], [0.2222222222222222, \"#7201a8\"], [0.3333333333333333, \"#9c179e\"], [0.4444444444444444, \"#bd3786\"], [0.5555555555555556, \"#d8576b\"], [0.6666666666666666, \"#ed7953\"], [0.7777777777777778, \"#fb9f3a\"], [0.8888888888888888, \"#fdca26\"], [1.0, \"#f0f921\"]], \"type\": \"histogram2d\"}], \"histogram2dcontour\": [{\"colorbar\": {\"outlinewidth\": 0, \"ticks\": \"\"}, \"colorscale\": [[0.0, \"#0d0887\"], [0.1111111111111111, \"#46039f\"], [0.2222222222222222, \"#7201a8\"], [0.3333333333333333, \"#9c179e\"], [0.4444444444444444, \"#bd3786\"], [0.5555555555555556, \"#d8576b\"], [0.6666666666666666, \"#ed7953\"], [0.7777777777777778, \"#fb9f3a\"], [0.8888888888888888, \"#fdca26\"], [1.0, \"#f0f921\"]], \"type\": \"histogram2dcontour\"}], \"mesh3d\": [{\"colorbar\": {\"outlinewidth\": 0, \"ticks\": \"\"}, \"type\": \"mesh3d\"}], \"parcoords\": [{\"line\": {\"colorbar\": {\"outlinewidth\": 0, \"ticks\": \"\"}}, \"type\": \"parcoords\"}], \"pie\": [{\"automargin\": true, \"type\": \"pie\"}], \"scatter\": [{\"marker\": {\"colorbar\": {\"outlinewidth\": 0, \"ticks\": \"\"}}, \"type\": \"scatter\"}], \"scatter3d\": [{\"line\": {\"colorbar\": {\"outlinewidth\": 0, \"ticks\": \"\"}}, \"marker\": {\"colorbar\": {\"outlinewidth\": 0, \"ticks\": \"\"}}, \"type\": \"scatter3d\"}], \"scattercarpet\": [{\"marker\": {\"colorbar\": {\"outlinewidth\": 0, \"ticks\": \"\"}}, \"type\": \"scattercarpet\"}], \"scattergeo\": [{\"marker\": {\"colorbar\": {\"outlinewidth\": 0, \"ticks\": \"\"}}, \"type\": \"scattergeo\"}], \"scattergl\": [{\"marker\": {\"colorbar\": {\"outlinewidth\": 0, \"ticks\": \"\"}}, \"type\": \"scattergl\"}], \"scattermapbox\": [{\"marker\": {\"colorbar\": {\"outlinewidth\": 0, \"ticks\": \"\"}}, \"type\": \"scattermapbox\"}], \"scatterpolar\": [{\"marker\": {\"colorbar\": {\"outlinewidth\": 0, \"ticks\": \"\"}}, \"type\": \"scatterpolar\"}], \"scatterpolargl\": [{\"marker\": {\"colorbar\": {\"outlinewidth\": 0, \"ticks\": \"\"}}, \"type\": \"scatterpolargl\"}], \"scatterternary\": [{\"marker\": {\"colorbar\": {\"outlinewidth\": 0, \"ticks\": \"\"}}, \"type\": \"scatterternary\"}], \"surface\": [{\"colorbar\": {\"outlinewidth\": 0, \"ticks\": \"\"}, \"colorscale\": [[0.0, \"#0d0887\"], [0.1111111111111111, \"#46039f\"], [0.2222222222222222, \"#7201a8\"], [0.3333333333333333, \"#9c179e\"], [0.4444444444444444, \"#bd3786\"], [0.5555555555555556, \"#d8576b\"], [0.6666666666666666, \"#ed7953\"], [0.7777777777777778, \"#fb9f3a\"], [0.8888888888888888, \"#fdca26\"], [1.0, \"#f0f921\"]], \"type\": \"surface\"}], \"table\": [{\"cells\": {\"fill\": {\"color\": \"#EBF0F8\"}, \"line\": {\"color\": \"white\"}}, \"header\": {\"fill\": {\"color\": \"#C8D4E3\"}, \"line\": {\"color\": \"white\"}}, \"type\": \"table\"}]}, \"layout\": {\"annotationdefaults\": {\"arrowcolor\": \"#2a3f5f\", \"arrowhead\": 0, \"arrowwidth\": 1}, \"coloraxis\": {\"colorbar\": {\"outlinewidth\": 0, \"ticks\": \"\"}}, \"colorscale\": {\"diverging\": [[0, \"#8e0152\"], [0.1, \"#c51b7d\"], [0.2, \"#de77ae\"], [0.3, \"#f1b6da\"], [0.4, \"#fde0ef\"], [0.5, \"#f7f7f7\"], [0.6, \"#e6f5d0\"], [0.7, \"#b8e186\"], [0.8, \"#7fbc41\"], [0.9, \"#4d9221\"], [1, \"#276419\"]], \"sequential\": [[0.0, \"#0d0887\"], [0.1111111111111111, \"#46039f\"], [0.2222222222222222, \"#7201a8\"], [0.3333333333333333, \"#9c179e\"], [0.4444444444444444, \"#bd3786\"], [0.5555555555555556, \"#d8576b\"], [0.6666666666666666, \"#ed7953\"], [0.7777777777777778, \"#fb9f3a\"], [0.8888888888888888, \"#fdca26\"], [1.0, \"#f0f921\"]], \"sequentialminus\": [[0.0, \"#0d0887\"], [0.1111111111111111, \"#46039f\"], [0.2222222222222222, \"#7201a8\"], [0.3333333333333333, \"#9c179e\"], [0.4444444444444444, \"#bd3786\"], [0.5555555555555556, \"#d8576b\"], [0.6666666666666666, \"#ed7953\"], [0.7777777777777778, \"#fb9f3a\"], [0.8888888888888888, \"#fdca26\"], [1.0, \"#f0f921\"]]}, \"colorway\": [\"#636efa\", \"#EF553B\", \"#00cc96\", \"#ab63fa\", \"#FFA15A\", \"#19d3f3\", \"#FF6692\", \"#B6E880\", \"#FF97FF\", \"#FECB52\"], \"font\": {\"color\": \"#2a3f5f\"}, \"geo\": {\"bgcolor\": \"white\", \"lakecolor\": \"white\", \"landcolor\": \"#E5ECF6\", \"showlakes\": true, \"showland\": true, \"subunitcolor\": \"white\"}, \"hoverlabel\": {\"align\": \"left\"}, \"hovermode\": \"closest\", \"mapbox\": {\"style\": \"light\"}, \"paper_bgcolor\": \"white\", \"plot_bgcolor\": \"#E5ECF6\", \"polar\": {\"angularaxis\": {\"gridcolor\": \"white\", \"linecolor\": \"white\", \"ticks\": \"\"}, \"bgcolor\": \"#E5ECF6\", \"radialaxis\": {\"gridcolor\": \"white\", \"linecolor\": \"white\", \"ticks\": \"\"}}, \"scene\": {\"xaxis\": {\"backgroundcolor\": \"#E5ECF6\", \"gridcolor\": \"white\", \"gridwidth\": 2, \"linecolor\": \"white\", \"showbackground\": true, \"ticks\": \"\", \"zerolinecolor\": \"white\"}, \"yaxis\": {\"backgroundcolor\": \"#E5ECF6\", \"gridcolor\": \"white\", \"gridwidth\": 2, \"linecolor\": \"white\", \"showbackground\": true, \"ticks\": \"\", \"zerolinecolor\": \"white\"}, \"zaxis\": {\"backgroundcolor\": \"#E5ECF6\", \"gridcolor\": \"white\", \"gridwidth\": 2, \"linecolor\": \"white\", \"showbackground\": true, \"ticks\": \"\", \"zerolinecolor\": \"white\"}}, \"shapedefaults\": {\"line\": {\"color\": \"#2a3f5f\"}}, \"ternary\": {\"aaxis\": {\"gridcolor\": \"white\", \"linecolor\": \"white\", \"ticks\": \"\"}, \"baxis\": {\"gridcolor\": \"white\", \"linecolor\": \"white\", \"ticks\": \"\"}, \"bgcolor\": \"#E5ECF6\", \"caxis\": {\"gridcolor\": \"white\", \"linecolor\": \"white\", \"ticks\": \"\"}}, \"title\": {\"x\": 0.05}, \"xaxis\": {\"automargin\": true, \"gridcolor\": \"white\", \"linecolor\": \"white\", \"ticks\": \"\", \"title\": {\"standoff\": 15}, \"zerolinecolor\": \"white\", \"zerolinewidth\": 2}, \"yaxis\": {\"automargin\": true, \"gridcolor\": \"white\", \"linecolor\": \"white\", \"ticks\": \"\", \"title\": {\"standoff\": 15}, \"zerolinecolor\": \"white\", \"zerolinewidth\": 2}}}, \"title\": {\"text\": \"Sales of liquor per category\"}, \"xaxis\": {\"anchor\": \"y\", \"domain\": [0.0, 1.0], \"title\": {\"text\": \"Category Name\"}}, \"yaxis\": {\"anchor\": \"x\", \"domain\": [0.0, 1.0], \"title\": {\"text\": \"Sales in dollars\"}}},                        {\"responsive\": true}                    ).then(function(){\n",
       "                            \n",
       "var gd = document.getElementById('9b4d8d75-8c3f-42ce-a6a2-5081261ac3ca');\n",
       "var x = new MutationObserver(function (mutations, observer) {{\n",
       "        var display = window.getComputedStyle(gd).display;\n",
       "        if (!display || display === 'none') {{\n",
       "            console.log([gd, 'removed!']);\n",
       "            Plotly.purge(gd);\n",
       "            observer.disconnect();\n",
       "        }}\n",
       "}});\n",
       "\n",
       "// Listen for the removal of the full notebook cells\n",
       "var notebookContainer = gd.closest('#notebook-container');\n",
       "if (notebookContainer) {{\n",
       "    x.observe(notebookContainer, {childList: true});\n",
       "}}\n",
       "\n",
       "// Listen for the clearing of the current output cell\n",
       "var outputEl = gd.closest('.output');\n",
       "if (outputEl) {{\n",
       "    x.observe(outputEl, {childList: true});\n",
       "}}\n",
       "\n",
       "                        })                };                });            </script>        </div>"
      ]
     },
     "metadata": {},
     "output_type": "display_data"
    }
   ],
   "source": [
    "fig_reg = px.bar(df_plot.head(10),x='category_name', y='volume_sold_liters',color='volume_sold_liters')\n",
    "fig_reg.update_layout(\n",
    "    title=\"Volume of sold liquor per category\",\n",
    "    xaxis_title=\" Category Name\",\n",
    "    yaxis_title=\"Volume in liters\",\n",
    "    )\n",
    "\n",
    "fig_reg2 = px.bar(df_plot.head(10),x='category_name', y='sale_dollars',color='volume_sold_liters')\n",
    "fig_reg2.update_layout(\n",
    "    title=\"Sales of liquor per category\",\n",
    "    xaxis_title=\"Category Name\",\n",
    "    yaxis_title=\"Sales in dollars\",\n",
    "    )\n",
    "\n",
    "\n",
    "fig_reg.show()\n",
    "fig_reg2.show()\n",
    "\n",
    "# Let's look at graphic of most income-generating category of alcohol and their volume\n",
    "# Here we can see that vodka is 3d on volume and 5th on income"
   ]
  },
  {
   "cell_type": "code",
   "execution_count": 78,
   "metadata": {},
   "outputs": [
    {
     "data": {
      "text/html": [
       "<div>\n",
       "<style scoped>\n",
       "    .dataframe tbody tr th:only-of-type {\n",
       "        vertical-align: middle;\n",
       "    }\n",
       "\n",
       "    .dataframe tbody tr th {\n",
       "        vertical-align: top;\n",
       "    }\n",
       "\n",
       "    .dataframe thead th {\n",
       "        text-align: right;\n",
       "    }\n",
       "</style>\n",
       "<table border=\"1\" class=\"dataframe\">\n",
       "  <thead>\n",
       "    <tr style=\"text-align: right;\">\n",
       "      <th></th>\n",
       "      <th>city</th>\n",
       "      <th>item_description</th>\n",
       "      <th>sale_dollars</th>\n",
       "      <th>volume_sold_liters</th>\n",
       "      <th>bottles_sold</th>\n",
       "      <th>state_bottle_retail</th>\n",
       "    </tr>\n",
       "  </thead>\n",
       "  <tbody>\n",
       "    <tr>\n",
       "      <th>120610</th>\n",
       "      <td>DES MOINES</td>\n",
       "      <td>Fireball Cinnamon Whiskey</td>\n",
       "      <td>11145639</td>\n",
       "      <td>723445.03</td>\n",
       "      <td>1002508</td>\n",
       "      <td>13.334032</td>\n",
       "    </tr>\n",
       "    <tr>\n",
       "      <th>62548</th>\n",
       "      <td>CEDAR RAPIDS</td>\n",
       "      <td>Black Velvet</td>\n",
       "      <td>6044404</td>\n",
       "      <td>648603.86</td>\n",
       "      <td>603380</td>\n",
       "      <td>8.732476</td>\n",
       "    </tr>\n",
       "    <tr>\n",
       "      <th>381277</th>\n",
       "      <td>WATERLOO</td>\n",
       "      <td>Hennessy VS</td>\n",
       "      <td>4151918</td>\n",
       "      <td>99402.54</td>\n",
       "      <td>331500</td>\n",
       "      <td>15.123313</td>\n",
       "    </tr>\n",
       "    <tr>\n",
       "      <th>402860</th>\n",
       "      <td>WEST DES MOINES</td>\n",
       "      <td>Titos Handmade Vodka</td>\n",
       "      <td>4020999</td>\n",
       "      <td>231464.47</td>\n",
       "      <td>201233</td>\n",
       "      <td>18.345245</td>\n",
       "    </tr>\n",
       "    <tr>\n",
       "      <th>108822</th>\n",
       "      <td>DAVENPORT</td>\n",
       "      <td>Hennessy VS</td>\n",
       "      <td>3862551</td>\n",
       "      <td>92008.11</td>\n",
       "      <td>282549</td>\n",
       "      <td>15.166241</td>\n",
       "    </tr>\n",
       "    <tr>\n",
       "      <th>...</th>\n",
       "      <td>...</td>\n",
       "      <td>...</td>\n",
       "      <td>...</td>\n",
       "      <td>...</td>\n",
       "      <td>...</td>\n",
       "      <td>...</td>\n",
       "    </tr>\n",
       "    <tr>\n",
       "      <th>6490</th>\n",
       "      <td>ALLERTON</td>\n",
       "      <td>SOOH Michters 10YR Old Single Barrel</td>\n",
       "      <td>1498</td>\n",
       "      <td>13.50</td>\n",
       "      <td>18</td>\n",
       "      <td>83.250000</td>\n",
       "    </tr>\n",
       "    <tr>\n",
       "      <th>413940</th>\n",
       "      <td>WYOMING</td>\n",
       "      <td>Captain Morgan Original Spiced</td>\n",
       "      <td>992</td>\n",
       "      <td>58.50</td>\n",
       "      <td>66</td>\n",
       "      <td>19.280000</td>\n",
       "    </tr>\n",
       "    <tr>\n",
       "      <th>270366</th>\n",
       "      <td>MURRAY</td>\n",
       "      <td>Black Velvet</td>\n",
       "      <td>896</td>\n",
       "      <td>92.87</td>\n",
       "      <td>94</td>\n",
       "      <td>9.758947</td>\n",
       "    </tr>\n",
       "    <tr>\n",
       "      <th>10645</th>\n",
       "      <td>ALVORD</td>\n",
       "      <td>Captain Morgan Spiced Rum</td>\n",
       "      <td>350</td>\n",
       "      <td>22.50</td>\n",
       "      <td>18</td>\n",
       "      <td>20.985000</td>\n",
       "    </tr>\n",
       "    <tr>\n",
       "      <th>88673</th>\n",
       "      <td>COLORADO SPRINGS</td>\n",
       "      <td>Adelaides Caramel Mocha Mojo</td>\n",
       "      <td>15</td>\n",
       "      <td>4.50</td>\n",
       "      <td>6</td>\n",
       "      <td>15.570000</td>\n",
       "    </tr>\n",
       "  </tbody>\n",
       "</table>\n",
       "<p>457 rows × 6 columns</p>\n",
       "</div>"
      ],
      "text/plain": [
       "                    city                      item_description  sale_dollars  \\\n",
       "120610        DES MOINES             Fireball Cinnamon Whiskey      11145639   \n",
       "62548       CEDAR RAPIDS                          Black Velvet       6044404   \n",
       "381277          WATERLOO                           Hennessy VS       4151918   \n",
       "402860   WEST DES MOINES                  Titos Handmade Vodka       4020999   \n",
       "108822         DAVENPORT                           Hennessy VS       3862551   \n",
       "...                  ...                                   ...           ...   \n",
       "6490            ALLERTON  SOOH Michters 10YR Old Single Barrel          1498   \n",
       "413940           WYOMING        Captain Morgan Original Spiced           992   \n",
       "270366            MURRAY                          Black Velvet           896   \n",
       "10645             ALVORD             Captain Morgan Spiced Rum           350   \n",
       "88673   COLORADO SPRINGS          Adelaides Caramel Mocha Mojo            15   \n",
       "\n",
       "        volume_sold_liters  bottles_sold  state_bottle_retail  \n",
       "120610           723445.03       1002508            13.334032  \n",
       "62548            648603.86        603380             8.732476  \n",
       "381277            99402.54        331500            15.123313  \n",
       "402860           231464.47        201233            18.345245  \n",
       "108822            92008.11        282549            15.166241  \n",
       "...                    ...           ...                  ...  \n",
       "6490                 13.50            18            83.250000  \n",
       "413940               58.50            66            19.280000  \n",
       "270366               92.87            94             9.758947  \n",
       "10645                22.50            18            20.985000  \n",
       "88673                 4.50             6            15.570000  \n",
       "\n",
       "[457 rows x 6 columns]"
      ]
     },
     "execution_count": 78,
     "metadata": {},
     "output_type": "execute_result"
    }
   ],
   "source": [
    "df.groupby(['city','item_description'],as_index=False) \\\n",
    "    .agg({'sale_dollars':'sum', 'volume_sold_liters':'sum', 'bottles_sold':'sum', 'state_bottle_retail':'mean'}) \\\n",
    "    .sort_values(['sale_dollars'], ascending =False) \\\n",
    "    .astype({'sale_dollars': 'int'}) \\\n",
    "    .groupby('city') \\\n",
    "    .head(1)\n",
    "\n",
    "# favorite items "
   ]
  },
  {
   "cell_type": "code",
   "execution_count": 79,
   "metadata": {},
   "outputs": [
    {
     "data": {
      "text/html": [
       "<div>\n",
       "<style scoped>\n",
       "    .dataframe tbody tr th:only-of-type {\n",
       "        vertical-align: middle;\n",
       "    }\n",
       "\n",
       "    .dataframe tbody tr th {\n",
       "        vertical-align: top;\n",
       "    }\n",
       "\n",
       "    .dataframe thead th {\n",
       "        text-align: right;\n",
       "    }\n",
       "</style>\n",
       "<table border=\"1\" class=\"dataframe\">\n",
       "  <thead>\n",
       "    <tr style=\"text-align: right;\">\n",
       "      <th></th>\n",
       "      <th>year</th>\n",
       "      <th>item_description</th>\n",
       "      <th>sale_dollars</th>\n",
       "      <th>volume_sold_liters</th>\n",
       "      <th>bottles_sold</th>\n",
       "      <th>state_bottle_retail</th>\n",
       "    </tr>\n",
       "  </thead>\n",
       "  <tbody>\n",
       "    <tr>\n",
       "      <th>17636</th>\n",
       "      <td>2019</td>\n",
       "      <td>Titos Handmade Vodka</td>\n",
       "      <td>2561407</td>\n",
       "      <td>136504.43</td>\n",
       "      <td>142394</td>\n",
       "      <td>15.922595</td>\n",
       "    </tr>\n",
       "    <tr>\n",
       "      <th>14989</th>\n",
       "      <td>2018</td>\n",
       "      <td>Titos Handmade Vodka</td>\n",
       "      <td>2188945</td>\n",
       "      <td>117639.91</td>\n",
       "      <td>119089</td>\n",
       "      <td>16.770853</td>\n",
       "    </tr>\n",
       "    <tr>\n",
       "      <th>18877</th>\n",
       "      <td>2020</td>\n",
       "      <td>Hennessy VS</td>\n",
       "      <td>1895048</td>\n",
       "      <td>44851.29</td>\n",
       "      <td>100637</td>\n",
       "      <td>22.357364</td>\n",
       "    </tr>\n",
       "    <tr>\n",
       "      <th>4453</th>\n",
       "      <td>2014</td>\n",
       "      <td>Fireball Cinnamon Whiskey</td>\n",
       "      <td>1647189</td>\n",
       "      <td>107405.16</td>\n",
       "      <td>94660</td>\n",
       "      <td>15.558951</td>\n",
       "    </tr>\n",
       "    <tr>\n",
       "      <th>12296</th>\n",
       "      <td>2017</td>\n",
       "      <td>Titos Handmade Vodka</td>\n",
       "      <td>1623511</td>\n",
       "      <td>90464.95</td>\n",
       "      <td>90560</td>\n",
       "      <td>18.120370</td>\n",
       "    </tr>\n",
       "    <tr>\n",
       "      <th>2484</th>\n",
       "      <td>2013</td>\n",
       "      <td>Fireball Cinnamon Whiskey</td>\n",
       "      <td>1454305</td>\n",
       "      <td>93186.53</td>\n",
       "      <td>87206</td>\n",
       "      <td>14.239603</td>\n",
       "    </tr>\n",
       "    <tr>\n",
       "      <th>6548</th>\n",
       "      <td>2015</td>\n",
       "      <td>Fireball Cinnamon Whiskey</td>\n",
       "      <td>1390053</td>\n",
       "      <td>91066.05</td>\n",
       "      <td>80713</td>\n",
       "      <td>15.919987</td>\n",
       "    </tr>\n",
       "    <tr>\n",
       "      <th>8712</th>\n",
       "      <td>2016</td>\n",
       "      <td>Fireball Cinnamon Whiskey</td>\n",
       "      <td>1289706</td>\n",
       "      <td>83207.95</td>\n",
       "      <td>79884</td>\n",
       "      <td>14.435145</td>\n",
       "    </tr>\n",
       "    <tr>\n",
       "      <th>341</th>\n",
       "      <td>2012</td>\n",
       "      <td>Captain Morgan Spiced Rum</td>\n",
       "      <td>1272212</td>\n",
       "      <td>76085.86</td>\n",
       "      <td>79653</td>\n",
       "      <td>15.971489</td>\n",
       "    </tr>\n",
       "  </tbody>\n",
       "</table>\n",
       "</div>"
      ],
      "text/plain": [
       "       year           item_description  sale_dollars  volume_sold_liters  \\\n",
       "17636  2019       Titos Handmade Vodka       2561407           136504.43   \n",
       "14989  2018       Titos Handmade Vodka       2188945           117639.91   \n",
       "18877  2020                Hennessy VS       1895048            44851.29   \n",
       "4453   2014  Fireball Cinnamon Whiskey       1647189           107405.16   \n",
       "12296  2017       Titos Handmade Vodka       1623511            90464.95   \n",
       "2484   2013  Fireball Cinnamon Whiskey       1454305            93186.53   \n",
       "6548   2015  Fireball Cinnamon Whiskey       1390053            91066.05   \n",
       "8712   2016  Fireball Cinnamon Whiskey       1289706            83207.95   \n",
       "341    2012  Captain Morgan Spiced Rum       1272212            76085.86   \n",
       "\n",
       "       bottles_sold  state_bottle_retail  \n",
       "17636        142394            15.922595  \n",
       "14989        119089            16.770853  \n",
       "18877        100637            22.357364  \n",
       "4453          94660            15.558951  \n",
       "12296         90560            18.120370  \n",
       "2484          87206            14.239603  \n",
       "6548          80713            15.919987  \n",
       "8712          79884            14.435145  \n",
       "341           79653            15.971489  "
      ]
     },
     "execution_count": 79,
     "metadata": {},
     "output_type": "execute_result"
    }
   ],
   "source": [
    "df[df.city=='DES MOINES'].groupby(['year','item_description'],as_index=False) \\\n",
    "    .agg({'sale_dollars':'sum', 'volume_sold_liters':'sum', 'bottles_sold':'sum', 'state_bottle_retail':'mean'}) \\\n",
    "    .sort_values(['sale_dollars'], ascending =False) \\\n",
    "    .astype({'sale_dollars': 'int'}) \\\n",
    "    .groupby('year') \\\n",
    "    .head(1)\n",
    "\n",
    "# In 'DES MOINES' new favorite drink \"Hennessy VS\""
   ]
  },
  {
   "cell_type": "code",
   "execution_count": 80,
   "metadata": {},
   "outputs": [
    {
     "data": {
      "text/html": [
       "<div>\n",
       "<style scoped>\n",
       "    .dataframe tbody tr th:only-of-type {\n",
       "        vertical-align: middle;\n",
       "    }\n",
       "\n",
       "    .dataframe tbody tr th {\n",
       "        vertical-align: top;\n",
       "    }\n",
       "\n",
       "    .dataframe thead th {\n",
       "        text-align: right;\n",
       "    }\n",
       "</style>\n",
       "<table border=\"1\" class=\"dataframe\">\n",
       "  <thead>\n",
       "    <tr style=\"text-align: right;\">\n",
       "      <th></th>\n",
       "      <th>month</th>\n",
       "      <th>sale_dollars</th>\n",
       "      <th>volume_sold_liters</th>\n",
       "      <th>bottles_sold</th>\n",
       "      <th>state_bottle_retail</th>\n",
       "    </tr>\n",
       "  </thead>\n",
       "  <tbody>\n",
       "    <tr>\n",
       "      <th>11</th>\n",
       "      <td>12</td>\n",
       "      <td>247095718</td>\n",
       "      <td>15773595</td>\n",
       "      <td>18070865</td>\n",
       "      <td>15.455966</td>\n",
       "    </tr>\n",
       "    <tr>\n",
       "      <th>9</th>\n",
       "      <td>10</td>\n",
       "      <td>244474948</td>\n",
       "      <td>16239196</td>\n",
       "      <td>17936748</td>\n",
       "      <td>15.030111</td>\n",
       "    </tr>\n",
       "    <tr>\n",
       "      <th>5</th>\n",
       "      <td>6</td>\n",
       "      <td>242539947</td>\n",
       "      <td>16532965</td>\n",
       "      <td>18553982</td>\n",
       "      <td>14.891487</td>\n",
       "    </tr>\n",
       "    <tr>\n",
       "      <th>4</th>\n",
       "      <td>5</td>\n",
       "      <td>237076671</td>\n",
       "      <td>16617988</td>\n",
       "      <td>18336945</td>\n",
       "      <td>14.900896</td>\n",
       "    </tr>\n",
       "    <tr>\n",
       "      <th>7</th>\n",
       "      <td>8</td>\n",
       "      <td>231147158</td>\n",
       "      <td>15630704</td>\n",
       "      <td>17878815</td>\n",
       "      <td>14.860512</td>\n",
       "    </tr>\n",
       "    <tr>\n",
       "      <th>6</th>\n",
       "      <td>7</td>\n",
       "      <td>226325258</td>\n",
       "      <td>15587398</td>\n",
       "      <td>17602272</td>\n",
       "      <td>14.775675</td>\n",
       "    </tr>\n",
       "    <tr>\n",
       "      <th>8</th>\n",
       "      <td>9</td>\n",
       "      <td>223317709</td>\n",
       "      <td>14910230</td>\n",
       "      <td>16862743</td>\n",
       "      <td>14.994593</td>\n",
       "    </tr>\n",
       "    <tr>\n",
       "      <th>3</th>\n",
       "      <td>4</td>\n",
       "      <td>219500956</td>\n",
       "      <td>15195861</td>\n",
       "      <td>17055667</td>\n",
       "      <td>14.840674</td>\n",
       "    </tr>\n",
       "    <tr>\n",
       "      <th>2</th>\n",
       "      <td>3</td>\n",
       "      <td>208748600</td>\n",
       "      <td>14075649</td>\n",
       "      <td>16175419</td>\n",
       "      <td>14.791997</td>\n",
       "    </tr>\n",
       "    <tr>\n",
       "      <th>1</th>\n",
       "      <td>2</td>\n",
       "      <td>195897251</td>\n",
       "      <td>13706378</td>\n",
       "      <td>15090154</td>\n",
       "      <td>14.683722</td>\n",
       "    </tr>\n",
       "    <tr>\n",
       "      <th>10</th>\n",
       "      <td>11</td>\n",
       "      <td>193891520</td>\n",
       "      <td>12650923</td>\n",
       "      <td>14711419</td>\n",
       "      <td>15.094404</td>\n",
       "    </tr>\n",
       "    <tr>\n",
       "      <th>0</th>\n",
       "      <td>1</td>\n",
       "      <td>182257095</td>\n",
       "      <td>12633279</td>\n",
       "      <td>14584310</td>\n",
       "      <td>14.610668</td>\n",
       "    </tr>\n",
       "  </tbody>\n",
       "</table>\n",
       "</div>"
      ],
      "text/plain": [
       "    month  sale_dollars  volume_sold_liters  bottles_sold  state_bottle_retail\n",
       "11     12     247095718            15773595      18070865            15.455966\n",
       "9      10     244474948            16239196      17936748            15.030111\n",
       "5       6     242539947            16532965      18553982            14.891487\n",
       "4       5     237076671            16617988      18336945            14.900896\n",
       "7       8     231147158            15630704      17878815            14.860512\n",
       "6       7     226325258            15587398      17602272            14.775675\n",
       "8       9     223317709            14910230      16862743            14.994593\n",
       "3       4     219500956            15195861      17055667            14.840674\n",
       "2       3     208748600            14075649      16175419            14.791997\n",
       "1       2     195897251            13706378      15090154            14.683722\n",
       "10     11     193891520            12650923      14711419            15.094404\n",
       "0       1     182257095            12633279      14584310            14.610668"
      ]
     },
     "execution_count": 80,
     "metadata": {},
     "output_type": "execute_result"
    }
   ],
   "source": [
    "df_month = df.groupby(['month'],as_index=False) \\\n",
    "        .agg({'sale_dollars':'sum', 'volume_sold_liters':'sum', 'bottles_sold':'sum', 'state_bottle_retail':'mean'}) \\\n",
    "    .sort_values(['sale_dollars'], ascending =False) \\\n",
    "    .astype({'sale_dollars': 'int','volume_sold_liters': 'int'}) \n",
    "\n",
    "# The largest sales of alcohol are in 12 and 10 months\n",
    "df_month"
   ]
  },
  {
   "cell_type": "code",
   "execution_count": 81,
   "metadata": {},
   "outputs": [
    {
     "data": {
      "text/html": [
       "<div>\n",
       "<style scoped>\n",
       "    .dataframe tbody tr th:only-of-type {\n",
       "        vertical-align: middle;\n",
       "    }\n",
       "\n",
       "    .dataframe tbody tr th {\n",
       "        vertical-align: top;\n",
       "    }\n",
       "\n",
       "    .dataframe thead th {\n",
       "        text-align: right;\n",
       "    }\n",
       "</style>\n",
       "<table border=\"1\" class=\"dataframe\">\n",
       "  <thead>\n",
       "    <tr style=\"text-align: right;\">\n",
       "      <th></th>\n",
       "      <th>week_day</th>\n",
       "      <th>sale_dollars</th>\n",
       "      <th>volume_sold_liters</th>\n",
       "      <th>bottles_sold</th>\n",
       "      <th>state_bottle_retail</th>\n",
       "    </tr>\n",
       "  </thead>\n",
       "  <tbody>\n",
       "    <tr>\n",
       "      <th>1</th>\n",
       "      <td>Monday</td>\n",
       "      <td>629057988</td>\n",
       "      <td>42303045</td>\n",
       "      <td>47881357</td>\n",
       "      <td>14.934526</td>\n",
       "    </tr>\n",
       "    <tr>\n",
       "      <th>6</th>\n",
       "      <td>Wednesday</td>\n",
       "      <td>612163616</td>\n",
       "      <td>41816216</td>\n",
       "      <td>46246701</td>\n",
       "      <td>15.021901</td>\n",
       "    </tr>\n",
       "    <tr>\n",
       "      <th>5</th>\n",
       "      <td>Tuesday</td>\n",
       "      <td>585429439</td>\n",
       "      <td>40394950</td>\n",
       "      <td>45427701</td>\n",
       "      <td>14.687506</td>\n",
       "    </tr>\n",
       "    <tr>\n",
       "      <th>4</th>\n",
       "      <td>Thursday</td>\n",
       "      <td>555379061</td>\n",
       "      <td>36772001</td>\n",
       "      <td>42090996</td>\n",
       "      <td>14.971556</td>\n",
       "    </tr>\n",
       "    <tr>\n",
       "      <th>0</th>\n",
       "      <td>Friday</td>\n",
       "      <td>252792027</td>\n",
       "      <td>17071532</td>\n",
       "      <td>19886451</td>\n",
       "      <td>15.052932</td>\n",
       "    </tr>\n",
       "    <tr>\n",
       "      <th>2</th>\n",
       "      <td>Saturday</td>\n",
       "      <td>17326659</td>\n",
       "      <td>1188338</td>\n",
       "      <td>1316771</td>\n",
       "      <td>14.924084</td>\n",
       "    </tr>\n",
       "    <tr>\n",
       "      <th>3</th>\n",
       "      <td>Sunday</td>\n",
       "      <td>124044</td>\n",
       "      <td>8087</td>\n",
       "      <td>9362</td>\n",
       "      <td>17.958589</td>\n",
       "    </tr>\n",
       "  </tbody>\n",
       "</table>\n",
       "</div>"
      ],
      "text/plain": [
       "    week_day  sale_dollars  volume_sold_liters  bottles_sold  \\\n",
       "1     Monday     629057988            42303045      47881357   \n",
       "6  Wednesday     612163616            41816216      46246701   \n",
       "5    Tuesday     585429439            40394950      45427701   \n",
       "4   Thursday     555379061            36772001      42090996   \n",
       "0     Friday     252792027            17071532      19886451   \n",
       "2   Saturday      17326659             1188338       1316771   \n",
       "3     Sunday        124044                8087          9362   \n",
       "\n",
       "   state_bottle_retail  \n",
       "1            14.934526  \n",
       "6            15.021901  \n",
       "5            14.687506  \n",
       "4            14.971556  \n",
       "0            15.052932  \n",
       "2            14.924084  \n",
       "3            17.958589  "
      ]
     },
     "execution_count": 81,
     "metadata": {},
     "output_type": "execute_result"
    }
   ],
   "source": [
    "dict_day = {0:\"Monday\",1:\"Tuesday\",2:\"Wednesday\",3:\"Thursday\",4:\"Friday\",5:\"Saturday\",6:\"Sunday\"}\n",
    "df['week_day'] = df.date.dt.dayofweek.apply(lambda x: dict_day[x])\n",
    "\n",
    "df.groupby(['week_day'] ,as_index=False) \\\n",
    "        .agg({'sale_dollars':'sum', 'volume_sold_liters':'sum', 'bottles_sold':'sum',  'state_bottle_retail':'mean'}) \\\n",
    "    .sort_values(['sale_dollars'], ascending =False) \\\n",
    "    .astype({'sale_dollars': 'int','volume_sold_liters': 'int'}) \n",
    "\n",
    "# There seems alcohol sell the most Monday - Thursday, and see sales fall Friday and Sunday."
   ]
  },
  {
   "cell_type": "code",
   "execution_count": 82,
   "metadata": {},
   "outputs": [
    {
     "data": {
      "text/html": [
       "<div>\n",
       "<style scoped>\n",
       "    .dataframe tbody tr th:only-of-type {\n",
       "        vertical-align: middle;\n",
       "    }\n",
       "\n",
       "    .dataframe tbody tr th {\n",
       "        vertical-align: top;\n",
       "    }\n",
       "\n",
       "    .dataframe thead th {\n",
       "        text-align: right;\n",
       "    }\n",
       "</style>\n",
       "<table border=\"1\" class=\"dataframe\">\n",
       "  <thead>\n",
       "    <tr style=\"text-align: right;\">\n",
       "      <th></th>\n",
       "      <th>year</th>\n",
       "      <th>sale_dollars</th>\n",
       "      <th>volume_sold_liters</th>\n",
       "      <th>bottles_sold</th>\n",
       "      <th>state_bottle_retail</th>\n",
       "    </tr>\n",
       "  </thead>\n",
       "  <tbody>\n",
       "    <tr>\n",
       "      <th>7</th>\n",
       "      <td>2019</td>\n",
       "      <td>349220341</td>\n",
       "      <td>22301422</td>\n",
       "      <td>26844339</td>\n",
       "      <td>15.518881</td>\n",
       "    </tr>\n",
       "    <tr>\n",
       "      <th>6</th>\n",
       "      <td>2018</td>\n",
       "      <td>334231075</td>\n",
       "      <td>21895982</td>\n",
       "      <td>25435040</td>\n",
       "      <td>15.288400</td>\n",
       "    </tr>\n",
       "    <tr>\n",
       "      <th>5</th>\n",
       "      <td>2017</td>\n",
       "      <td>314554185</td>\n",
       "      <td>21096850</td>\n",
       "      <td>23990017</td>\n",
       "      <td>15.144977</td>\n",
       "    </tr>\n",
       "    <tr>\n",
       "      <th>4</th>\n",
       "      <td>2016</td>\n",
       "      <td>299466020</td>\n",
       "      <td>20300264</td>\n",
       "      <td>22670318</td>\n",
       "      <td>15.010384</td>\n",
       "    </tr>\n",
       "    <tr>\n",
       "      <th>3</th>\n",
       "      <td>2015</td>\n",
       "      <td>284328572</td>\n",
       "      <td>19617702</td>\n",
       "      <td>21572443</td>\n",
       "      <td>14.742391</td>\n",
       "    </tr>\n",
       "    <tr>\n",
       "      <th>2</th>\n",
       "      <td>2014</td>\n",
       "      <td>270587651</td>\n",
       "      <td>19157612</td>\n",
       "      <td>20666247</td>\n",
       "      <td>14.445170</td>\n",
       "    </tr>\n",
       "    <tr>\n",
       "      <th>0</th>\n",
       "      <td>2012</td>\n",
       "      <td>255203539</td>\n",
       "      <td>18755279</td>\n",
       "      <td>19917404</td>\n",
       "      <td>13.785409</td>\n",
       "    </tr>\n",
       "    <tr>\n",
       "      <th>1</th>\n",
       "      <td>2013</td>\n",
       "      <td>258103792</td>\n",
       "      <td>18576450</td>\n",
       "      <td>19934692</td>\n",
       "      <td>14.113130</td>\n",
       "    </tr>\n",
       "    <tr>\n",
       "      <th>8</th>\n",
       "      <td>2020</td>\n",
       "      <td>286577658</td>\n",
       "      <td>17852609</td>\n",
       "      <td>21828839</td>\n",
       "      <td>16.108049</td>\n",
       "    </tr>\n",
       "  </tbody>\n",
       "</table>\n",
       "</div>"
      ],
      "text/plain": [
       "   year  sale_dollars  volume_sold_liters  bottles_sold  state_bottle_retail\n",
       "7  2019     349220341            22301422      26844339            15.518881\n",
       "6  2018     334231075            21895982      25435040            15.288400\n",
       "5  2017     314554185            21096850      23990017            15.144977\n",
       "4  2016     299466020            20300264      22670318            15.010384\n",
       "3  2015     284328572            19617702      21572443            14.742391\n",
       "2  2014     270587651            19157612      20666247            14.445170\n",
       "0  2012     255203539            18755279      19917404            13.785409\n",
       "1  2013     258103792            18576450      19934692            14.113130\n",
       "8  2020     286577658            17852609      21828839            16.108049"
      ]
     },
     "execution_count": 82,
     "metadata": {},
     "output_type": "execute_result"
    }
   ],
   "source": [
    "df_year = df.groupby(['year'] ,as_index=False) \\\n",
    "    .agg({'sale_dollars':'sum', 'volume_sold_liters':'sum', 'bottles_sold':'sum',  'state_bottle_retail':'mean'}) \\\n",
    "    .sort_values(['volume_sold_liters'], ascending =False) \\\n",
    "    .astype({'sale_dollars': 'int','volume_sold_liters': 'int'})\n",
    "df_year"
   ]
  },
  {
   "cell_type": "code",
   "execution_count": 83,
   "metadata": {},
   "outputs": [
    {
     "data": {
      "text/plain": [
       "<matplotlib.axes._subplots.AxesSubplot at 0x2009863b9d0>"
      ]
     },
     "execution_count": 83,
     "metadata": {},
     "output_type": "execute_result"
    },
    {
     "data": {
      "image/png": "[encoded data removed]",
      "text/plain": [
       "<Figure size 864x360 with 1 Axes>"
      ]
     },
     "metadata": {
      "needs_background": "light"
     },
     "output_type": "display_data"
    }
   ],
   "source": [
    "plt.figure(figsize=(12,5))\n",
    "sns.barplot(x='year',y='sale_dollars',data=df_year)\n",
    "\n",
    "#  We can see a trend of sales growth, but in 2020 quarantine changed the statistics"
   ]
  },
  {
   "cell_type": "markdown",
   "metadata": {},
   "source": [
    "### So, this is basic information from the data, of course, we can choose a narrower direction and develop it, depending on the problem we seek to solve."
   ]
  },
  {
   "cell_type": "code",
   "execution_count": null,
   "metadata": {},
   "outputs": [],
   "source": []
  }
 ],
 "metadata": {
  "kernelspec": {
   "display_name": "Python 3",
   "language": "python",
   "name": "python3"
  },
  "language_info": {
   "codemirror_mode": {
    "name": "ipython",
    "version": 3
   },
   "file_extension": ".py",
   "mimetype": "text/x-python",
   "name": "python",
   "nbconvert_exporter": "python",
   "pygments_lexer": "ipython3",
   "version": "3.8.3"
  }
 },
 "nbformat": 4,
 "nbformat_minor": 4
}
